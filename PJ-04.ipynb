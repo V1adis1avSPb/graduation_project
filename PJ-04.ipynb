{
 "cells": [
  {
   "cell_type": "markdown",
   "metadata": {},
   "source": [
    "# 0. Чтение данных и базовое ознакомление"
   ]
  },
  {
   "cell_type": "code",
   "execution_count": 1,
   "metadata": {},
   "outputs": [],
   "source": [
    "# импортируем необходимые библиотеки\n",
    "import pandas as pd\n",
    "import numpy as np\n",
    "from sklearn.preprocessing import LabelEncoder"
   ]
  },
  {
   "cell_type": "code",
   "execution_count": 2,
   "metadata": {},
   "outputs": [],
   "source": [
    "# считываем данные\n",
    "df = pd.read_csv('data/data.csv')"
   ]
  },
  {
   "cell_type": "code",
   "execution_count": 3,
   "metadata": {},
   "outputs": [
    {
     "name": "stdout",
     "output_type": "stream",
     "text": [
      "размерность датасета:  (377185, 18)\n"
     ]
    },
    {
     "data": {
      "text/html": [
       "<div>\n",
       "<style scoped>\n",
       "    .dataframe tbody tr th:only-of-type {\n",
       "        vertical-align: middle;\n",
       "    }\n",
       "\n",
       "    .dataframe tbody tr th {\n",
       "        vertical-align: top;\n",
       "    }\n",
       "\n",
       "    .dataframe thead th {\n",
       "        text-align: right;\n",
       "    }\n",
       "</style>\n",
       "<table border=\"1\" class=\"dataframe\">\n",
       "  <thead>\n",
       "    <tr style=\"text-align: right;\">\n",
       "      <th></th>\n",
       "      <th>status</th>\n",
       "      <th>private pool</th>\n",
       "      <th>propertyType</th>\n",
       "      <th>street</th>\n",
       "      <th>baths</th>\n",
       "      <th>homeFacts</th>\n",
       "      <th>fireplace</th>\n",
       "      <th>city</th>\n",
       "      <th>schools</th>\n",
       "      <th>sqft</th>\n",
       "      <th>zipcode</th>\n",
       "      <th>beds</th>\n",
       "      <th>state</th>\n",
       "      <th>stories</th>\n",
       "      <th>mls-id</th>\n",
       "      <th>PrivatePool</th>\n",
       "      <th>MlsId</th>\n",
       "      <th>target</th>\n",
       "    </tr>\n",
       "  </thead>\n",
       "  <tbody>\n",
       "    <tr>\n",
       "      <th>0</th>\n",
       "      <td>Active</td>\n",
       "      <td>NaN</td>\n",
       "      <td>Single Family Home</td>\n",
       "      <td>240 Heather Ln</td>\n",
       "      <td>3.5</td>\n",
       "      <td>{'atAGlanceFacts': [{'factValue': '2019', 'fac...</td>\n",
       "      <td>Gas Logs</td>\n",
       "      <td>Southern Pines</td>\n",
       "      <td>[{'rating': ['4', '4', '7', 'NR', '4', '7', 'N...</td>\n",
       "      <td>2900</td>\n",
       "      <td>28387</td>\n",
       "      <td>4</td>\n",
       "      <td>NC</td>\n",
       "      <td>NaN</td>\n",
       "      <td>NaN</td>\n",
       "      <td>NaN</td>\n",
       "      <td>611019</td>\n",
       "      <td>$418,000</td>\n",
       "    </tr>\n",
       "    <tr>\n",
       "      <th>1</th>\n",
       "      <td>for sale</td>\n",
       "      <td>NaN</td>\n",
       "      <td>single-family home</td>\n",
       "      <td>12911 E Heroy Ave</td>\n",
       "      <td>3 Baths</td>\n",
       "      <td>{'atAGlanceFacts': [{'factValue': '2019', 'fac...</td>\n",
       "      <td>NaN</td>\n",
       "      <td>Spokane Valley</td>\n",
       "      <td>[{'rating': ['4/10', 'None/10', '4/10'], 'data...</td>\n",
       "      <td>1,947 sqft</td>\n",
       "      <td>99216</td>\n",
       "      <td>3 Beds</td>\n",
       "      <td>WA</td>\n",
       "      <td>2.0</td>\n",
       "      <td>NaN</td>\n",
       "      <td>NaN</td>\n",
       "      <td>201916904</td>\n",
       "      <td>$310,000</td>\n",
       "    </tr>\n",
       "    <tr>\n",
       "      <th>2</th>\n",
       "      <td>for sale</td>\n",
       "      <td>NaN</td>\n",
       "      <td>single-family home</td>\n",
       "      <td>2005 Westridge Rd</td>\n",
       "      <td>2 Baths</td>\n",
       "      <td>{'atAGlanceFacts': [{'factValue': '1961', 'fac...</td>\n",
       "      <td>yes</td>\n",
       "      <td>Los Angeles</td>\n",
       "      <td>[{'rating': ['8/10', '4/10', '8/10'], 'data': ...</td>\n",
       "      <td>3,000 sqft</td>\n",
       "      <td>90049</td>\n",
       "      <td>3 Beds</td>\n",
       "      <td>CA</td>\n",
       "      <td>1.0</td>\n",
       "      <td>NaN</td>\n",
       "      <td>yes</td>\n",
       "      <td>FR19221027</td>\n",
       "      <td>$2,895,000</td>\n",
       "    </tr>\n",
       "    <tr>\n",
       "      <th>3</th>\n",
       "      <td>for sale</td>\n",
       "      <td>NaN</td>\n",
       "      <td>single-family home</td>\n",
       "      <td>4311 Livingston Ave</td>\n",
       "      <td>8 Baths</td>\n",
       "      <td>{'atAGlanceFacts': [{'factValue': '2006', 'fac...</td>\n",
       "      <td>yes</td>\n",
       "      <td>Dallas</td>\n",
       "      <td>[{'rating': ['9/10', '9/10', '10/10', '9/10'],...</td>\n",
       "      <td>6,457 sqft</td>\n",
       "      <td>75205</td>\n",
       "      <td>5 Beds</td>\n",
       "      <td>TX</td>\n",
       "      <td>3.0</td>\n",
       "      <td>NaN</td>\n",
       "      <td>NaN</td>\n",
       "      <td>14191809</td>\n",
       "      <td>$2,395,000</td>\n",
       "    </tr>\n",
       "    <tr>\n",
       "      <th>4</th>\n",
       "      <td>for sale</td>\n",
       "      <td>NaN</td>\n",
       "      <td>lot/land</td>\n",
       "      <td>1524 Kiscoe St</td>\n",
       "      <td>NaN</td>\n",
       "      <td>{'atAGlanceFacts': [{'factValue': '', 'factLab...</td>\n",
       "      <td>NaN</td>\n",
       "      <td>Palm Bay</td>\n",
       "      <td>[{'rating': ['4/10', '5/10', '5/10'], 'data': ...</td>\n",
       "      <td>NaN</td>\n",
       "      <td>32908</td>\n",
       "      <td>NaN</td>\n",
       "      <td>FL</td>\n",
       "      <td>NaN</td>\n",
       "      <td>NaN</td>\n",
       "      <td>NaN</td>\n",
       "      <td>861745</td>\n",
       "      <td>$5,000</td>\n",
       "    </tr>\n",
       "  </tbody>\n",
       "</table>\n",
       "</div>"
      ],
      "text/plain": [
       "     status private pool        propertyType               street    baths  \\\n",
       "0    Active          NaN  Single Family Home       240 Heather Ln      3.5   \n",
       "1  for sale          NaN  single-family home    12911 E Heroy Ave  3 Baths   \n",
       "2  for sale          NaN  single-family home    2005 Westridge Rd  2 Baths   \n",
       "3  for sale          NaN  single-family home  4311 Livingston Ave  8 Baths   \n",
       "4  for sale          NaN            lot/land       1524 Kiscoe St      NaN   \n",
       "\n",
       "                                           homeFacts fireplace  \\\n",
       "0  {'atAGlanceFacts': [{'factValue': '2019', 'fac...  Gas Logs   \n",
       "1  {'atAGlanceFacts': [{'factValue': '2019', 'fac...       NaN   \n",
       "2  {'atAGlanceFacts': [{'factValue': '1961', 'fac...       yes   \n",
       "3  {'atAGlanceFacts': [{'factValue': '2006', 'fac...       yes   \n",
       "4  {'atAGlanceFacts': [{'factValue': '', 'factLab...       NaN   \n",
       "\n",
       "             city                                            schools  \\\n",
       "0  Southern Pines  [{'rating': ['4', '4', '7', 'NR', '4', '7', 'N...   \n",
       "1  Spokane Valley  [{'rating': ['4/10', 'None/10', '4/10'], 'data...   \n",
       "2     Los Angeles  [{'rating': ['8/10', '4/10', '8/10'], 'data': ...   \n",
       "3          Dallas  [{'rating': ['9/10', '9/10', '10/10', '9/10'],...   \n",
       "4        Palm Bay  [{'rating': ['4/10', '5/10', '5/10'], 'data': ...   \n",
       "\n",
       "         sqft zipcode    beds state stories mls-id PrivatePool       MlsId  \\\n",
       "0        2900   28387       4    NC     NaN    NaN         NaN      611019   \n",
       "1  1,947 sqft   99216  3 Beds    WA     2.0    NaN         NaN   201916904   \n",
       "2  3,000 sqft   90049  3 Beds    CA     1.0    NaN         yes  FR19221027   \n",
       "3  6,457 sqft   75205  5 Beds    TX     3.0    NaN         NaN    14191809   \n",
       "4         NaN   32908     NaN    FL     NaN    NaN         NaN      861745   \n",
       "\n",
       "       target  \n",
       "0    $418,000  \n",
       "1    $310,000  \n",
       "2  $2,895,000  \n",
       "3  $2,395,000  \n",
       "4      $5,000  "
      ]
     },
     "execution_count": 3,
     "metadata": {},
     "output_type": "execute_result"
    }
   ],
   "source": [
    "# выясним размерность датасета\n",
    "print('размерность датасета: ',df.shape)\n",
    "# проверим корректность загрузки и ознакомимся с полями\n",
    "df.head()"
   ]
  },
  {
   "cell_type": "code",
   "execution_count": 4,
   "metadata": {},
   "outputs": [
    {
     "name": "stdout",
     "output_type": "stream",
     "text": [
      "<class 'pandas.core.frame.DataFrame'>\n",
      "RangeIndex: 377185 entries, 0 to 377184\n",
      "Data columns (total 18 columns):\n",
      " #   Column        Non-Null Count   Dtype \n",
      "---  ------        --------------   ----- \n",
      " 0   status        337267 non-null  object\n",
      " 1   private pool  4181 non-null    object\n",
      " 2   propertyType  342452 non-null  object\n",
      " 3   street        377183 non-null  object\n",
      " 4   baths         270847 non-null  object\n",
      " 5   homeFacts     377185 non-null  object\n",
      " 6   fireplace     103115 non-null  object\n",
      " 7   city          377151 non-null  object\n",
      " 8   schools       377185 non-null  object\n",
      " 9   sqft          336608 non-null  object\n",
      " 10  zipcode       377185 non-null  object\n",
      " 11  beds          285903 non-null  object\n",
      " 12  state         377185 non-null  object\n",
      " 13  stories       226470 non-null  object\n",
      " 14  mls-id        24942 non-null   object\n",
      " 15  PrivatePool   40311 non-null   object\n",
      " 16  MlsId         310305 non-null  object\n",
      " 17  target        374704 non-null  object\n",
      "dtypes: object(18)\n",
      "memory usage: 51.8+ MB\n"
     ]
    }
   ],
   "source": [
    "# оценим количество пропусков и типы данных\n",
    "df.info()"
   ]
  },
  {
   "cell_type": "code",
   "execution_count": 5,
   "metadata": {},
   "outputs": [
    {
     "data": {
      "text/plain": [
       "status           39918\n",
       "private pool    373004\n",
       "propertyType     34733\n",
       "street               2\n",
       "baths           106338\n",
       "homeFacts            0\n",
       "fireplace       274070\n",
       "city                34\n",
       "schools              0\n",
       "sqft             40577\n",
       "zipcode              0\n",
       "beds             91282\n",
       "state                0\n",
       "stories         150715\n",
       "mls-id          352243\n",
       "PrivatePool     336874\n",
       "MlsId            66880\n",
       "target            2481\n",
       "dtype: int64"
      ]
     },
     "execution_count": 5,
     "metadata": {},
     "output_type": "execute_result"
    }
   ],
   "source": [
    "# посмотрим на количество явных пропусков с более удобного ракурса\n",
    "df.isnull().sum()"
   ]
  },
  {
   "cell_type": "markdown",
   "metadata": {},
   "source": [
    "Описание данных:\n",
    "\n",
    "- 'status' — статус продажи;\n",
    "- 'private pool' и 'PrivatePool' — наличие собственного бассейна;\n",
    "- 'propertyType' — тип объекта недвижимости;\n",
    "- 'street' — адрес объекта;\n",
    "- 'baths' — количество ванных комнат;\n",
    "- 'homeFacts' — сведения о строительстве объекта (содержит несколько типов сведений, влияющих на оценку объекта);\n",
    "- 'fireplace' — наличие камина;\n",
    "- 'city' — город;\n",
    "- 'schools' — сведения о школах в районе;\n",
    "- 'sqft' — площадь в футах;\n",
    "- 'zipcode' — почтовый индекс;\n",
    "- 'beds' — количество спален;\n",
    "- 'state' — штат;\n",
    "- 'stories' — количество этажей;\n",
    "- 'mls-id' и 'MlsId' — идентификатор MLS (Multiple Listing Service, система мультилистинга);\n",
    "- 'target' — цена объекта недвижимости (целевой признак, который необходимо спрогнозировать)."
   ]
  },
  {
   "cell_type": "markdown",
   "metadata": {},
   "source": [
    "_____________"
   ]
  },
  {
   "cell_type": "markdown",
   "metadata": {},
   "source": [
    "# 1. Предобработка данных"
   ]
  },
  {
   "cell_type": "code",
   "execution_count": 6,
   "metadata": {},
   "outputs": [
    {
     "data": {
      "text/plain": [
       "374704"
      ]
     },
     "execution_count": 6,
     "metadata": {},
     "output_type": "execute_result"
    }
   ],
   "source": [
    "# для начала удалим записи с пустыми значениями целевой переменной, они явно не участвуют в этом мероприятии\n",
    "df = df[~df['target'].isna()]\n",
    "df.shape[0]"
   ]
  },
  {
   "cell_type": "code",
   "execution_count": 7,
   "metadata": {},
   "outputs": [],
   "source": [
    "# пройдемся по датасету и уберем общую проблему - лишние пробелы и переносы строк\n",
    "df = df.replace({r'\\s+$': '', r'^\\s+': ''}, regex=True).replace(r'\\n',  ' ', regex=True)"
   ]
  },
  {
   "cell_type": "code",
   "execution_count": 8,
   "metadata": {},
   "outputs": [
    {
     "data": {
      "text/plain": [
       "49"
      ]
     },
     "execution_count": 8,
     "metadata": {},
     "output_type": "execute_result"
    }
   ],
   "source": [
    "# проанализируем датасет на наличие полных дубликатов\n",
    "df.duplicated().sum()"
   ]
  },
  {
   "cell_type": "code",
   "execution_count": 9,
   "metadata": {},
   "outputs": [
    {
     "data": {
      "text/plain": [
       "374655"
      ]
     },
     "execution_count": 9,
     "metadata": {},
     "output_type": "execute_result"
    }
   ],
   "source": [
    "# удалим полные дубликаты исходного датасета\n",
    "df = df.drop_duplicates()\n",
    "df.shape[0]"
   ]
  },
  {
   "cell_type": "markdown",
   "metadata": {},
   "source": [
    "#### Последовательно проверим признаки"
   ]
  },
  {
   "cell_type": "code",
   "execution_count": null,
   "metadata": {},
   "outputs": [],
   "source": [
    "# ознакомимся с внесенными значениями по диагонали, чтобы выделить основные сложности с обработкой\n",
    "columns = df.columns\n",
    "for column in columns:\n",
    "    print()\n",
    "    print(column)\n",
    "    print('количество вариантов : ', df[column].value_counts().shape[0])\n",
    "    print()\n",
    "    print(df[column].value_counts().head(50))\n",
    "    if df[column].value_counts().shape[0] > 50:\n",
    "        print(df[column].value_counts().tail(50))"
   ]
  },
  {
   "cell_type": "markdown",
   "metadata": {},
   "source": [
    "##### Первичный осмотр признаков\n",
    "\n",
    "- status\n",
    "\n",
    "156 вариантов - возможно просмотреть и обработать детально. \n",
    "Какие-то категории точно можно объединять, вроде “Coming soon”\n",
    "При этом, объект может менять свои статусы, и какие-то могут влиять на цену (например, как предположение, за долги), а какие-то нет (когда проходит обычный жизненный цикл вроде такого: “для продажи - показы - договор без обязательств”)\n",
    "\n",
    "- propertyType\n",
    "\n",
    "Один из самых сложных признаков в выборке. \n",
    "Разное написание, разные сокращения, и перечисление признаков через запятые и слэш, а где-то и просто через пробел. Очень неудобно.\n",
    "Даже при разложении каждой записи этого поля на отдельные составляющие вложенного списка пока конечное количество вариантов непонятно.\n",
    "\n",
    "- street\n",
    "\n",
    "нет цели проверить каждый адрес, но топ повторяющихся вариантов можно и нужно просмотреть как минимум на предмет разных написаний “адреса нет”\n",
    "Навскидку по крайней мере похоже, что в поле и правда вносят адрес.\n",
    "\n",
    "- baths\n",
    "\n",
    "Вариантов 226. Многовато, но можно обработать массовые нюансы - убрать типовые наборы слов в начале или конце записи, после чего повторно посмотреть схлопнувшиеся варианты и доработать еще раз.\n",
    "Уже видны записи с 76 и 241 ванной. Пока тяжело осознать, что это может быть, если  не выброс. Также присутствуют записи через слэш. Надо смотреть подробнее.\n",
    "\n",
    "- homefacts\n",
    "\n",
    "Пока только понятно, что надо разложить на отдельные поля этот вложенный список. После этого уже отдельно смотреть что оттуда вытянется.\n",
    "\n",
    "- fireplace\n",
    "\n",
    "Разное написание, и где-то цифры, где-то слова. 1653 варианта - много для полноценной ручной обработки с индивидуальным просмотром.\n",
    "При этом, наблюдаются характерные записи с указанием, газ это, электрика или на дровах/брикетах.\n",
    "Нужно уменьшать количество вариантов.\n",
    "\n",
    "- city\n",
    "\n",
    "2019 нас.пункта. В первом приближении похоже, что внесены города.\n",
    "Есть вероятность разного написания, но это можно выяснить только при более детальном просмотре.\n",
    "\n",
    "- schools\n",
    "\n",
    "списки разной длины, с разным количеством школ и соответствующих им характеристик. Здесь вариант только приводить к какой-то средней оценке. \n",
    "\n",
    "- sqft\n",
    "\n",
    "Площадь объекта - по ощущениям основной показатель, его следует обработать максимально аккуратно.\n",
    "Видно, что присутствует различное написание единиц измерения, а где-то ЕИ совсем отсутствует. Где-то есть разделитель разрядов, где-то его нет. Есть отдельные записи и с текстовым описанием. \n",
    "И конечно, критичны записи с отсутствием информации. Учитывая неаккуратность датасета, эта информация может присутствовать в других полях, необходимо посмотреть подробнее.\n",
    "\n",
    "- zipcode \n",
    "\n",
    "Порадовало, что в верхней части рейтинга популярности значений отсутствует “нет кода” или нулевое значение. Этот факт дает надежду, что сможем определять нахождение объекта более подробно, нежели штат или город. \n",
    "Но есть некие значения через дефис. Первая составная часть похожа на основную массу индексов, со второй (после дефиса) пока непонятно.\n",
    "\n",
    "- beds\n",
    "\n",
    "1147 вариантов. Разное написание/обозначение слова “кровать”. Но что удивительно, в этом поле кое-где внесены значения площади. Возможно, в форме для заполнения какие-то поля были рядом и неочевидно подписаны, за счет чего сюда вносилась информация о площади (то ли жилой, то ли участка). Надо смотреть.\n",
    "\n",
    "- state\n",
    "\n",
    "Выглядит аккуратно, но смущают единичные значения - неужели один объект во всем штате? Надо проверить.\n",
    "\n",
    "- stories\n",
    "\n",
    "Знаки плюсов, где-то значения с точками, где-то без точек, где-то словами вроде “One” и т.п. Чистить и смотреть результат.\n",
    "\n",
    "- mls-id и MlsId\n",
    "\n",
    "Много повторяющихся значений, хотя по описанию признака казалось, что это уникальный идентификатор. Похоже, что нет, надо посмотреть поближе.\n",
    "\n",
    "- target\n",
    "\n",
    "Собственно целевой признак. Есть со значком $, есть без него. Есть плюсы, которые даже если что-то обозначали, мы проигнорируем и удалим.\n",
    "И бросается в глаза в топ-30 значение $1000 в количестве почти тысяча записей. Тоже надо посмотреть.\n",
    "\n",
    "\n",
    "Приступим к обработке от простого к сложному"
   ]
  },
  {
   "cell_type": "markdown",
   "metadata": {},
   "source": [
    "____________"
   ]
  },
  {
   "cell_type": "markdown",
   "metadata": {},
   "source": [
    "##### Частный бассейн - 'private pool' и 'PrivatePool'"
   ]
  },
  {
   "cell_type": "code",
   "execution_count": 11,
   "metadata": {},
   "outputs": [
    {
     "data": {
      "text/plain": [
       "Yes    4151\n",
       "Name: private pool, dtype: int64"
      ]
     },
     "metadata": {},
     "output_type": "display_data"
    },
    {
     "data": {
      "text/plain": [
       "yes    28686\n",
       "Yes    11434\n",
       "Name: PrivatePool, dtype: int64"
      ]
     },
     "metadata": {},
     "output_type": "display_data"
    }
   ],
   "source": [
    "# проверим пару признаков наличия частного бассейна\n",
    "# для начала проверим варианты внесения информации\n",
    "display(df['private pool'].value_counts())\n",
    "display(df['PrivatePool'].value_counts())"
   ]
  },
  {
   "cell_type": "code",
   "execution_count": 12,
   "metadata": {},
   "outputs": [
    {
     "data": {
      "text/plain": [
       "0    334535\n",
       "1     40120\n",
       "Name: PrivatePool, dtype: int64"
      ]
     },
     "metadata": {},
     "output_type": "display_data"
    },
    {
     "data": {
      "text/plain": [
       "0    370504\n",
       "1      4151\n",
       "Name: private pool, dtype: int64"
      ]
     },
     "metadata": {},
     "output_type": "display_data"
    }
   ],
   "source": [
    "# предположим, что это признаки, созданные в базе данных в разное время\n",
    "# т.е., информация о наличии бассейна есть либо в одном, либо в другом\n",
    "# в таком случае, не должно быть записей, в которых одновременно указано наличие в обоих полях\n",
    "# проверим простым способом - переведем наличие в \"1\" и сложим оба столбца\n",
    "# если запись и там, и там, получим в этих записях двойки\n",
    "\n",
    "# для начала переведем записи в единицы и проверим сохранение количеств значений\n",
    "df['PrivatePool'] = df['PrivatePool'].apply(lambda x: 1 if x in ['yes', 'Yes'] else 0)\n",
    "display(df['PrivatePool'].value_counts())\n",
    "df['private pool'] = df['private pool'].apply(lambda x: 1 if x in ['yes', 'Yes'] else 0)\n",
    "display(df['private pool'].value_counts())"
   ]
  },
  {
   "cell_type": "code",
   "execution_count": 13,
   "metadata": {},
   "outputs": [
    {
     "data": {
      "text/plain": [
       "0    330384\n",
       "1     44271\n",
       "Name: PoolPrivate, dtype: int64"
      ]
     },
     "execution_count": 13,
     "metadata": {},
     "output_type": "execute_result"
    }
   ],
   "source": [
    "# поскольку перекодирование столбцов прошло успешно, теперь делаем аггрегирующее поле\n",
    "# проверка вариантов значений покажет, подтвердилось ли вышеописанное предположение\n",
    "df['PoolPrivate'] = df['PrivatePool'] + df['private pool']\n",
    "df['PoolPrivate'].value_counts()"
   ]
  },
  {
   "cell_type": "code",
   "execution_count": 14,
   "metadata": {},
   "outputs": [
    {
     "name": "stdout",
     "output_type": "stream",
     "text": [
      "<class 'pandas.core.frame.DataFrame'>\n",
      "Int64Index: 374655 entries, 0 to 377184\n",
      "Data columns (total 17 columns):\n",
      " #   Column        Non-Null Count   Dtype \n",
      "---  ------        --------------   ----- \n",
      " 0   status        335399 non-null  object\n",
      " 1   propertyType  340101 non-null  object\n",
      " 2   street        374653 non-null  object\n",
      " 3   baths         269308 non-null  object\n",
      " 4   homeFacts     374655 non-null  object\n",
      " 5   fireplace     102519 non-null  object\n",
      " 6   city          374621 non-null  object\n",
      " 7   schools       374655 non-null  object\n",
      " 8   sqft          334560 non-null  object\n",
      " 9   zipcode       374655 non-null  object\n",
      " 10  beds          283726 non-null  object\n",
      " 11  state         374655 non-null  object\n",
      " 12  stories       224902 non-null  object\n",
      " 13  mls-id        24937 non-null   object\n",
      " 14  MlsId         310187 non-null  object\n",
      " 15  target        374655 non-null  object\n",
      " 16  PoolPrivate   374655 non-null  int64 \n",
      "dtypes: int64(1), object(16)\n",
      "memory usage: 51.5+ MB\n"
     ]
    }
   ],
   "source": [
    "# схема сработала, изначальные признаки можно удалить\n",
    "df = df.drop(columns=['private pool', 'PrivatePool'], axis=1)\n",
    "df.info()"
   ]
  },
  {
   "cell_type": "markdown",
   "metadata": {},
   "source": [
    "__________"
   ]
  },
  {
   "cell_type": "markdown",
   "metadata": {},
   "source": [
    "##### Идентификаторы MLS - 'mls-id' и 'MlsId'"
   ]
  },
  {
   "cell_type": "code",
   "execution_count": 15,
   "metadata": {},
   "outputs": [
    {
     "name": "stdout",
     "output_type": "stream",
     "text": [
      "Количество записей с одновременно заполненными полями \"MlsId\" и \"mls-id\" :  0\n"
     ]
    }
   ],
   "source": [
    "# проверим пару признаков идентификаторов MLS\n",
    "# предположение такое - признаки заполнялись в разные периоды времени (как бассейны)\n",
    "# если это так, значение есть либо в одном поле, либо в другом, проверим\n",
    "print('Количество записей с одновременно заполненными полями \"MlsId\" и \"mls-id\" : ',\n",
    "      df[~df['MlsId'].isna() & ~df['mls-id'].isna()].shape[0])"
   ]
  },
  {
   "cell_type": "code",
   "execution_count": 16,
   "metadata": {},
   "outputs": [
    {
     "name": "stdout",
     "output_type": "stream",
     "text": [
      "уникальных значений MlsId :  232861\n",
      "уникальных значений mls-id :  24902\n",
      "при пересечении только nan длина множества должна быть :  257762\n",
      "уникальных значений кумулятивно по обоим столбцам :  248925\n",
      "значения столбцов пересекаются\n"
     ]
    }
   ],
   "source": [
    "# нет ни одной записи, в которой одновременно были бы непустые значения в обоих полях\n",
    "# теперь проверим, нет ли одинаковых идентификаторов в обоих полях, и если есть, то идентичные ли записи им соответствуют\n",
    "# это будет обозначать, что в какой-то момент одно поле для внесения отключили, а второе активировали\n",
    "# для начала переведем в строчные буквы\n",
    "df['MlsId'] = df['MlsId'].str.lower()\n",
    "df['mls-id'] = df['mls-id'].str.lower()\n",
    "MlsIdList = list(df['MlsId'].unique())\n",
    "print('уникальных значений MlsId : ',len(MlsIdList))\n",
    "mls_id_List = list(df['mls-id'].unique())\n",
    "print('уникальных значений mls-id : ',len(mls_id_List))\n",
    "print ('при пересечении только nan длина множества должна быть : ', (len(MlsIdList)+len(mls_id_List)-1))\n",
    "Mls = set(MlsIdList + mls_id_List)\n",
    "print('уникальных значений кумулятивно по обоим столбцам : ',len(Mls))\n",
    "if len(Mls) < (len(MlsIdList)+len(mls_id_List)-1):\n",
    "    print('значения столбцов пересекаются')\n",
    "else:\n",
    "    print('значения столбцов не пересекаются')"
   ]
  },
  {
   "cell_type": "code",
   "execution_count": 17,
   "metadata": {},
   "outputs": [
    {
     "data": {
      "text/html": [
       "<div>\n",
       "<style scoped>\n",
       "    .dataframe tbody tr th:only-of-type {\n",
       "        vertical-align: middle;\n",
       "    }\n",
       "\n",
       "    .dataframe tbody tr th {\n",
       "        vertical-align: top;\n",
       "    }\n",
       "\n",
       "    .dataframe thead th {\n",
       "        text-align: right;\n",
       "    }\n",
       "</style>\n",
       "<table border=\"1\" class=\"dataframe\">\n",
       "  <thead>\n",
       "    <tr style=\"text-align: right;\">\n",
       "      <th></th>\n",
       "      <th>status</th>\n",
       "      <th>propertyType</th>\n",
       "      <th>street</th>\n",
       "      <th>baths</th>\n",
       "      <th>homeFacts</th>\n",
       "      <th>fireplace</th>\n",
       "      <th>city</th>\n",
       "      <th>schools</th>\n",
       "      <th>sqft</th>\n",
       "      <th>zipcode</th>\n",
       "      <th>beds</th>\n",
       "      <th>state</th>\n",
       "      <th>stories</th>\n",
       "      <th>mls-id</th>\n",
       "      <th>MlsId</th>\n",
       "      <th>target</th>\n",
       "      <th>PoolPrivate</th>\n",
       "    </tr>\n",
       "  </thead>\n",
       "  <tbody>\n",
       "    <tr>\n",
       "      <th>312219</th>\n",
       "      <td>For sale</td>\n",
       "      <td>Single Family</td>\n",
       "      <td>10 Albion Pl</td>\n",
       "      <td>Bathrooms: 2</td>\n",
       "      <td>{'atAGlanceFacts': [{'factValue': '1899', 'fac...</td>\n",
       "      <td>NaN</td>\n",
       "      <td>Staten Island</td>\n",
       "      <td>[{'rating': ['4/10', '5/10', '3/10'], 'data': ...</td>\n",
       "      <td>Total interior livable area: 1,764 sqft</td>\n",
       "      <td>10302</td>\n",
       "      <td>4 bd</td>\n",
       "      <td>NY</td>\n",
       "      <td>2.0</td>\n",
       "      <td>1131415</td>\n",
       "      <td>NaN</td>\n",
       "      <td>$541,900</td>\n",
       "      <td>0</td>\n",
       "    </tr>\n",
       "    <tr>\n",
       "      <th>280379</th>\n",
       "      <td>for sale</td>\n",
       "      <td>single-family home</td>\n",
       "      <td>10 Albion Pl</td>\n",
       "      <td>2 Baths</td>\n",
       "      <td>{'atAGlanceFacts': [{'factValue': '1899', 'fac...</td>\n",
       "      <td>NaN</td>\n",
       "      <td>Staten Island</td>\n",
       "      <td>[{'rating': ['3/10', '5/10', '4/10'], 'data': ...</td>\n",
       "      <td>1,764 sqft</td>\n",
       "      <td>10302</td>\n",
       "      <td>4 Beds</td>\n",
       "      <td>NY</td>\n",
       "      <td>2.0</td>\n",
       "      <td>NaN</td>\n",
       "      <td>1131415</td>\n",
       "      <td>$499,000</td>\n",
       "      <td>0</td>\n",
       "    </tr>\n",
       "    <tr>\n",
       "      <th>183889</th>\n",
       "      <td>For sale</td>\n",
       "      <td>Single Family</td>\n",
       "      <td>1002 Daphne Ct</td>\n",
       "      <td>3 ba</td>\n",
       "      <td>{'atAGlanceFacts': [{'factValue': '2019', 'fac...</td>\n",
       "      <td>NaN</td>\n",
       "      <td>Austin</td>\n",
       "      <td>[{'rating': ['3/10', '5/10', '4/10'], 'data': ...</td>\n",
       "      <td>2,700 sqft</td>\n",
       "      <td>78704</td>\n",
       "      <td>4 bd</td>\n",
       "      <td>TX</td>\n",
       "      <td>NaN</td>\n",
       "      <td>4988474</td>\n",
       "      <td>NaN</td>\n",
       "      <td>$1,200,000</td>\n",
       "      <td>0</td>\n",
       "    </tr>\n",
       "    <tr>\n",
       "      <th>262840</th>\n",
       "      <td>For sale</td>\n",
       "      <td>Single Family</td>\n",
       "      <td>11520 SW 10th St</td>\n",
       "      <td>Bathrooms: 2</td>\n",
       "      <td>{'atAGlanceFacts': [{'factValue': '1995', 'fac...</td>\n",
       "      <td>NaN</td>\n",
       "      <td>Pembroke Pines</td>\n",
       "      <td>[{'rating': ['5/10', '5/10', '7/10'], 'data': ...</td>\n",
       "      <td>Total interior livable area: 2,033 sqft</td>\n",
       "      <td>33025</td>\n",
       "      <td>3 bd</td>\n",
       "      <td>FL</td>\n",
       "      <td>0.0</td>\n",
       "      <td>a10761151</td>\n",
       "      <td>NaN</td>\n",
       "      <td>$449,000</td>\n",
       "      <td>0</td>\n",
       "    </tr>\n",
       "    <tr>\n",
       "      <th>132858</th>\n",
       "      <td>for sale</td>\n",
       "      <td>single-family home</td>\n",
       "      <td>11520 SW 10th St</td>\n",
       "      <td>2 Baths</td>\n",
       "      <td>{'atAGlanceFacts': [{'factValue': '1995', 'fac...</td>\n",
       "      <td>NaN</td>\n",
       "      <td>Pembroke Pines</td>\n",
       "      <td>[{'rating': ['5/10', '5/10', '7/10'], 'data': ...</td>\n",
       "      <td>2,033 sqft</td>\n",
       "      <td>33025</td>\n",
       "      <td>3 Beds</td>\n",
       "      <td>FL</td>\n",
       "      <td>NaN</td>\n",
       "      <td>NaN</td>\n",
       "      <td>a10761151</td>\n",
       "      <td>$449,000</td>\n",
       "      <td>0</td>\n",
       "    </tr>\n",
       "    <tr>\n",
       "      <th>78402</th>\n",
       "      <td>for sale</td>\n",
       "      <td>condo</td>\n",
       "      <td>12181 Melody Dr #205</td>\n",
       "      <td>NaN</td>\n",
       "      <td>{'atAGlanceFacts': [{'factValue': '1972', 'fac...</td>\n",
       "      <td>yes</td>\n",
       "      <td>Westminster</td>\n",
       "      <td>[{'rating': ['6/10', '4/10', '6/10'], 'data': ...</td>\n",
       "      <td>731 sqft</td>\n",
       "      <td>80234</td>\n",
       "      <td>NaN</td>\n",
       "      <td>CO</td>\n",
       "      <td>NaN</td>\n",
       "      <td>NaN</td>\n",
       "      <td>6792105</td>\n",
       "      <td>$139,000</td>\n",
       "      <td>1</td>\n",
       "    </tr>\n",
       "    <tr>\n",
       "      <th>220092</th>\n",
       "      <td>For sale</td>\n",
       "      <td>Condo</td>\n",
       "      <td>12181 Melody Dr APT 205</td>\n",
       "      <td>Bathrooms: 1</td>\n",
       "      <td>{'atAGlanceFacts': [{'factValue': '1972', 'fac...</td>\n",
       "      <td>Yes</td>\n",
       "      <td>Denver</td>\n",
       "      <td>[{'rating': ['6/10', '4/10', '6/10'], 'data': ...</td>\n",
       "      <td>Total interior livable area: 731 sqft</td>\n",
       "      <td>80234</td>\n",
       "      <td>1 bd</td>\n",
       "      <td>CO</td>\n",
       "      <td>0.0</td>\n",
       "      <td>6792105</td>\n",
       "      <td>NaN</td>\n",
       "      <td>$139,000</td>\n",
       "      <td>1</td>\n",
       "    </tr>\n",
       "    <tr>\n",
       "      <th>14671</th>\n",
       "      <td>for sale</td>\n",
       "      <td>mobile/manufactured</td>\n",
       "      <td>137 Holiday Park Blvd NE</td>\n",
       "      <td>2 Baths</td>\n",
       "      <td>{'atAGlanceFacts': [{'factValue': '1975', 'fac...</td>\n",
       "      <td>NaN</td>\n",
       "      <td>Palm Bay</td>\n",
       "      <td>[{'rating': ['3/10', '5/10', '4/10'], 'data': ...</td>\n",
       "      <td>1,058 sqft</td>\n",
       "      <td>32907</td>\n",
       "      <td>2 Beds</td>\n",
       "      <td>FL</td>\n",
       "      <td>1.0</td>\n",
       "      <td>NaN</td>\n",
       "      <td>860198</td>\n",
       "      <td>$74,000</td>\n",
       "      <td>1</td>\n",
       "    </tr>\n",
       "    <tr>\n",
       "      <th>209126</th>\n",
       "      <td>For sale</td>\n",
       "      <td>Mobile / Manufactured</td>\n",
       "      <td>137 Holiday Park Blvd NE</td>\n",
       "      <td>Bathrooms: 2</td>\n",
       "      <td>{'atAGlanceFacts': [{'factValue': '1975', 'fac...</td>\n",
       "      <td>NaN</td>\n",
       "      <td>Palm Bay</td>\n",
       "      <td>[{'rating': ['5/10', '4/10', '3/10'], 'data': ...</td>\n",
       "      <td>Total interior livable area: 1,058 sqft</td>\n",
       "      <td>32907</td>\n",
       "      <td>2 bd</td>\n",
       "      <td>FL</td>\n",
       "      <td>1.0</td>\n",
       "      <td>860198</td>\n",
       "      <td>NaN</td>\n",
       "      <td>$74,000</td>\n",
       "      <td>1</td>\n",
       "    </tr>\n",
       "    <tr>\n",
       "      <th>33981</th>\n",
       "      <td>for sale</td>\n",
       "      <td>multi-family</td>\n",
       "      <td>2078 Mayflower Ave</td>\n",
       "      <td>3 Baths</td>\n",
       "      <td>{'atAGlanceFacts': [{'factValue': '1960', 'fac...</td>\n",
       "      <td>yes</td>\n",
       "      <td>Bronx</td>\n",
       "      <td>[{'rating': ['3/10', '7/10'], 'data': {'Distan...</td>\n",
       "      <td>2,280 sqft</td>\n",
       "      <td>10461</td>\n",
       "      <td>4 Beds</td>\n",
       "      <td>NY</td>\n",
       "      <td>2.0</td>\n",
       "      <td>NaN</td>\n",
       "      <td>4988474</td>\n",
       "      <td>$710,000</td>\n",
       "      <td>0</td>\n",
       "    </tr>\n",
       "    <tr>\n",
       "      <th>236293</th>\n",
       "      <td>for sale</td>\n",
       "      <td>single-family home</td>\n",
       "      <td>24574 Kingfish St</td>\n",
       "      <td>2 Baths</td>\n",
       "      <td>{'atAGlanceFacts': [{'factValue': '1969', 'fac...</td>\n",
       "      <td>NaN</td>\n",
       "      <td>Bonita Springs</td>\n",
       "      <td>[{'rating': ['3/10', '8/10', '4/10', '5/10', '...</td>\n",
       "      <td>988 sqft</td>\n",
       "      <td>34134</td>\n",
       "      <td>2 Beds</td>\n",
       "      <td>FL</td>\n",
       "      <td>1.0</td>\n",
       "      <td>NaN</td>\n",
       "      <td>219053805</td>\n",
       "      <td>$579,000</td>\n",
       "      <td>0</td>\n",
       "    </tr>\n",
       "    <tr>\n",
       "      <th>344897</th>\n",
       "      <td>For sale</td>\n",
       "      <td>Single Family</td>\n",
       "      <td>24574 Kingfish St</td>\n",
       "      <td>Bathrooms: 2</td>\n",
       "      <td>{'atAGlanceFacts': [{'factValue': '1969', 'fac...</td>\n",
       "      <td>NaN</td>\n",
       "      <td>Bonita Springs</td>\n",
       "      <td>[{'rating': ['3/10', '7/10', '7/10'], 'data': ...</td>\n",
       "      <td>Total interior livable area: 988 sqft</td>\n",
       "      <td>34134</td>\n",
       "      <td>2 bd</td>\n",
       "      <td>FL</td>\n",
       "      <td>1.0</td>\n",
       "      <td>219053805</td>\n",
       "      <td>NaN</td>\n",
       "      <td>$579,000</td>\n",
       "      <td>0</td>\n",
       "    </tr>\n",
       "    <tr>\n",
       "      <th>286681</th>\n",
       "      <td>for sale</td>\n",
       "      <td>single-family home</td>\n",
       "      <td>2505 Flume Gate Dr</td>\n",
       "      <td>4 Baths</td>\n",
       "      <td>{'atAGlanceFacts': [{'factValue': '2019', 'fac...</td>\n",
       "      <td>yes</td>\n",
       "      <td>Raleigh</td>\n",
       "      <td>[{'rating': ['5/10', '5/10', '3/10'], 'data': ...</td>\n",
       "      <td>4,346 sqft</td>\n",
       "      <td>27603</td>\n",
       "      <td>4 Beds</td>\n",
       "      <td>NC</td>\n",
       "      <td>NaN</td>\n",
       "      <td>NaN</td>\n",
       "      <td>2274700</td>\n",
       "      <td>$669,771</td>\n",
       "      <td>0</td>\n",
       "    </tr>\n",
       "    <tr>\n",
       "      <th>15848</th>\n",
       "      <td>New construction</td>\n",
       "      <td>Single Family</td>\n",
       "      <td>2505 Flume Gate Dr</td>\n",
       "      <td>4 ba</td>\n",
       "      <td>{'atAGlanceFacts': [{'factValue': '2019', 'fac...</td>\n",
       "      <td>NaN</td>\n",
       "      <td>Raleigh</td>\n",
       "      <td>[{'rating': ['5/10', '5/10', '3/10'], 'data': ...</td>\n",
       "      <td>4,346 sqft</td>\n",
       "      <td>27603</td>\n",
       "      <td>4 bd</td>\n",
       "      <td>NC</td>\n",
       "      <td>NaN</td>\n",
       "      <td>2274700</td>\n",
       "      <td>NaN</td>\n",
       "      <td>$669,771</td>\n",
       "      <td>0</td>\n",
       "    </tr>\n",
       "    <tr>\n",
       "      <th>96074</th>\n",
       "      <td>for sale</td>\n",
       "      <td>single-family home</td>\n",
       "      <td>291 Austin Ln</td>\n",
       "      <td>3 Baths</td>\n",
       "      <td>{'atAGlanceFacts': [{'factValue': '1950', 'fac...</td>\n",
       "      <td>NaN</td>\n",
       "      <td>West Palm Beach</td>\n",
       "      <td>[{'rating': ['5/10', '3/10', '8/10'], 'data': ...</td>\n",
       "      <td>2,974 sqft</td>\n",
       "      <td>33401</td>\n",
       "      <td>3 Beds</td>\n",
       "      <td>FL</td>\n",
       "      <td>NaN</td>\n",
       "      <td>NaN</td>\n",
       "      <td>rx-10559392</td>\n",
       "      <td>$875,000</td>\n",
       "      <td>0</td>\n",
       "    </tr>\n",
       "    <tr>\n",
       "      <th>55198</th>\n",
       "      <td>For sale</td>\n",
       "      <td>Single Family</td>\n",
       "      <td>291 Austin Ln</td>\n",
       "      <td>Bathrooms: 3</td>\n",
       "      <td>{'atAGlanceFacts': [{'factValue': '1950', 'fac...</td>\n",
       "      <td>NaN</td>\n",
       "      <td>West Palm Beach</td>\n",
       "      <td>[{'rating': ['8/10', '5/10', '3/10'], 'data': ...</td>\n",
       "      <td>Total interior livable area: 2,974 sqft</td>\n",
       "      <td>33401</td>\n",
       "      <td>3 bd</td>\n",
       "      <td>FL</td>\n",
       "      <td>0.0</td>\n",
       "      <td>rx-10559392</td>\n",
       "      <td>NaN</td>\n",
       "      <td>$875,000</td>\n",
       "      <td>0</td>\n",
       "    </tr>\n",
       "    <tr>\n",
       "      <th>297329</th>\n",
       "      <td>For sale</td>\n",
       "      <td>Single Family</td>\n",
       "      <td>5197 Churchill Way</td>\n",
       "      <td>2 ba</td>\n",
       "      <td>{'atAGlanceFacts': [{'factValue': '1994', 'fac...</td>\n",
       "      <td>NaN</td>\n",
       "      <td>Weeki Wachee</td>\n",
       "      <td>[{'rating': ['6/10', '4/10', '5/10'], 'data': ...</td>\n",
       "      <td>2,026 sqft</td>\n",
       "      <td>34607</td>\n",
       "      <td>3 bd</td>\n",
       "      <td>FL</td>\n",
       "      <td>NaN</td>\n",
       "      <td>2203893</td>\n",
       "      <td>NaN</td>\n",
       "      <td>$174,000</td>\n",
       "      <td>0</td>\n",
       "    </tr>\n",
       "    <tr>\n",
       "      <th>321978</th>\n",
       "      <td>for sale</td>\n",
       "      <td>single-family home</td>\n",
       "      <td>5197 Churchill Way</td>\n",
       "      <td>2 Baths</td>\n",
       "      <td>{'atAGlanceFacts': [{'factValue': '1994', 'fac...</td>\n",
       "      <td>yes</td>\n",
       "      <td>Weeki Wachee</td>\n",
       "      <td>[{'rating': ['6/10', '4/10', '5/10'], 'data': ...</td>\n",
       "      <td>2,026 sqft</td>\n",
       "      <td>34607</td>\n",
       "      <td>3 Beds</td>\n",
       "      <td>FL</td>\n",
       "      <td>1.0</td>\n",
       "      <td>NaN</td>\n",
       "      <td>2203893</td>\n",
       "      <td>$174,000</td>\n",
       "      <td>0</td>\n",
       "    </tr>\n",
       "    <tr>\n",
       "      <th>199061</th>\n",
       "      <td>Active</td>\n",
       "      <td>Contemporary</td>\n",
       "      <td>925 H St NW #602</td>\n",
       "      <td>750</td>\n",
       "      <td>{'atAGlanceFacts': [{'factValue': '2013', 'fac...</td>\n",
       "      <td>NaN</td>\n",
       "      <td>Washington</td>\n",
       "      <td>[{'rating': ['8', '8', '3', '8'], 'data': {'Di...</td>\n",
       "      <td>1,191</td>\n",
       "      <td>20001</td>\n",
       "      <td>NaN</td>\n",
       "      <td>DC</td>\n",
       "      <td>NaN</td>\n",
       "      <td>NaN</td>\n",
       "      <td>dcdc445196</td>\n",
       "      <td>1,250,000</td>\n",
       "      <td>0</td>\n",
       "    </tr>\n",
       "    <tr>\n",
       "      <th>212400</th>\n",
       "      <td>for sale</td>\n",
       "      <td>condo</td>\n",
       "      <td>925 H St NW #602</td>\n",
       "      <td>2 Baths</td>\n",
       "      <td>{'atAGlanceFacts': [{'factValue': '2013', 'fac...</td>\n",
       "      <td>NaN</td>\n",
       "      <td>Washington</td>\n",
       "      <td>[{'rating': ['8/10', '3/10'], 'data': {'Distan...</td>\n",
       "      <td>1,191 sqft</td>\n",
       "      <td>20001</td>\n",
       "      <td>2 Beds</td>\n",
       "      <td>DC</td>\n",
       "      <td>1.0</td>\n",
       "      <td>NaN</td>\n",
       "      <td>dcdc445196</td>\n",
       "      <td>$1,250,000</td>\n",
       "      <td>0</td>\n",
       "    </tr>\n",
       "    <tr>\n",
       "      <th>293817</th>\n",
       "      <td>For sale</td>\n",
       "      <td>Condo</td>\n",
       "      <td>925 H St NW APT 602</td>\n",
       "      <td>Bathrooms: 2</td>\n",
       "      <td>{'atAGlanceFacts': [{'factValue': '2013', 'fac...</td>\n",
       "      <td>NaN</td>\n",
       "      <td>Washington</td>\n",
       "      <td>[{'rating': ['8/10', '3/10'], 'data': {'Distan...</td>\n",
       "      <td>Total interior livable area: 1,191 sqft</td>\n",
       "      <td>20001</td>\n",
       "      <td>2 bd</td>\n",
       "      <td>DC</td>\n",
       "      <td>1.0</td>\n",
       "      <td>dcdc445196</td>\n",
       "      <td>NaN</td>\n",
       "      <td>$1,250,000</td>\n",
       "      <td>0</td>\n",
       "    </tr>\n",
       "  </tbody>\n",
       "</table>\n",
       "</div>"
      ],
      "text/plain": [
       "                  status           propertyType                    street  \\\n",
       "312219          For sale          Single Family              10 Albion Pl   \n",
       "280379          for sale     single-family home              10 Albion Pl   \n",
       "183889          For sale          Single Family            1002 Daphne Ct   \n",
       "262840          For sale          Single Family          11520 SW 10th St   \n",
       "132858          for sale     single-family home          11520 SW 10th St   \n",
       "78402           for sale                  condo      12181 Melody Dr #205   \n",
       "220092          For sale                  Condo   12181 Melody Dr APT 205   \n",
       "14671           for sale    mobile/manufactured  137 Holiday Park Blvd NE   \n",
       "209126          For sale  Mobile / Manufactured  137 Holiday Park Blvd NE   \n",
       "33981           for sale           multi-family        2078 Mayflower Ave   \n",
       "236293          for sale     single-family home         24574 Kingfish St   \n",
       "344897          For sale          Single Family         24574 Kingfish St   \n",
       "286681          for sale     single-family home        2505 Flume Gate Dr   \n",
       "15848   New construction          Single Family        2505 Flume Gate Dr   \n",
       "96074           for sale     single-family home             291 Austin Ln   \n",
       "55198           For sale          Single Family             291 Austin Ln   \n",
       "297329          For sale          Single Family        5197 Churchill Way   \n",
       "321978          for sale     single-family home        5197 Churchill Way   \n",
       "199061            Active           Contemporary          925 H St NW #602   \n",
       "212400          for sale                  condo          925 H St NW #602   \n",
       "293817          For sale                  Condo       925 H St NW APT 602   \n",
       "\n",
       "               baths                                          homeFacts  \\\n",
       "312219  Bathrooms: 2  {'atAGlanceFacts': [{'factValue': '1899', 'fac...   \n",
       "280379       2 Baths  {'atAGlanceFacts': [{'factValue': '1899', 'fac...   \n",
       "183889          3 ba  {'atAGlanceFacts': [{'factValue': '2019', 'fac...   \n",
       "262840  Bathrooms: 2  {'atAGlanceFacts': [{'factValue': '1995', 'fac...   \n",
       "132858       2 Baths  {'atAGlanceFacts': [{'factValue': '1995', 'fac...   \n",
       "78402            NaN  {'atAGlanceFacts': [{'factValue': '1972', 'fac...   \n",
       "220092  Bathrooms: 1  {'atAGlanceFacts': [{'factValue': '1972', 'fac...   \n",
       "14671        2 Baths  {'atAGlanceFacts': [{'factValue': '1975', 'fac...   \n",
       "209126  Bathrooms: 2  {'atAGlanceFacts': [{'factValue': '1975', 'fac...   \n",
       "33981        3 Baths  {'atAGlanceFacts': [{'factValue': '1960', 'fac...   \n",
       "236293       2 Baths  {'atAGlanceFacts': [{'factValue': '1969', 'fac...   \n",
       "344897  Bathrooms: 2  {'atAGlanceFacts': [{'factValue': '1969', 'fac...   \n",
       "286681       4 Baths  {'atAGlanceFacts': [{'factValue': '2019', 'fac...   \n",
       "15848           4 ba  {'atAGlanceFacts': [{'factValue': '2019', 'fac...   \n",
       "96074        3 Baths  {'atAGlanceFacts': [{'factValue': '1950', 'fac...   \n",
       "55198   Bathrooms: 3  {'atAGlanceFacts': [{'factValue': '1950', 'fac...   \n",
       "297329          2 ba  {'atAGlanceFacts': [{'factValue': '1994', 'fac...   \n",
       "321978       2 Baths  {'atAGlanceFacts': [{'factValue': '1994', 'fac...   \n",
       "199061           750  {'atAGlanceFacts': [{'factValue': '2013', 'fac...   \n",
       "212400       2 Baths  {'atAGlanceFacts': [{'factValue': '2013', 'fac...   \n",
       "293817  Bathrooms: 2  {'atAGlanceFacts': [{'factValue': '2013', 'fac...   \n",
       "\n",
       "       fireplace             city  \\\n",
       "312219       NaN    Staten Island   \n",
       "280379       NaN    Staten Island   \n",
       "183889       NaN           Austin   \n",
       "262840       NaN   Pembroke Pines   \n",
       "132858       NaN   Pembroke Pines   \n",
       "78402        yes      Westminster   \n",
       "220092       Yes           Denver   \n",
       "14671        NaN         Palm Bay   \n",
       "209126       NaN         Palm Bay   \n",
       "33981        yes            Bronx   \n",
       "236293       NaN   Bonita Springs   \n",
       "344897       NaN   Bonita Springs   \n",
       "286681       yes          Raleigh   \n",
       "15848        NaN          Raleigh   \n",
       "96074        NaN  West Palm Beach   \n",
       "55198        NaN  West Palm Beach   \n",
       "297329       NaN     Weeki Wachee   \n",
       "321978       yes     Weeki Wachee   \n",
       "199061       NaN       Washington   \n",
       "212400       NaN       Washington   \n",
       "293817       NaN       Washington   \n",
       "\n",
       "                                                  schools  \\\n",
       "312219  [{'rating': ['4/10', '5/10', '3/10'], 'data': ...   \n",
       "280379  [{'rating': ['3/10', '5/10', '4/10'], 'data': ...   \n",
       "183889  [{'rating': ['3/10', '5/10', '4/10'], 'data': ...   \n",
       "262840  [{'rating': ['5/10', '5/10', '7/10'], 'data': ...   \n",
       "132858  [{'rating': ['5/10', '5/10', '7/10'], 'data': ...   \n",
       "78402   [{'rating': ['6/10', '4/10', '6/10'], 'data': ...   \n",
       "220092  [{'rating': ['6/10', '4/10', '6/10'], 'data': ...   \n",
       "14671   [{'rating': ['3/10', '5/10', '4/10'], 'data': ...   \n",
       "209126  [{'rating': ['5/10', '4/10', '3/10'], 'data': ...   \n",
       "33981   [{'rating': ['3/10', '7/10'], 'data': {'Distan...   \n",
       "236293  [{'rating': ['3/10', '8/10', '4/10', '5/10', '...   \n",
       "344897  [{'rating': ['3/10', '7/10', '7/10'], 'data': ...   \n",
       "286681  [{'rating': ['5/10', '5/10', '3/10'], 'data': ...   \n",
       "15848   [{'rating': ['5/10', '5/10', '3/10'], 'data': ...   \n",
       "96074   [{'rating': ['5/10', '3/10', '8/10'], 'data': ...   \n",
       "55198   [{'rating': ['8/10', '5/10', '3/10'], 'data': ...   \n",
       "297329  [{'rating': ['6/10', '4/10', '5/10'], 'data': ...   \n",
       "321978  [{'rating': ['6/10', '4/10', '5/10'], 'data': ...   \n",
       "199061  [{'rating': ['8', '8', '3', '8'], 'data': {'Di...   \n",
       "212400  [{'rating': ['8/10', '3/10'], 'data': {'Distan...   \n",
       "293817  [{'rating': ['8/10', '3/10'], 'data': {'Distan...   \n",
       "\n",
       "                                           sqft zipcode    beds state stories  \\\n",
       "312219  Total interior livable area: 1,764 sqft   10302    4 bd    NY     2.0   \n",
       "280379                               1,764 sqft   10302  4 Beds    NY     2.0   \n",
       "183889                               2,700 sqft   78704    4 bd    TX     NaN   \n",
       "262840  Total interior livable area: 2,033 sqft   33025    3 bd    FL     0.0   \n",
       "132858                               2,033 sqft   33025  3 Beds    FL     NaN   \n",
       "78402                                  731 sqft   80234     NaN    CO     NaN   \n",
       "220092    Total interior livable area: 731 sqft   80234    1 bd    CO     0.0   \n",
       "14671                                1,058 sqft   32907  2 Beds    FL     1.0   \n",
       "209126  Total interior livable area: 1,058 sqft   32907    2 bd    FL     1.0   \n",
       "33981                                2,280 sqft   10461  4 Beds    NY     2.0   \n",
       "236293                                 988 sqft   34134  2 Beds    FL     1.0   \n",
       "344897    Total interior livable area: 988 sqft   34134    2 bd    FL     1.0   \n",
       "286681                               4,346 sqft   27603  4 Beds    NC     NaN   \n",
       "15848                                4,346 sqft   27603    4 bd    NC     NaN   \n",
       "96074                                2,974 sqft   33401  3 Beds    FL     NaN   \n",
       "55198   Total interior livable area: 2,974 sqft   33401    3 bd    FL     0.0   \n",
       "297329                               2,026 sqft   34607    3 bd    FL     NaN   \n",
       "321978                               2,026 sqft   34607  3 Beds    FL     1.0   \n",
       "199061                                    1,191   20001     NaN    DC     NaN   \n",
       "212400                               1,191 sqft   20001  2 Beds    DC     1.0   \n",
       "293817  Total interior livable area: 1,191 sqft   20001    2 bd    DC     1.0   \n",
       "\n",
       "             mls-id        MlsId      target  PoolPrivate  \n",
       "312219      1131415          NaN    $541,900            0  \n",
       "280379          NaN      1131415    $499,000            0  \n",
       "183889      4988474          NaN  $1,200,000            0  \n",
       "262840    a10761151          NaN    $449,000            0  \n",
       "132858          NaN    a10761151    $449,000            0  \n",
       "78402           NaN      6792105    $139,000            1  \n",
       "220092      6792105          NaN    $139,000            1  \n",
       "14671           NaN       860198     $74,000            1  \n",
       "209126       860198          NaN     $74,000            1  \n",
       "33981           NaN      4988474    $710,000            0  \n",
       "236293          NaN    219053805    $579,000            0  \n",
       "344897    219053805          NaN    $579,000            0  \n",
       "286681          NaN      2274700    $669,771            0  \n",
       "15848       2274700          NaN    $669,771            0  \n",
       "96074           NaN  rx-10559392    $875,000            0  \n",
       "55198   rx-10559392          NaN    $875,000            0  \n",
       "297329      2203893          NaN    $174,000            0  \n",
       "321978          NaN      2203893    $174,000            0  \n",
       "199061          NaN   dcdc445196   1,250,000            0  \n",
       "212400          NaN   dcdc445196  $1,250,000            0  \n",
       "293817   dcdc445196          NaN  $1,250,000            0  "
      ]
     },
     "execution_count": 17,
     "metadata": {},
     "output_type": "execute_result"
    }
   ],
   "source": [
    "# выделим несколько ID MLS, которые присутствуют в обоих полях, и проверим, одинаковые ли объекты им соответствуют\n",
    "q = list(set(MlsIdList) & set(mls_id_List))[1:]\n",
    "df[df['mls-id'].isin(q[:10]) | df['MlsId'].isin(q[:10])].sort_values(by='street')"
   ]
  },
  {
   "cell_type": "code",
   "execution_count": 18,
   "metadata": {},
   "outputs": [
    {
     "name": "stdout",
     "output_type": "stream",
     "text": [
      "<class 'pandas.core.frame.DataFrame'>\n",
      "Int64Index: 374655 entries, 0 to 377184\n",
      "Data columns (total 16 columns):\n",
      " #   Column        Non-Null Count   Dtype \n",
      "---  ------        --------------   ----- \n",
      " 0   status        335399 non-null  object\n",
      " 1   propertyType  340101 non-null  object\n",
      " 2   street        374653 non-null  object\n",
      " 3   baths         269308 non-null  object\n",
      " 4   homeFacts     374655 non-null  object\n",
      " 5   fireplace     102519 non-null  object\n",
      " 6   city          374621 non-null  object\n",
      " 7   schools       374655 non-null  object\n",
      " 8   sqft          334560 non-null  object\n",
      " 9   zipcode       374655 non-null  object\n",
      " 10  beds          283726 non-null  object\n",
      " 11  state         374655 non-null  object\n",
      " 12  stories       224902 non-null  object\n",
      " 13  target        374655 non-null  object\n",
      " 14  PoolPrivate   374655 non-null  int64 \n",
      " 15  MLS           374655 non-null  object\n",
      "dtypes: int64(1), object(15)\n",
      "memory usage: 48.6+ MB\n"
     ]
    }
   ],
   "source": [
    "# на примере выборочной проверки делаем вывод, что идентификаторы в обоих полях относятся к одним и тем же объектам\n",
    "# объединим идентификатор MLS в один столбец и удалим два исходных\n",
    "df['MLS'] = df['MlsId'].fillna('') + df['mls-id'].fillna('')\n",
    "df = df.drop(columns=['MlsId', 'mls-id'], axis=1)\n",
    "df.info()"
   ]
  },
  {
   "cell_type": "code",
   "execution_count": 19,
   "metadata": {},
   "outputs": [
    {
     "data": {
      "text/plain": [
       "                             39531\n",
       "no mls                          42\n",
       "no mls #                        16\n",
       "a, houston, tx 77008            13\n",
       "no                              12\n",
       "12a, orlando, fl 32833          11\n",
       "b, houston, tx 77008             9\n",
       "1, south boston, ma 02127        9\n",
       "b, houston, tx 77007             8\n",
       "2, washington, dc 20002          8\n",
       "11a, orlando, fl 32833           8\n",
       "1, washington, dc 20002          7\n",
       "2, washington, dc 20010          7\n",
       "1, washington, dc 20010          6\n",
       "1, washington, dc 20001          6\n",
       "a, austin, tx 78721              6\n",
       "2, washington, dc 20001          6\n",
       "a, austin, tx 78704              6\n",
       "2101941                          6\n",
       "1412350                          6\n",
       "2088662                          6\n",
       "3a, orlando, fl 32833            6\n",
       "1a, orlando, fl 32833            6\n",
       "2, washington, dc 20009          6\n",
       "nomlsid                          6\n",
       "2, boston, ma 02129              6\n",
       "0, doral, fl 33178               6\n",
       "a, houston, tx 77018             5\n",
       "14181176                         5\n",
       "5413978                          5\n",
       "1520876                          5\n",
       "b, austin, tx 78704              5\n",
       "14237217                         5\n",
       "2281272                          5\n",
       "1026004                          5\n",
       "1367153                          5\n",
       "1420965                          5\n",
       "a10778725                        5\n",
       "a, austin, tx 78702              5\n",
       "dw19260559                       5\n",
       "dcdc451020                       5\n",
       "1298199                          5\n",
       "14168512                         5\n",
       "b, houston, tx 77057             5\n",
       "14230543                         5\n",
       "14191214                         5\n",
       "u8059738                         5\n",
       "dcdc449148                       5\n",
       "14226392                         5\n",
       "1, washington, dc 20009          5\n",
       "Name: MLS, dtype: int64"
      ]
     },
     "execution_count": 19,
     "metadata": {},
     "output_type": "execute_result"
    }
   ],
   "source": [
    "# посмотрим неоднократно встречающиеся варианты для проверки разного написания отсутствия номера\n",
    "df['MLS'].value_counts().head(50)"
   ]
  },
  {
   "cell_type": "code",
   "execution_count": 20,
   "metadata": {},
   "outputs": [
    {
     "data": {
      "text/plain": [
       "                             39531\n",
       "a, houston, tx 77008            13\n",
       "12a, orlando, fl 32833          11\n",
       "1, south boston, ma 02127        9\n",
       "b, houston, tx 77008             9\n",
       "2, washington, dc 20002          8\n",
       "11a, orlando, fl 32833           8\n",
       "b, houston, tx 77007             8\n",
       "2, washington, dc 20010          7\n",
       "1, washington, dc 20002          7\n",
       "2, boston, ma 02129              6\n",
       "1, washington, dc 20010          6\n",
       "2, washington, dc 20001          6\n",
       "0, doral, fl 33178               6\n",
       "a, austin, tx 78704              6\n",
       "1412350                          6\n",
       "1, washington, dc 20001          6\n",
       "3a, orlando, fl 32833            6\n",
       "a, austin, tx 78721              6\n",
       "2, washington, dc 20009          6\n",
       "2088662                          6\n",
       "1a, orlando, fl 32833            6\n",
       "2101941                          6\n",
       "b, houston, tx 77057             5\n",
       "1026004                          5\n",
       "2281272                          5\n",
       "1019437                          5\n",
       "14168541                         5\n",
       "1367153                          5\n",
       "1537783                          5\n",
       "14100701                         5\n",
       "a, houston, tx 77057             5\n",
       "dw19260559                       5\n",
       "a, austin, tx 78702              5\n",
       "c, houston, tx 77007             5\n",
       "14187092                         5\n",
       "2106972                          5\n",
       "14212336                         5\n",
       "1520876                          5\n",
       "b, austin, tx 78704              5\n",
       "14181176                         5\n",
       "14191214                         5\n",
       "1420965                          5\n",
       "u8059738                         5\n",
       "a, houston, tx 77018             5\n",
       "14230543                         5\n",
       "1424539                          5\n",
       "14226392                         5\n",
       "1, washington, dc 20009          5\n",
       "14216924                         5\n",
       "Name: MLS, dtype: int64"
      ]
     },
     "execution_count": 20,
     "metadata": {},
     "output_type": "execute_result"
    }
   ],
   "source": [
    "# заменим обозначение отсутствия номера MLS на однотипное пустое значение\n",
    "no_mls = ['no mls', 'no mls #', 'no', 'nomlsid']\n",
    "df['MLS'] = df['MLS'].apply(lambda x: np.nan if (x in no_mls) else x)\n",
    "df['MLS'].value_counts().head(50)"
   ]
  },
  {
   "cell_type": "code",
   "execution_count": 21,
   "metadata": {},
   "outputs": [
    {
     "name": "stdout",
     "output_type": "stream",
     "text": [
      "76\n",
      "0.0 %\n"
     ]
    }
   ],
   "source": [
    "# оценим количество пропусков\n",
    "print(df['MLS'].isna().sum())\n",
    "print(round((df['MLS'].isna().sum()/df.shape[0]*100),0),'%')"
   ]
  },
  {
   "cell_type": "markdown",
   "metadata": {},
   "source": [
    "____________"
   ]
  },
  {
   "cell_type": "markdown",
   "metadata": {},
   "source": [
    "##### Target - Целевой признак"
   ]
  },
  {
   "cell_type": "code",
   "execution_count": 22,
   "metadata": {},
   "outputs": [
    {
     "name": "stdout",
     "output_type": "stream",
     "text": [
      "пропусков :  0\n",
      "пропусков в %:  0.0 %\n",
      "уникальных значений :  43939\n"
     ]
    },
    {
     "data": {
      "text/plain": [
       "$225,000     1462\n",
       "$275,000     1355\n",
       "$250,000     1312\n",
       "$350,000     1296\n",
       "$299,900     1276\n",
       "             ... \n",
       "274,359         1\n",
       "$273,490+       1\n",
       "$645,000+       1\n",
       "$28,272         1\n",
       "$171,306        1\n",
       "Name: target, Length: 43939, dtype: int64"
      ]
     },
     "execution_count": 22,
     "metadata": {},
     "output_type": "execute_result"
    }
   ],
   "source": [
    "# оценим пропуски и посмотрим варианты значений\n",
    "print('пропусков : ',df['target'].isna().sum())\n",
    "print('пропусков в %: ',round((df['target'].isna().sum()/df.shape[0]*100),0),'%')\n",
    "print('уникальных значений : ',df['target'].nunique())\n",
    "df['target'].value_counts()"
   ]
  },
  {
   "cell_type": "code",
   "execution_count": 23,
   "metadata": {},
   "outputs": [
    {
     "data": {
      "text/html": [
       "<div>\n",
       "<style scoped>\n",
       "    .dataframe tbody tr th:only-of-type {\n",
       "        vertical-align: middle;\n",
       "    }\n",
       "\n",
       "    .dataframe tbody tr th {\n",
       "        vertical-align: top;\n",
       "    }\n",
       "\n",
       "    .dataframe thead th {\n",
       "        text-align: right;\n",
       "    }\n",
       "</style>\n",
       "<table border=\"1\" class=\"dataframe\">\n",
       "  <thead>\n",
       "    <tr style=\"text-align: right;\">\n",
       "      <th></th>\n",
       "      <th>status</th>\n",
       "      <th>propertyType</th>\n",
       "      <th>street</th>\n",
       "      <th>baths</th>\n",
       "      <th>homeFacts</th>\n",
       "      <th>fireplace</th>\n",
       "      <th>city</th>\n",
       "      <th>schools</th>\n",
       "      <th>sqft</th>\n",
       "      <th>zipcode</th>\n",
       "      <th>beds</th>\n",
       "      <th>state</th>\n",
       "      <th>stories</th>\n",
       "      <th>target</th>\n",
       "      <th>PoolPrivate</th>\n",
       "      <th>MLS</th>\n",
       "    </tr>\n",
       "  </thead>\n",
       "  <tbody>\n",
       "    <tr>\n",
       "      <th>547</th>\n",
       "      <td>for rent</td>\n",
       "      <td>single-family home</td>\n",
       "      <td>4323 N Central Park Ave</td>\n",
       "      <td>3.5 Baths</td>\n",
       "      <td>{'atAGlanceFacts': [{'factValue': '1913', 'fac...</td>\n",
       "      <td>yes</td>\n",
       "      <td>Chicago</td>\n",
       "      <td>[{'rating': ['1/10', '4/10', '2/10', 'None/10'...</td>\n",
       "      <td>3,300 sqft</td>\n",
       "      <td>60618</td>\n",
       "      <td>4 Beds</td>\n",
       "      <td>IL</td>\n",
       "      <td>NaN</td>\n",
       "      <td>$5,500/mo</td>\n",
       "      <td>0</td>\n",
       "      <td>10588057</td>\n",
       "    </tr>\n",
       "    <tr>\n",
       "      <th>609</th>\n",
       "      <td>for rent</td>\n",
       "      <td>multi-family</td>\n",
       "      <td>220 Boylston St #1412</td>\n",
       "      <td>2 Baths</td>\n",
       "      <td>{'atAGlanceFacts': [{'factValue': '1985', 'fac...</td>\n",
       "      <td>yes</td>\n",
       "      <td>Boston</td>\n",
       "      <td>[{'rating': [], 'data': {'Distance': [], 'Grad...</td>\n",
       "      <td>1,673 sqft</td>\n",
       "      <td>2116</td>\n",
       "      <td>2 Beds</td>\n",
       "      <td>MA</td>\n",
       "      <td>NaN</td>\n",
       "      <td>$10,500/mo</td>\n",
       "      <td>0</td>\n",
       "      <td>72580936</td>\n",
       "    </tr>\n",
       "    <tr>\n",
       "      <th>2075</th>\n",
       "      <td>for rent</td>\n",
       "      <td>single-family home</td>\n",
       "      <td>2830 NE 56th Ct</td>\n",
       "      <td>4 Baths</td>\n",
       "      <td>{'atAGlanceFacts': [{'factValue': '1965', 'fac...</td>\n",
       "      <td>NaN</td>\n",
       "      <td>Fort Lauderdale</td>\n",
       "      <td>[{'rating': ['6/10', '2/10', '4/10'], 'data': ...</td>\n",
       "      <td>2,400 sqft</td>\n",
       "      <td>33308</td>\n",
       "      <td>4 Beds</td>\n",
       "      <td>FL</td>\n",
       "      <td>NaN</td>\n",
       "      <td>$6,390/mo</td>\n",
       "      <td>1</td>\n",
       "      <td>a10521855</td>\n",
       "    </tr>\n",
       "    <tr>\n",
       "      <th>3025</th>\n",
       "      <td>for rent</td>\n",
       "      <td>multi-family</td>\n",
       "      <td>411 Kline Aly</td>\n",
       "      <td>2.5 Baths</td>\n",
       "      <td>{'atAGlanceFacts': [{'factValue': '2014', 'fac...</td>\n",
       "      <td>NaN</td>\n",
       "      <td>Clarksville</td>\n",
       "      <td>[{'rating': ['8/10', '9/10', '7/10'], 'data': ...</td>\n",
       "      <td>1,280 sqft</td>\n",
       "      <td>37040</td>\n",
       "      <td>2 Beds</td>\n",
       "      <td>TN</td>\n",
       "      <td>NaN</td>\n",
       "      <td>$1,200/mo</td>\n",
       "      <td>0</td>\n",
       "      <td>2102821</td>\n",
       "    </tr>\n",
       "    <tr>\n",
       "      <th>3645</th>\n",
       "      <td>for rent</td>\n",
       "      <td>multi-family</td>\n",
       "      <td>240 E Illinois St #2011</td>\n",
       "      <td>2 Baths</td>\n",
       "      <td>{'atAGlanceFacts': [{'factValue': '2003', 'fac...</td>\n",
       "      <td>NaN</td>\n",
       "      <td>Chicago</td>\n",
       "      <td>[{'rating': ['4/10', '7/10'], 'data': {'Distan...</td>\n",
       "      <td>1,473 sqft</td>\n",
       "      <td>60611</td>\n",
       "      <td>2 Beds</td>\n",
       "      <td>IL</td>\n",
       "      <td>NaN</td>\n",
       "      <td>$3,600/mo</td>\n",
       "      <td>1</td>\n",
       "      <td>10590275</td>\n",
       "    </tr>\n",
       "    <tr>\n",
       "      <th>...</th>\n",
       "      <td>...</td>\n",
       "      <td>...</td>\n",
       "      <td>...</td>\n",
       "      <td>...</td>\n",
       "      <td>...</td>\n",
       "      <td>...</td>\n",
       "      <td>...</td>\n",
       "      <td>...</td>\n",
       "      <td>...</td>\n",
       "      <td>...</td>\n",
       "      <td>...</td>\n",
       "      <td>...</td>\n",
       "      <td>...</td>\n",
       "      <td>...</td>\n",
       "      <td>...</td>\n",
       "      <td>...</td>\n",
       "    </tr>\n",
       "    <tr>\n",
       "      <th>371791</th>\n",
       "      <td>for rent</td>\n",
       "      <td>multi-family</td>\n",
       "      <td>9436 Turrentine Dr</td>\n",
       "      <td>1.5 Baths</td>\n",
       "      <td>{'atAGlanceFacts': [{'factValue': '', 'factLab...</td>\n",
       "      <td>NaN</td>\n",
       "      <td>El Paso</td>\n",
       "      <td>[{'rating': ['4/10', '8/10', '6/10'], 'data': ...</td>\n",
       "      <td>1,050 sqft</td>\n",
       "      <td>79925</td>\n",
       "      <td>2 Beds</td>\n",
       "      <td>TX</td>\n",
       "      <td>NaN</td>\n",
       "      <td>$890/mo</td>\n",
       "      <td>0</td>\n",
       "      <td>820163</td>\n",
       "    </tr>\n",
       "    <tr>\n",
       "      <th>372459</th>\n",
       "      <td>for rent</td>\n",
       "      <td>townhouse</td>\n",
       "      <td>34 Jonquil Pl</td>\n",
       "      <td>2.5 Baths</td>\n",
       "      <td>{'atAGlanceFacts': [{'factValue': '2014', 'fac...</td>\n",
       "      <td>NaN</td>\n",
       "      <td>The Woodlands</td>\n",
       "      <td>[{'rating': ['5/10', '8/10', '7/10', '8/10'], ...</td>\n",
       "      <td>2,601 sqft</td>\n",
       "      <td>77375</td>\n",
       "      <td>3 Beds</td>\n",
       "      <td>TX</td>\n",
       "      <td>NaN</td>\n",
       "      <td>$2,500/mo</td>\n",
       "      <td>0</td>\n",
       "      <td>62158637</td>\n",
       "    </tr>\n",
       "    <tr>\n",
       "      <th>374288</th>\n",
       "      <td>for rent</td>\n",
       "      <td>single-family home</td>\n",
       "      <td>8864 Devonshire Dr</td>\n",
       "      <td>2 Baths</td>\n",
       "      <td>{'atAGlanceFacts': [{'factValue': '2016', 'fac...</td>\n",
       "      <td>yes</td>\n",
       "      <td>Fort Worth</td>\n",
       "      <td>[{'rating': ['6/10', '5/10', '5/10'], 'data': ...</td>\n",
       "      <td>2,000 sqft</td>\n",
       "      <td>76131</td>\n",
       "      <td>4 Beds</td>\n",
       "      <td>TX</td>\n",
       "      <td>NaN</td>\n",
       "      <td>$2,000/mo</td>\n",
       "      <td>0</td>\n",
       "      <td></td>\n",
       "    </tr>\n",
       "    <tr>\n",
       "      <th>375550</th>\n",
       "      <td>for rent</td>\n",
       "      <td>townhouse</td>\n",
       "      <td>2217 W Seybert St</td>\n",
       "      <td>NaN</td>\n",
       "      <td>{'atAGlanceFacts': [{'factValue': '1920', 'fac...</td>\n",
       "      <td>NaN</td>\n",
       "      <td>Philadelphia</td>\n",
       "      <td>[{'rating': ['1/10', '3/10'], 'data': {'Distan...</td>\n",
       "      <td>720 sqft</td>\n",
       "      <td>19121</td>\n",
       "      <td>2 Beds</td>\n",
       "      <td>PA</td>\n",
       "      <td>NaN</td>\n",
       "      <td>$1,500/mo</td>\n",
       "      <td>0</td>\n",
       "      <td>paph857944</td>\n",
       "    </tr>\n",
       "    <tr>\n",
       "      <th>376976</th>\n",
       "      <td>for rent</td>\n",
       "      <td>single-family home</td>\n",
       "      <td>3819 Alabama Ave NE</td>\n",
       "      <td>2 Baths</td>\n",
       "      <td>{'atAGlanceFacts': [{'factValue': '1961', 'fac...</td>\n",
       "      <td>NaN</td>\n",
       "      <td>Saint Petersburg</td>\n",
       "      <td>[{'rating': ['2/10', '5/10', '4/10'], 'data': ...</td>\n",
       "      <td>1,304 sqft</td>\n",
       "      <td>33703</td>\n",
       "      <td>3 Beds</td>\n",
       "      <td>FL</td>\n",
       "      <td>NaN</td>\n",
       "      <td>$1,900/mo</td>\n",
       "      <td>0</td>\n",
       "      <td></td>\n",
       "    </tr>\n",
       "  </tbody>\n",
       "</table>\n",
       "<p>398 rows × 16 columns</p>\n",
       "</div>"
      ],
      "text/plain": [
       "          status        propertyType                   street      baths  \\\n",
       "547     for rent  single-family home  4323 N Central Park Ave  3.5 Baths   \n",
       "609     for rent        multi-family    220 Boylston St #1412    2 Baths   \n",
       "2075    for rent  single-family home          2830 NE 56th Ct    4 Baths   \n",
       "3025    for rent        multi-family            411 Kline Aly  2.5 Baths   \n",
       "3645    for rent        multi-family  240 E Illinois St #2011    2 Baths   \n",
       "...          ...                 ...                      ...        ...   \n",
       "371791  for rent        multi-family       9436 Turrentine Dr  1.5 Baths   \n",
       "372459  for rent           townhouse            34 Jonquil Pl  2.5 Baths   \n",
       "374288  for rent  single-family home       8864 Devonshire Dr    2 Baths   \n",
       "375550  for rent           townhouse        2217 W Seybert St        NaN   \n",
       "376976  for rent  single-family home      3819 Alabama Ave NE    2 Baths   \n",
       "\n",
       "                                                homeFacts fireplace  \\\n",
       "547     {'atAGlanceFacts': [{'factValue': '1913', 'fac...       yes   \n",
       "609     {'atAGlanceFacts': [{'factValue': '1985', 'fac...       yes   \n",
       "2075    {'atAGlanceFacts': [{'factValue': '1965', 'fac...       NaN   \n",
       "3025    {'atAGlanceFacts': [{'factValue': '2014', 'fac...       NaN   \n",
       "3645    {'atAGlanceFacts': [{'factValue': '2003', 'fac...       NaN   \n",
       "...                                                   ...       ...   \n",
       "371791  {'atAGlanceFacts': [{'factValue': '', 'factLab...       NaN   \n",
       "372459  {'atAGlanceFacts': [{'factValue': '2014', 'fac...       NaN   \n",
       "374288  {'atAGlanceFacts': [{'factValue': '2016', 'fac...       yes   \n",
       "375550  {'atAGlanceFacts': [{'factValue': '1920', 'fac...       NaN   \n",
       "376976  {'atAGlanceFacts': [{'factValue': '1961', 'fac...       NaN   \n",
       "\n",
       "                    city                                            schools  \\\n",
       "547              Chicago  [{'rating': ['1/10', '4/10', '2/10', 'None/10'...   \n",
       "609               Boston  [{'rating': [], 'data': {'Distance': [], 'Grad...   \n",
       "2075     Fort Lauderdale  [{'rating': ['6/10', '2/10', '4/10'], 'data': ...   \n",
       "3025         Clarksville  [{'rating': ['8/10', '9/10', '7/10'], 'data': ...   \n",
       "3645             Chicago  [{'rating': ['4/10', '7/10'], 'data': {'Distan...   \n",
       "...                  ...                                                ...   \n",
       "371791           El Paso  [{'rating': ['4/10', '8/10', '6/10'], 'data': ...   \n",
       "372459     The Woodlands  [{'rating': ['5/10', '8/10', '7/10', '8/10'], ...   \n",
       "374288        Fort Worth  [{'rating': ['6/10', '5/10', '5/10'], 'data': ...   \n",
       "375550      Philadelphia  [{'rating': ['1/10', '3/10'], 'data': {'Distan...   \n",
       "376976  Saint Petersburg  [{'rating': ['2/10', '5/10', '4/10'], 'data': ...   \n",
       "\n",
       "              sqft zipcode    beds state stories      target  PoolPrivate  \\\n",
       "547     3,300 sqft   60618  4 Beds    IL     NaN   $5,500/mo            0   \n",
       "609     1,673 sqft    2116  2 Beds    MA     NaN  $10,500/mo            0   \n",
       "2075    2,400 sqft   33308  4 Beds    FL     NaN   $6,390/mo            1   \n",
       "3025    1,280 sqft   37040  2 Beds    TN     NaN   $1,200/mo            0   \n",
       "3645    1,473 sqft   60611  2 Beds    IL     NaN   $3,600/mo            1   \n",
       "...            ...     ...     ...   ...     ...         ...          ...   \n",
       "371791  1,050 sqft   79925  2 Beds    TX     NaN     $890/mo            0   \n",
       "372459  2,601 sqft   77375  3 Beds    TX     NaN   $2,500/mo            0   \n",
       "374288  2,000 sqft   76131  4 Beds    TX     NaN   $2,000/mo            0   \n",
       "375550    720 sqft   19121  2 Beds    PA     NaN   $1,500/mo            0   \n",
       "376976  1,304 sqft   33703  3 Beds    FL     NaN   $1,900/mo            0   \n",
       "\n",
       "               MLS  \n",
       "547       10588057  \n",
       "609       72580936  \n",
       "2075     a10521855  \n",
       "3025       2102821  \n",
       "3645      10590275  \n",
       "...            ...  \n",
       "371791      820163  \n",
       "372459    62158637  \n",
       "374288              \n",
       "375550  paph857944  \n",
       "376976              \n",
       "\n",
       "[398 rows x 16 columns]"
      ]
     },
     "execution_count": 23,
     "metadata": {},
     "output_type": "execute_result"
    }
   ],
   "source": [
    "# проверим, нет ли помимо явных символов еще и букв в каких-то значениях\n",
    "df[df['target'].str.contains('[a-zA-Z:]')]"
   ]
  },
  {
   "cell_type": "code",
   "execution_count": 24,
   "metadata": {},
   "outputs": [
    {
     "data": {
      "text/plain": [
       "for rent              398\n",
       "Apartment for rent      7\n",
       "Condo for rent          7\n",
       "Name: status, dtype: int64"
      ]
     },
     "execution_count": 24,
     "metadata": {},
     "output_type": "execute_result"
    }
   ],
   "source": [
    "# обнаружились записи со стоимостью аренды в месяц, посмотрим в целом имеющие отношение к аренде записи\n",
    "df[df['status'].str.contains('rent', na=False)]['status'].value_counts()"
   ]
  },
  {
   "cell_type": "code",
   "execution_count": 25,
   "metadata": {},
   "outputs": [
    {
     "data": {
      "text/plain": [
       "374243"
      ]
     },
     "execution_count": 25,
     "metadata": {},
     "output_type": "execute_result"
    }
   ],
   "source": [
    "# поскольку в целом модель должна предказывать стоимость продажи объекта\n",
    "# плюс поскольку даже при желании на 400 записях достойный прогноз не построишь\n",
    "# и эти записи составляют 0,1% от общего количества\n",
    "# удаляем все записи, связанные с арендой\n",
    "df = df[~df['status'].str.contains('rent', na=False)]\n",
    "df.shape[0]"
   ]
  },
  {
   "cell_type": "code",
   "execution_count": 26,
   "metadata": {},
   "outputs": [],
   "source": [
    "# теперь заменим все остальные обнаруженные знаки, которые мешают перевести суммы в числовой формат\n",
    "df['target'] = df['target'].apply(lambda x: int(x.replace('$','').\n",
    "                                replace('+','').\n",
    "                                replace(',','')))\n",
    "# и собственно сменим тип данных в этом признаке\n",
    "df['target'] = df['target'].astype(int)"
   ]
  },
  {
   "cell_type": "markdown",
   "metadata": {},
   "source": [
    "________________"
   ]
  },
  {
   "cell_type": "markdown",
   "metadata": {},
   "source": [
    "##### State - штат"
   ]
  },
  {
   "cell_type": "code",
   "execution_count": 27,
   "metadata": {},
   "outputs": [
    {
     "name": "stdout",
     "output_type": "stream",
     "text": [
      "пропусков :  0\n",
      "пропусков в %:  0.0 %\n",
      "уникальных значений :  39\n"
     ]
    },
    {
     "data": {
      "text/plain": [
       "FL    114548\n",
       "TX     83263\n",
       "NY     24324\n",
       "CA     23169\n",
       "NC     21760\n",
       "TN     18217\n",
       "WA     13721\n",
       "OH     12422\n",
       "IL      8821\n",
       "NV      8401\n",
       "GA      6628\n",
       "CO      6371\n",
       "PA      5493\n",
       "MI      5119\n",
       "DC      4580\n",
       "AZ      3347\n",
       "IN      3279\n",
       "OR      2774\n",
       "MA      1493\n",
       "UT      1319\n",
       "MD      1086\n",
       "VT       864\n",
       "MO       832\n",
       "VA       800\n",
       "WI       452\n",
       "NJ       436\n",
       "ME       258\n",
       "IA       242\n",
       "KY        90\n",
       "OK        49\n",
       "MS        40\n",
       "SC        28\n",
       "MT         7\n",
       "DE         5\n",
       "Fl         1\n",
       "BA         1\n",
       "AL         1\n",
       "OT         1\n",
       "OS         1\n",
       "Name: state, dtype: int64"
      ]
     },
     "execution_count": 27,
     "metadata": {},
     "output_type": "execute_result"
    }
   ],
   "source": [
    "# оценим пропуски и посмотрим варианты значений\n",
    "print('пропусков : ',df['state'].isna().sum())\n",
    "print('пропусков в %: ',round((df['state'].isna().sum()/df.shape[0]*100),0),'%')\n",
    "print('уникальных значений : ',df['state'].nunique())\n",
    "df['state'].value_counts()"
   ]
  },
  {
   "cell_type": "code",
   "execution_count": 28,
   "metadata": {},
   "outputs": [
    {
     "data": {
      "text/html": [
       "<div>\n",
       "<style scoped>\n",
       "    .dataframe tbody tr th:only-of-type {\n",
       "        vertical-align: middle;\n",
       "    }\n",
       "\n",
       "    .dataframe tbody tr th {\n",
       "        vertical-align: top;\n",
       "    }\n",
       "\n",
       "    .dataframe thead th {\n",
       "        text-align: right;\n",
       "    }\n",
       "</style>\n",
       "<table border=\"1\" class=\"dataframe\">\n",
       "  <thead>\n",
       "    <tr style=\"text-align: right;\">\n",
       "      <th></th>\n",
       "      <th>zipcode</th>\n",
       "      <th>state</th>\n",
       "    </tr>\n",
       "  </thead>\n",
       "  <tbody>\n",
       "    <tr>\n",
       "      <th>0</th>\n",
       "      <td>--</td>\n",
       "      <td>2</td>\n",
       "    </tr>\n",
       "    <tr>\n",
       "      <th>1</th>\n",
       "      <td>0</td>\n",
       "      <td>3</td>\n",
       "    </tr>\n",
       "    <tr>\n",
       "      <th>197</th>\n",
       "      <td>11210</td>\n",
       "      <td>2</td>\n",
       "    </tr>\n",
       "    <tr>\n",
       "      <th>538</th>\n",
       "      <td>20003</td>\n",
       "      <td>2</td>\n",
       "    </tr>\n",
       "    <tr>\n",
       "      <th>1482</th>\n",
       "      <td>33179</td>\n",
       "      <td>2</td>\n",
       "    </tr>\n",
       "    <tr>\n",
       "      <th>1512</th>\n",
       "      <td>33321</td>\n",
       "      <td>2</td>\n",
       "    </tr>\n",
       "    <tr>\n",
       "      <th>2997</th>\n",
       "      <td>77380</td>\n",
       "      <td>2</td>\n",
       "    </tr>\n",
       "    <tr>\n",
       "      <th>3050</th>\n",
       "      <td>77710</td>\n",
       "      <td>2</td>\n",
       "    </tr>\n",
       "    <tr>\n",
       "      <th>3155</th>\n",
       "      <td>78501</td>\n",
       "      <td>2</td>\n",
       "    </tr>\n",
       "    <tr>\n",
       "      <th>3956</th>\n",
       "      <td>92703</td>\n",
       "      <td>2</td>\n",
       "    </tr>\n",
       "  </tbody>\n",
       "</table>\n",
       "</div>"
      ],
      "text/plain": [
       "     zipcode  state\n",
       "0         --      2\n",
       "1          0      3\n",
       "197    11210      2\n",
       "538    20003      2\n",
       "1482   33179      2\n",
       "1512   33321      2\n",
       "2997   77380      2\n",
       "3050   77710      2\n",
       "3155   78501      2\n",
       "3956   92703      2"
      ]
     },
     "execution_count": 28,
     "metadata": {},
     "output_type": "execute_result"
    }
   ],
   "source": [
    "# в предположении, что индекс должен относиться только к одному штату, проверим соответствие индексов и штатов\n",
    "# выделим те индексы, к которым сопоставлены более 1 штата\n",
    "states = df.groupby(['zipcode', 'state'])['status'].agg('count').reset_index()[['zipcode', 'state']]\n",
    "states1 = states.groupby('zipcode').agg('count').reset_index()\n",
    "states2 = states1[states1['state'] > 1]\n",
    "states2"
   ]
  },
  {
   "cell_type": "code",
   "execution_count": 29,
   "metadata": {},
   "outputs": [
    {
     "data": {
      "text/plain": [
       "['11210', '20003', '33179', '33321', '77380', '77710', '78501', '92703']"
      ]
     },
     "execution_count": 29,
     "metadata": {},
     "output_type": "execute_result"
    }
   ],
   "source": [
    "# зафиксируем перечень индексов, к которым сопоставлены несколько штатов\n",
    "states3 = list(states2['zipcode'][2:])\n",
    "states3"
   ]
  },
  {
   "cell_type": "code",
   "execution_count": 30,
   "metadata": {},
   "outputs": [
    {
     "data": {
      "text/html": [
       "<div>\n",
       "<style scoped>\n",
       "    .dataframe tbody tr th:only-of-type {\n",
       "        vertical-align: middle;\n",
       "    }\n",
       "\n",
       "    .dataframe tbody tr th {\n",
       "        vertical-align: top;\n",
       "    }\n",
       "\n",
       "    .dataframe thead th {\n",
       "        text-align: right;\n",
       "    }\n",
       "</style>\n",
       "<table border=\"1\" class=\"dataframe\">\n",
       "  <thead>\n",
       "    <tr style=\"text-align: right;\">\n",
       "      <th>state</th>\n",
       "      <th>BA</th>\n",
       "      <th>CA</th>\n",
       "      <th>DC</th>\n",
       "      <th>DE</th>\n",
       "      <th>FL</th>\n",
       "      <th>Fl</th>\n",
       "      <th>MA</th>\n",
       "      <th>NY</th>\n",
       "      <th>OT</th>\n",
       "      <th>TN</th>\n",
       "      <th>TX</th>\n",
       "    </tr>\n",
       "    <tr>\n",
       "      <th>zipcode</th>\n",
       "      <th></th>\n",
       "      <th></th>\n",
       "      <th></th>\n",
       "      <th></th>\n",
       "      <th></th>\n",
       "      <th></th>\n",
       "      <th></th>\n",
       "      <th></th>\n",
       "      <th></th>\n",
       "      <th></th>\n",
       "      <th></th>\n",
       "    </tr>\n",
       "  </thead>\n",
       "  <tbody>\n",
       "    <tr>\n",
       "      <th>11210</th>\n",
       "      <td></td>\n",
       "      <td></td>\n",
       "      <td></td>\n",
       "      <td></td>\n",
       "      <td></td>\n",
       "      <td></td>\n",
       "      <td></td>\n",
       "      <td>194.0</td>\n",
       "      <td>1.0</td>\n",
       "      <td></td>\n",
       "      <td></td>\n",
       "    </tr>\n",
       "    <tr>\n",
       "      <th>20003</th>\n",
       "      <td></td>\n",
       "      <td></td>\n",
       "      <td>188.0</td>\n",
       "      <td></td>\n",
       "      <td></td>\n",
       "      <td></td>\n",
       "      <td>1.0</td>\n",
       "      <td></td>\n",
       "      <td></td>\n",
       "      <td></td>\n",
       "      <td></td>\n",
       "    </tr>\n",
       "    <tr>\n",
       "      <th>33179</th>\n",
       "      <td>1.0</td>\n",
       "      <td></td>\n",
       "      <td></td>\n",
       "      <td></td>\n",
       "      <td>682.0</td>\n",
       "      <td></td>\n",
       "      <td></td>\n",
       "      <td></td>\n",
       "      <td></td>\n",
       "      <td></td>\n",
       "      <td></td>\n",
       "    </tr>\n",
       "    <tr>\n",
       "      <th>33321</th>\n",
       "      <td></td>\n",
       "      <td></td>\n",
       "      <td></td>\n",
       "      <td></td>\n",
       "      <td>561.0</td>\n",
       "      <td>1.0</td>\n",
       "      <td></td>\n",
       "      <td></td>\n",
       "      <td></td>\n",
       "      <td></td>\n",
       "      <td></td>\n",
       "    </tr>\n",
       "    <tr>\n",
       "      <th>77380</th>\n",
       "      <td></td>\n",
       "      <td></td>\n",
       "      <td></td>\n",
       "      <td></td>\n",
       "      <td></td>\n",
       "      <td></td>\n",
       "      <td></td>\n",
       "      <td></td>\n",
       "      <td></td>\n",
       "      <td>1.0</td>\n",
       "      <td>124.0</td>\n",
       "    </tr>\n",
       "    <tr>\n",
       "      <th>77710</th>\n",
       "      <td></td>\n",
       "      <td></td>\n",
       "      <td></td>\n",
       "      <td>3.0</td>\n",
       "      <td></td>\n",
       "      <td></td>\n",
       "      <td></td>\n",
       "      <td></td>\n",
       "      <td></td>\n",
       "      <td></td>\n",
       "      <td>5.0</td>\n",
       "    </tr>\n",
       "    <tr>\n",
       "      <th>78501</th>\n",
       "      <td></td>\n",
       "      <td></td>\n",
       "      <td></td>\n",
       "      <td></td>\n",
       "      <td>2.0</td>\n",
       "      <td></td>\n",
       "      <td></td>\n",
       "      <td></td>\n",
       "      <td></td>\n",
       "      <td></td>\n",
       "      <td>165.0</td>\n",
       "    </tr>\n",
       "    <tr>\n",
       "      <th>92703</th>\n",
       "      <td></td>\n",
       "      <td>84.0</td>\n",
       "      <td></td>\n",
       "      <td></td>\n",
       "      <td></td>\n",
       "      <td></td>\n",
       "      <td></td>\n",
       "      <td></td>\n",
       "      <td></td>\n",
       "      <td>2.0</td>\n",
       "      <td></td>\n",
       "    </tr>\n",
       "  </tbody>\n",
       "</table>\n",
       "</div>"
      ],
      "text/plain": [
       "state     BA    CA     DC   DE     FL   Fl   MA     NY   OT   TN     TX\n",
       "zipcode                                                                \n",
       "11210                                            194.0  1.0            \n",
       "20003               188.0                   1.0                        \n",
       "33179    1.0                    682.0                                  \n",
       "33321                           561.0  1.0                             \n",
       "77380                                                        1.0  124.0\n",
       "77710                      3.0                                      5.0\n",
       "78501                             2.0                             165.0\n",
       "92703         84.0                                           2.0       "
      ]
     },
     "execution_count": 30,
     "metadata": {},
     "output_type": "execute_result"
    }
   ],
   "source": [
    "# теперь по выбранному перечню проверим соотношение количества записей, относящихся к тому или иному штату\n",
    "df[df['zipcode'].isin(states3)].pivot_table('target', 'zipcode','state', 'count','')"
   ]
  },
  {
   "cell_type": "code",
   "execution_count": 31,
   "metadata": {},
   "outputs": [],
   "source": [
    "# несоответствия очевидны (кроме 77710, интернет отнес к TX Техас), делаем замены\n",
    "zipcode_replace = {'11210': 'NY',\n",
    "                   '20003': 'DC',\n",
    "                   '33179': 'FL',\n",
    "                   '33321': 'FL',\n",
    "                   '77380': 'TX',\n",
    "                   '77710': 'TX',\n",
    "                   '78501': 'TX',\n",
    "                   '92703': 'CA'}"
   ]
  },
  {
   "cell_type": "code",
   "execution_count": 32,
   "metadata": {},
   "outputs": [],
   "source": [
    "# напишем и применим функцию для замены\n",
    "def zip_change(zip, state):\n",
    "    if zip in zipcode_replace.keys():\n",
    "        return zipcode_replace.get(zip)\n",
    "    else:\n",
    "        return state\n",
    "    \n",
    "df['state'] = df.apply(lambda row: zip_change(row['zipcode'], row['state']), axis=1)"
   ]
  },
  {
   "cell_type": "code",
   "execution_count": 33,
   "metadata": {},
   "outputs": [
    {
     "data": {
      "text/html": [
       "<div>\n",
       "<style scoped>\n",
       "    .dataframe tbody tr th:only-of-type {\n",
       "        vertical-align: middle;\n",
       "    }\n",
       "\n",
       "    .dataframe tbody tr th {\n",
       "        vertical-align: top;\n",
       "    }\n",
       "\n",
       "    .dataframe thead th {\n",
       "        text-align: right;\n",
       "    }\n",
       "</style>\n",
       "<table border=\"1\" class=\"dataframe\">\n",
       "  <thead>\n",
       "    <tr style=\"text-align: right;\">\n",
       "      <th></th>\n",
       "      <th>zipcode</th>\n",
       "      <th>state</th>\n",
       "    </tr>\n",
       "  </thead>\n",
       "  <tbody>\n",
       "    <tr>\n",
       "      <th>0</th>\n",
       "      <td>--</td>\n",
       "      <td>2</td>\n",
       "    </tr>\n",
       "    <tr>\n",
       "      <th>1</th>\n",
       "      <td>0</td>\n",
       "      <td>3</td>\n",
       "    </tr>\n",
       "  </tbody>\n",
       "</table>\n",
       "</div>"
      ],
      "text/plain": [
       "  zipcode  state\n",
       "0      --      2\n",
       "1       0      3"
      ]
     },
     "execution_count": 33,
     "metadata": {},
     "output_type": "execute_result"
    }
   ],
   "source": [
    "# проверим себя, повторно проведем те же операции по проверке соответствия одному индексу одного штата\n",
    "states = df.groupby(['zipcode', 'state'])['status'].agg('count').reset_index()[['zipcode', 'state']]\n",
    "states1 = states.groupby('zipcode').agg('count').reset_index()\n",
    "states2 = states1[states1['state'] > 1]\n",
    "states2"
   ]
  },
  {
   "cell_type": "code",
   "execution_count": 34,
   "metadata": {},
   "outputs": [
    {
     "data": {
      "text/plain": [
       "FL       114548\n",
       "TX        83269\n",
       "NY        24325\n",
       "CA        23171\n",
       "NC        21760\n",
       "TN        18214\n",
       "WA        13721\n",
       "OH        12422\n",
       "IL         8821\n",
       "NV         8401\n",
       "GA         6628\n",
       "CO         6371\n",
       "PA         5493\n",
       "MI         5119\n",
       "DC         4581\n",
       "AZ         3347\n",
       "IN         3279\n",
       "OR         2774\n",
       "MA         1492\n",
       "UT         1319\n",
       "MD         1086\n",
       "VT          864\n",
       "MO          832\n",
       "VA          800\n",
       "WI          452\n",
       "NJ          436\n",
       "ME          258\n",
       "IA          242\n",
       "Other       218\n",
       "Name: state, dtype: int64"
      ]
     },
     "execution_count": 34,
     "metadata": {},
     "output_type": "execute_result"
    }
   ],
   "source": [
    "# дополнительно отнесем в группу Other штаты, в которых количество записей менее 100\n",
    "other = ['KY', 'OK', 'MS', 'SC', 'MT', 'DE', 'Fl', 'BA', 'AL', 'OT', 'OS']\n",
    "df['state'] = df['state'].apply(lambda x: 'Other' if x in other else x)\n",
    "df['state'].value_counts()"
   ]
  },
  {
   "cell_type": "markdown",
   "metadata": {},
   "source": [
    "_____________"
   ]
  },
  {
   "cell_type": "markdown",
   "metadata": {},
   "source": [
    "##### City - город"
   ]
  },
  {
   "cell_type": "code",
   "execution_count": 35,
   "metadata": {},
   "outputs": [
    {
     "name": "stdout",
     "output_type": "stream",
     "text": [
      "пропусков :  34\n",
      "пропусков в %:  0.0 %\n",
      "уникальных значений :  2019\n"
     ]
    },
    {
     "data": {
      "text/plain": [
       "Houston            24387\n",
       "San Antonio        15496\n",
       "Miami              15381\n",
       "Jacksonville        9890\n",
       "Dallas              8749\n",
       "                   ...  \n",
       "Los Altos Hills        1\n",
       "Lake worth             1\n",
       "Lisle                  1\n",
       "Arrington              1\n",
       "Blue Springs           1\n",
       "Name: city, Length: 2019, dtype: int64"
      ]
     },
     "execution_count": 35,
     "metadata": {},
     "output_type": "execute_result"
    }
   ],
   "source": [
    "# оценим пропуски и посмотрим варианты значений\n",
    "print('пропусков : ',df['city'].isna().sum())\n",
    "print('пропусков в %: ',round((df['city'].isna().sum()/df.shape[0]*100),0),'%')\n",
    "print('уникальных значений : ',df['city'].nunique())\n",
    "df['city'].value_counts()"
   ]
  },
  {
   "cell_type": "code",
   "execution_count": 36,
   "metadata": {},
   "outputs": [
    {
     "data": {
      "text/html": [
       "<div>\n",
       "<style scoped>\n",
       "    .dataframe tbody tr th:only-of-type {\n",
       "        vertical-align: middle;\n",
       "    }\n",
       "\n",
       "    .dataframe tbody tr th {\n",
       "        vertical-align: top;\n",
       "    }\n",
       "\n",
       "    .dataframe thead th {\n",
       "        text-align: right;\n",
       "    }\n",
       "</style>\n",
       "<table border=\"1\" class=\"dataframe\">\n",
       "  <thead>\n",
       "    <tr style=\"text-align: right;\">\n",
       "      <th></th>\n",
       "      <th>zipcode</th>\n",
       "      <th>city</th>\n",
       "    </tr>\n",
       "  </thead>\n",
       "  <tbody>\n",
       "    <tr>\n",
       "      <th>0</th>\n",
       "      <td>02119</td>\n",
       "      <td>2</td>\n",
       "    </tr>\n",
       "    <tr>\n",
       "      <th>1</th>\n",
       "      <td>02122</td>\n",
       "      <td>2</td>\n",
       "    </tr>\n",
       "    <tr>\n",
       "      <th>2</th>\n",
       "      <td>02124</td>\n",
       "      <td>3</td>\n",
       "    </tr>\n",
       "    <tr>\n",
       "      <th>3</th>\n",
       "      <td>02125</td>\n",
       "      <td>2</td>\n",
       "    </tr>\n",
       "    <tr>\n",
       "      <th>4</th>\n",
       "      <td>02127</td>\n",
       "      <td>2</td>\n",
       "    </tr>\n",
       "    <tr>\n",
       "      <th>...</th>\n",
       "      <td>...</td>\n",
       "      <td>...</td>\n",
       "    </tr>\n",
       "    <tr>\n",
       "      <th>991</th>\n",
       "      <td>98908</td>\n",
       "      <td>2</td>\n",
       "    </tr>\n",
       "    <tr>\n",
       "      <th>992</th>\n",
       "      <td>99206</td>\n",
       "      <td>2</td>\n",
       "    </tr>\n",
       "    <tr>\n",
       "      <th>993</th>\n",
       "      <td>99208</td>\n",
       "      <td>2</td>\n",
       "    </tr>\n",
       "    <tr>\n",
       "      <th>994</th>\n",
       "      <td>99212</td>\n",
       "      <td>3</td>\n",
       "    </tr>\n",
       "    <tr>\n",
       "      <th>995</th>\n",
       "      <td>99216</td>\n",
       "      <td>2</td>\n",
       "    </tr>\n",
       "  </tbody>\n",
       "</table>\n",
       "<p>996 rows × 2 columns</p>\n",
       "</div>"
      ],
      "text/plain": [
       "    zipcode  city\n",
       "0     02119     2\n",
       "1     02122     2\n",
       "2     02124     3\n",
       "3     02125     2\n",
       "4     02127     2\n",
       "..      ...   ...\n",
       "991   98908     2\n",
       "992   99206     2\n",
       "993   99208     2\n",
       "994   99212     3\n",
       "995   99216     2\n",
       "\n",
       "[996 rows x 2 columns]"
      ]
     },
     "execution_count": 36,
     "metadata": {},
     "output_type": "execute_result"
    }
   ],
   "source": [
    "# в предположении, что индекс должен относиться только к одному городу, проверим соответствие индексов и городов\n",
    "# выделим те индексы, к которым сопоставлены более 1 значения города\n",
    "df['city'] = df['city'].str.lower()\n",
    "cities = df.groupby(['zipcode', 'city'])['target'].agg('count').reset_index()[['zipcode', 'city']]\n",
    "cities1 = cities.groupby('zipcode').agg('count').reset_index()\n",
    "cities2 = cities1[cities1['city'] > 1][2:].reset_index().drop('index', axis=1)\n",
    "cities2"
   ]
  },
  {
   "cell_type": "markdown",
   "metadata": {},
   "source": [
    "Достаточно много разночтений для индивидуального просмотра. Массово идей нет,  \n",
    "т.к. к разным индексам привязаны разные лидеры написания одного и того же города.  \n",
    "Пока оставляем как есть."
   ]
  },
  {
   "cell_type": "markdown",
   "metadata": {},
   "source": [
    "______________"
   ]
  },
  {
   "cell_type": "markdown",
   "metadata": {},
   "source": [
    "##### street - адрес объекта"
   ]
  },
  {
   "cell_type": "code",
   "execution_count": 37,
   "metadata": {},
   "outputs": [
    {
     "name": "stdout",
     "output_type": "stream",
     "text": [
      "пропусков :  2\n",
      "пропусков в %:  0.0 %\n",
      "уникальных значений :  298648\n"
     ]
    },
    {
     "data": {
      "text/plain": [
       "Address Not Disclosed      672\n",
       "Undisclosed Address        516\n",
       "(undisclosed Address)      391\n",
       "Address Not Available      175\n",
       "Unknown Address             72\n",
       "                          ... \n",
       "1346 Midland Ave APT 3J      1\n",
       "302 Tempranillo Way          1\n",
       "8288 Mount Nido Dr           1\n",
       "25230 Cadiz Dr               1\n",
       "7810 Pereida St              1\n",
       "Name: street, Length: 298648, dtype: int64"
      ]
     },
     "execution_count": 37,
     "metadata": {},
     "output_type": "execute_result"
    }
   ],
   "source": [
    "# оценим пропуски и посмотрим варианты значений\n",
    "print('пропусков : ',df['street'].isna().sum())\n",
    "print('пропусков в %: ',round((df['street'].isna().sum()/df.shape[0]*100),0),'%')\n",
    "print('уникальных значений : ',df['street'].nunique())\n",
    "df['street'].value_counts()"
   ]
  },
  {
   "cell_type": "code",
   "execution_count": 38,
   "metadata": {},
   "outputs": [
    {
     "data": {
      "text/plain": [
       "2103 E State Hwy 21        57\n",
       "11305 Gulf Fwy             54\n",
       "17030 Youngblood Rd.       38\n",
       "NE 58th Cir                34\n",
       "9470 Lancaster Rd. SW      32\n",
       "                           ..\n",
       "1346 Midland Ave APT 3J     1\n",
       "302 Tempranillo Way         1\n",
       "8288 Mount Nido Dr          1\n",
       "25230 Cadiz Dr              1\n",
       "7810 Pereida St             1\n",
       "Name: street, Length: 298643, dtype: int64"
      ]
     },
     "execution_count": 38,
     "metadata": {},
     "output_type": "execute_result"
    }
   ],
   "source": [
    "# заменим разные вариации отсутствия адреса на единое значение\n",
    "no_street = ['Address Not Disclosed', \n",
    "             'Undisclosed Address', \n",
    "             '(undisclosed Address)', \n",
    "             'Address Not Available', \n",
    "             'Unknown Address']\n",
    "df['street'] = df['street'].apply(lambda x: np.nan if x in no_street else x)\n",
    "df['street'].value_counts()"
   ]
  },
  {
   "cell_type": "markdown",
   "metadata": {},
   "source": [
    "По хорошему надо извлечь координаты с помощью библиотеки Geopy, но в данном случае технические ресурсы не позволяют это сделать."
   ]
  },
  {
   "cell_type": "markdown",
   "metadata": {},
   "source": [
    "___________"
   ]
  },
  {
   "cell_type": "markdown",
   "metadata": {},
   "source": [
    "##### baths - количество ванных комнат"
   ]
  },
  {
   "cell_type": "code",
   "execution_count": 39,
   "metadata": {},
   "outputs": [
    {
     "name": "stdout",
     "output_type": "stream",
     "text": [
      "пропусков :  105250\n",
      "пропусков в %:  28.0 %\n",
      "уникальных значений :  225\n"
     ]
    },
    {
     "data": {
      "text/plain": [
       "2 Baths          51945\n",
       "3 Baths          35353\n",
       "2                20428\n",
       "2.0              16354\n",
       "4 Baths          14711\n",
       "                 ...  \n",
       "32                   1\n",
       "5.25 Baths           1\n",
       "41.0                 1\n",
       "Bathrooms: 21        1\n",
       "44.0                 1\n",
       "Name: baths, Length: 225, dtype: int64"
      ]
     },
     "execution_count": 39,
     "metadata": {},
     "output_type": "execute_result"
    }
   ],
   "source": [
    "# оценим пропуски и посмотрим варианты значений\n",
    "print('пропусков : ',df['baths'].isna().sum())\n",
    "print('пропусков в %: ',round((df['baths'].isna().sum()/df.shape[0]*100),0),'%')\n",
    "print('уникальных значений : ',df['baths'].nunique())\n",
    "df['baths'].value_counts()"
   ]
  },
  {
   "cell_type": "code",
   "execution_count": 40,
   "metadata": {},
   "outputs": [
    {
     "name": "stderr",
     "output_type": "stream",
     "text": [
      "/var/folders/0v/d10yh6tj1mn387jzy55lmxv80000gn/T/ipykernel_22090/3676306326.py:2: FutureWarning: The default value of regex will change from True to False in a future version.\n",
      "  df['baths'] = df['baths'].str.replace('Sq. Ft.','')\n",
      "/var/folders/0v/d10yh6tj1mn387jzy55lmxv80000gn/T/ipykernel_22090/3676306326.py:6: FutureWarning: The default value of regex will change from True to False in a future version. In addition, single character regular expressions will *not* be treated as literal strings when regex=True.\n",
      "  df['baths'] = df['baths'].str.replace('+','')\n"
     ]
    },
    {
     "data": {
      "text/plain": [
       "2.0      102613\n",
       "3.0       66381\n",
       "4.0       26229\n",
       "1.0       17520\n",
       "2.5       13687\n",
       "          ...  \n",
       "14.5          1\n",
       "5.2           1\n",
       "116.0         1\n",
       "35.0          1\n",
       "68.0          1\n",
       "Name: baths, Length: 81, dtype: int64"
      ]
     },
     "execution_count": 40,
     "metadata": {},
     "output_type": "execute_result"
    }
   ],
   "source": [
    "# проблему составляют буквы, пробелы и двоеточия, а также запятые в качестве разделителя. Произведем замену\n",
    "df['baths'] = df['baths'].str.replace('Sq. Ft.','')\n",
    "df['baths'] = df['baths'].str.replace('[a-zA-Z]','', regex=True)\n",
    "df['baths'] = df['baths'].str.replace(' ','')\n",
    "df['baths'] = df['baths'].str.replace(':','')\n",
    "df['baths'] = df['baths'].str.replace('+','')\n",
    "df['baths'] = df['baths'].str.replace('~','')\n",
    "df['baths'] = df['baths'].str.replace(',','.')\n",
    "df['baths'] = df['baths'].str.replace('2-1/2-1/1-1/1-1','4')\n",
    "df['baths'] = df['baths'].str.replace('1/1-0/1-0/1-0','1')\n",
    "df['baths'] = df['baths'].str.replace('1-0/1-0/1','1')\n",
    "df['baths'] = df['baths'].str.replace('1/1/1/1','4')\n",
    "df['baths'] = df['baths'].str.replace('3-1/2-2','3')\n",
    "df['baths'] = df['baths'].str.replace('0/0','0')\n",
    "df['baths'] = df['baths'].str.replace('116/116/116','116')\n",
    "df['baths'] = df['baths'].str.replace('--','')\n",
    "df['baths'] = df['baths'].str.replace('—','')\n",
    "df['baths'] = df['baths'].apply(lambda x: 0 if x=='' else x)\n",
    "df['baths'] = df['baths'].astype(float)\n",
    "df['baths'].value_counts()"
   ]
  },
  {
   "cell_type": "code",
   "execution_count": 41,
   "metadata": {},
   "outputs": [],
   "source": [
    "# Для отсутствующих значений укажем нулевые значения\n",
    "df['baths'] = df['baths'].fillna(0)"
   ]
  },
  {
   "cell_type": "markdown",
   "metadata": {},
   "source": [
    "_______________"
   ]
  },
  {
   "cell_type": "markdown",
   "metadata": {},
   "source": [
    "##### Stories - количество этажей"
   ]
  },
  {
   "cell_type": "code",
   "execution_count": 42,
   "metadata": {},
   "outputs": [
    {
     "name": "stdout",
     "output_type": "stream",
     "text": [
      "пропусков :  149343\n",
      "пропусков в %:  40.0 %\n",
      "уникальных значений :  348\n"
     ]
    },
    {
     "data": {
      "text/plain": [
       "1.0                                  66805\n",
       "2.0                                  55002\n",
       "1                                    22793\n",
       "2                                    17976\n",
       "3.0                                  11230\n",
       "                                     ...  \n",
       "Manufactured Home, Non-Site Built        1\n",
       "Bedroom - Split Plan                     1\n",
       "78                                       1\n",
       "None                                     1\n",
       "65.0                                     1\n",
       "Name: stories, Length: 348, dtype: int64"
      ]
     },
     "execution_count": 42,
     "metadata": {},
     "output_type": "execute_result"
    }
   ],
   "source": [
    "# оценим пропуски и посмотрим варианты значений\n",
    "print('пропусков : ',df['stories'].isna().sum())\n",
    "print('пропусков в %: ',round((df['stories'].isna().sum()/df.shape[0]*100),0),'%')\n",
    "print('уникальных значений : ',df['stories'].nunique())\n",
    "df['stories'].value_counts()"
   ]
  },
  {
   "cell_type": "code",
   "execution_count": 43,
   "metadata": {},
   "outputs": [
    {
     "data": {
      "text/plain": [
       "single-family home                                             18973\n",
       "lot/land                                                       18566\n",
       "condo                                                          10950\n",
       "Land                                                           10308\n",
       "Single Family Home                                              9370\n",
       "                                                               ...  \n",
       "Single Detached, Contemporary/Modern, Southwestern                 1\n",
       "Traditional, Texas Hill Country                                    1\n",
       "Historical/Conservation District, Single Detached, Colonial        1\n",
       "Bungalow, Transitional                                             1\n",
       "Bilevel, Converted Dwelling, Loft with Bedrooms, Condo/Unit        1\n",
       "Name: propertyType, Length: 1007, dtype: int64"
      ]
     },
     "execution_count": 43,
     "metadata": {},
     "output_type": "execute_result"
    }
   ],
   "source": [
    "df[df['stories'].isna()]['propertyType'].value_counts()"
   ]
  },
  {
   "cell_type": "markdown",
   "metadata": {},
   "source": [
    "Данный признак достойно не обработать, т.к. типы объектов недвижимости, для которых отсутствует  \n",
    "информация об этажности, имеют большую вариативность количества этажей.  \n",
    "То есть, на основании типа объекта сделать выводы об этажности не представляется возможным.  \n",
    "Придется удалить признак."
   ]
  },
  {
   "cell_type": "code",
   "execution_count": 44,
   "metadata": {},
   "outputs": [
    {
     "name": "stdout",
     "output_type": "stream",
     "text": [
      "<class 'pandas.core.frame.DataFrame'>\n",
      "Int64Index: 374243 entries, 0 to 377184\n",
      "Data columns (total 15 columns):\n",
      " #   Column        Non-Null Count   Dtype  \n",
      "---  ------        --------------   -----  \n",
      " 0   status        334987 non-null  object \n",
      " 1   propertyType  339689 non-null  object \n",
      " 2   street        372415 non-null  object \n",
      " 3   baths         374243 non-null  float64\n",
      " 4   homeFacts     374243 non-null  object \n",
      " 5   fireplace     102425 non-null  object \n",
      " 6   city          374209 non-null  object \n",
      " 7   schools       374243 non-null  object \n",
      " 8   sqft          334168 non-null  object \n",
      " 9   zipcode       374243 non-null  object \n",
      " 10  beds          283361 non-null  object \n",
      " 11  state         374243 non-null  object \n",
      " 12  target        374243 non-null  int64  \n",
      " 13  PoolPrivate   374243 non-null  int64  \n",
      " 14  MLS           374167 non-null  object \n",
      "dtypes: float64(1), int64(2), object(12)\n",
      "memory usage: 45.7+ MB\n"
     ]
    }
   ],
   "source": [
    "df = df.drop('stories', axis=1)\n",
    "df.info()"
   ]
  },
  {
   "cell_type": "markdown",
   "metadata": {},
   "source": [
    "___________"
   ]
  },
  {
   "cell_type": "markdown",
   "metadata": {},
   "source": [
    "##### zipcode - почтовый индекс"
   ]
  },
  {
   "cell_type": "code",
   "execution_count": 45,
   "metadata": {},
   "outputs": [
    {
     "name": "stdout",
     "output_type": "stream",
     "text": [
      "пропусков :  0\n",
      "пропусков в %:  0.0 %\n",
      "уникальных значений :  4541\n"
     ]
    }
   ],
   "source": [
    "# косвенно встреча с индексами была ранее при обработке признаков city и state\n",
    "# оценим пропуски и посмотрим варианты значений\n",
    "print('пропусков : ',df['zipcode'].isna().sum())\n",
    "print('пропусков в %: ',round((df['zipcode'].isna().sum()/df.shape[0]*100),0),'%')\n",
    "print('уникальных значений : ',df['zipcode'].nunique())"
   ]
  },
  {
   "cell_type": "code",
   "execution_count": 46,
   "metadata": {},
   "outputs": [
    {
     "data": {
      "text/plain": [
       "235207       --\n",
       "231282       --\n",
       "30261         0\n",
       "83522         0\n",
       "305572        0\n",
       "308229    00000\n",
       "10837     02108\n",
       "169423    02108\n",
       "123565    02108\n",
       "293976    02108\n",
       "Name: zipcode, dtype: object"
      ]
     },
     "execution_count": 46,
     "metadata": {},
     "output_type": "execute_result"
    }
   ],
   "source": [
    "# посмотрим некорректные индексы в шапке списка\n",
    "df['zipcode'].sort_values().head(10)"
   ]
  },
  {
   "cell_type": "code",
   "execution_count": 47,
   "metadata": {},
   "outputs": [
    {
     "data": {
      "text/plain": [
       "374237"
      ]
     },
     "execution_count": 47,
     "metadata": {},
     "output_type": "execute_result"
    }
   ],
   "source": [
    "# удалим записи со спорными индексами\n",
    "df = df[~(df['zipcode']=='--') & ~(df['zipcode']=='0') & ~(df['zipcode']=='00000')]\n",
    "df.shape[0]"
   ]
  },
  {
   "cell_type": "code",
   "execution_count": 48,
   "metadata": {},
   "outputs": [
    {
     "data": {
      "text/html": [
       "<div>\n",
       "<style scoped>\n",
       "    .dataframe tbody tr th:only-of-type {\n",
       "        vertical-align: middle;\n",
       "    }\n",
       "\n",
       "    .dataframe tbody tr th {\n",
       "        vertical-align: top;\n",
       "    }\n",
       "\n",
       "    .dataframe thead th {\n",
       "        text-align: right;\n",
       "    }\n",
       "</style>\n",
       "<table border=\"1\" class=\"dataframe\">\n",
       "  <thead>\n",
       "    <tr style=\"text-align: right;\">\n",
       "      <th></th>\n",
       "      <th>status</th>\n",
       "      <th>propertyType</th>\n",
       "      <th>street</th>\n",
       "      <th>baths</th>\n",
       "      <th>homeFacts</th>\n",
       "      <th>fireplace</th>\n",
       "      <th>city</th>\n",
       "      <th>schools</th>\n",
       "      <th>sqft</th>\n",
       "      <th>zipcode</th>\n",
       "      <th>beds</th>\n",
       "      <th>state</th>\n",
       "      <th>target</th>\n",
       "      <th>PoolPrivate</th>\n",
       "      <th>MLS</th>\n",
       "      <th>zip_len</th>\n",
       "    </tr>\n",
       "  </thead>\n",
       "  <tbody>\n",
       "    <tr>\n",
       "      <th>0</th>\n",
       "      <td>Active</td>\n",
       "      <td>Single Family Home</td>\n",
       "      <td>240 Heather Ln</td>\n",
       "      <td>3.5</td>\n",
       "      <td>{'atAGlanceFacts': [{'factValue': '2019', 'fac...</td>\n",
       "      <td>Gas Logs</td>\n",
       "      <td>southern pines</td>\n",
       "      <td>[{'rating': ['4', '4', '7', 'NR', '4', '7', 'N...</td>\n",
       "      <td>2900</td>\n",
       "      <td>28387</td>\n",
       "      <td>4</td>\n",
       "      <td>NC</td>\n",
       "      <td>418000</td>\n",
       "      <td>0</td>\n",
       "      <td>611019</td>\n",
       "      <td>5</td>\n",
       "    </tr>\n",
       "    <tr>\n",
       "      <th>1</th>\n",
       "      <td>for sale</td>\n",
       "      <td>single-family home</td>\n",
       "      <td>12911 E Heroy Ave</td>\n",
       "      <td>3.0</td>\n",
       "      <td>{'atAGlanceFacts': [{'factValue': '2019', 'fac...</td>\n",
       "      <td>NaN</td>\n",
       "      <td>spokane valley</td>\n",
       "      <td>[{'rating': ['4/10', 'None/10', '4/10'], 'data...</td>\n",
       "      <td>1,947 sqft</td>\n",
       "      <td>99216</td>\n",
       "      <td>3 Beds</td>\n",
       "      <td>WA</td>\n",
       "      <td>310000</td>\n",
       "      <td>0</td>\n",
       "      <td>201916904</td>\n",
       "      <td>5</td>\n",
       "    </tr>\n",
       "    <tr>\n",
       "      <th>2</th>\n",
       "      <td>for sale</td>\n",
       "      <td>single-family home</td>\n",
       "      <td>2005 Westridge Rd</td>\n",
       "      <td>2.0</td>\n",
       "      <td>{'atAGlanceFacts': [{'factValue': '1961', 'fac...</td>\n",
       "      <td>yes</td>\n",
       "      <td>los angeles</td>\n",
       "      <td>[{'rating': ['8/10', '4/10', '8/10'], 'data': ...</td>\n",
       "      <td>3,000 sqft</td>\n",
       "      <td>90049</td>\n",
       "      <td>3 Beds</td>\n",
       "      <td>CA</td>\n",
       "      <td>2895000</td>\n",
       "      <td>1</td>\n",
       "      <td>fr19221027</td>\n",
       "      <td>5</td>\n",
       "    </tr>\n",
       "    <tr>\n",
       "      <th>3</th>\n",
       "      <td>for sale</td>\n",
       "      <td>single-family home</td>\n",
       "      <td>4311 Livingston Ave</td>\n",
       "      <td>8.0</td>\n",
       "      <td>{'atAGlanceFacts': [{'factValue': '2006', 'fac...</td>\n",
       "      <td>yes</td>\n",
       "      <td>dallas</td>\n",
       "      <td>[{'rating': ['9/10', '9/10', '10/10', '9/10'],...</td>\n",
       "      <td>6,457 sqft</td>\n",
       "      <td>75205</td>\n",
       "      <td>5 Beds</td>\n",
       "      <td>TX</td>\n",
       "      <td>2395000</td>\n",
       "      <td>0</td>\n",
       "      <td>14191809</td>\n",
       "      <td>5</td>\n",
       "    </tr>\n",
       "    <tr>\n",
       "      <th>4</th>\n",
       "      <td>for sale</td>\n",
       "      <td>lot/land</td>\n",
       "      <td>1524 Kiscoe St</td>\n",
       "      <td>0.0</td>\n",
       "      <td>{'atAGlanceFacts': [{'factValue': '', 'factLab...</td>\n",
       "      <td>NaN</td>\n",
       "      <td>palm bay</td>\n",
       "      <td>[{'rating': ['4/10', '5/10', '5/10'], 'data': ...</td>\n",
       "      <td>NaN</td>\n",
       "      <td>32908</td>\n",
       "      <td>NaN</td>\n",
       "      <td>FL</td>\n",
       "      <td>5000</td>\n",
       "      <td>0</td>\n",
       "      <td>861745</td>\n",
       "      <td>5</td>\n",
       "    </tr>\n",
       "  </tbody>\n",
       "</table>\n",
       "</div>"
      ],
      "text/plain": [
       "     status        propertyType               street  baths  \\\n",
       "0    Active  Single Family Home       240 Heather Ln    3.5   \n",
       "1  for sale  single-family home    12911 E Heroy Ave    3.0   \n",
       "2  for sale  single-family home    2005 Westridge Rd    2.0   \n",
       "3  for sale  single-family home  4311 Livingston Ave    8.0   \n",
       "4  for sale            lot/land       1524 Kiscoe St    0.0   \n",
       "\n",
       "                                           homeFacts fireplace  \\\n",
       "0  {'atAGlanceFacts': [{'factValue': '2019', 'fac...  Gas Logs   \n",
       "1  {'atAGlanceFacts': [{'factValue': '2019', 'fac...       NaN   \n",
       "2  {'atAGlanceFacts': [{'factValue': '1961', 'fac...       yes   \n",
       "3  {'atAGlanceFacts': [{'factValue': '2006', 'fac...       yes   \n",
       "4  {'atAGlanceFacts': [{'factValue': '', 'factLab...       NaN   \n",
       "\n",
       "             city                                            schools  \\\n",
       "0  southern pines  [{'rating': ['4', '4', '7', 'NR', '4', '7', 'N...   \n",
       "1  spokane valley  [{'rating': ['4/10', 'None/10', '4/10'], 'data...   \n",
       "2     los angeles  [{'rating': ['8/10', '4/10', '8/10'], 'data': ...   \n",
       "3          dallas  [{'rating': ['9/10', '9/10', '10/10', '9/10'],...   \n",
       "4        palm bay  [{'rating': ['4/10', '5/10', '5/10'], 'data': ...   \n",
       "\n",
       "         sqft zipcode    beds state   target  PoolPrivate         MLS  zip_len  \n",
       "0        2900   28387       4    NC   418000            0      611019        5  \n",
       "1  1,947 sqft   99216  3 Beds    WA   310000            0   201916904        5  \n",
       "2  3,000 sqft   90049  3 Beds    CA  2895000            1  fr19221027        5  \n",
       "3  6,457 sqft   75205  5 Beds    TX  2395000            0    14191809        5  \n",
       "4         NaN   32908     NaN    FL     5000            0      861745        5  "
      ]
     },
     "execution_count": 48,
     "metadata": {},
     "output_type": "execute_result"
    }
   ],
   "source": [
    "# создадим вспомогательный столбец с количеством знаков в индексе, проверим по длине. По идее, везде должно быть 5\n",
    "df['zip_len'] = df['zipcode'].apply(lambda x: len(x))\n",
    "df.head()"
   ]
  },
  {
   "cell_type": "code",
   "execution_count": 49,
   "metadata": {},
   "outputs": [
    {
     "data": {
      "text/plain": [
       "5     372101\n",
       "4       1893\n",
       "10       238\n",
       "6          3\n",
       "8          1\n",
       "9          1\n",
       "Name: zip_len, dtype: int64"
      ]
     },
     "execution_count": 49,
     "metadata": {},
     "output_type": "execute_result"
    }
   ],
   "source": [
    "# проверим, какие варианты длины кодов есть\n",
    "df['zip_len'].value_counts()"
   ]
  },
  {
   "cell_type": "code",
   "execution_count": 50,
   "metadata": {},
   "outputs": [
    {
     "data": {
      "text/plain": [
       "5     373994\n",
       "10       238\n",
       "6          3\n",
       "8          1\n",
       "9          1\n",
       "Name: zip_len, dtype: int64"
      ]
     },
     "execution_count": 50,
     "metadata": {},
     "output_type": "execute_result"
    }
   ],
   "source": [
    "# судя по всему, индексы с длиной 4 знака вносили как числовой формат\n",
    "# Для исправления ситуации добавим в начале укороченного индекса \"0\" и проверим их наличие еще раз\n",
    "df['zipcode'] = df.apply(lambda row: row['zipcode'] if row['zip_len']>=5 else ('0'+row['zipcode']), axis=1)\n",
    "df['zip_len'] = df['zipcode'].apply(lambda x: len(x))\n",
    "df['zip_len'].value_counts()"
   ]
  },
  {
   "cell_type": "code",
   "execution_count": 51,
   "metadata": {},
   "outputs": [
    {
     "data": {
      "text/html": [
       "<div>\n",
       "<style scoped>\n",
       "    .dataframe tbody tr th:only-of-type {\n",
       "        vertical-align: middle;\n",
       "    }\n",
       "\n",
       "    .dataframe tbody tr th {\n",
       "        vertical-align: top;\n",
       "    }\n",
       "\n",
       "    .dataframe thead th {\n",
       "        text-align: right;\n",
       "    }\n",
       "</style>\n",
       "<table border=\"1\" class=\"dataframe\">\n",
       "  <thead>\n",
       "    <tr style=\"text-align: right;\">\n",
       "      <th></th>\n",
       "      <th>status</th>\n",
       "      <th>propertyType</th>\n",
       "      <th>street</th>\n",
       "      <th>baths</th>\n",
       "      <th>homeFacts</th>\n",
       "      <th>fireplace</th>\n",
       "      <th>city</th>\n",
       "      <th>schools</th>\n",
       "      <th>sqft</th>\n",
       "      <th>zipcode</th>\n",
       "      <th>beds</th>\n",
       "      <th>state</th>\n",
       "      <th>target</th>\n",
       "      <th>PoolPrivate</th>\n",
       "      <th>MLS</th>\n",
       "      <th>zip_len</th>\n",
       "    </tr>\n",
       "  </thead>\n",
       "  <tbody>\n",
       "    <tr>\n",
       "      <th>85581</th>\n",
       "      <td>Active</td>\n",
       "      <td>Detached, Two Story</td>\n",
       "      <td>6789 White River Home</td>\n",
       "      <td>0.00</td>\n",
       "      <td>{'atAGlanceFacts': [{'factValue': '1989', 'fac...</td>\n",
       "      <td>NaN</td>\n",
       "      <td>other city value - out of area</td>\n",
       "      <td>[{'rating': [], 'data': {'Distance': [], 'Grad...</td>\n",
       "      <td>4,000</td>\n",
       "      <td>123456</td>\n",
       "      <td>NaN</td>\n",
       "      <td>NY</td>\n",
       "      <td>899999</td>\n",
       "      <td>0</td>\n",
       "      <td>a10764075</td>\n",
       "      <td>6</td>\n",
       "    </tr>\n",
       "    <tr>\n",
       "      <th>112513</th>\n",
       "      <td>Active</td>\n",
       "      <td>Charleston, Transitional</td>\n",
       "      <td>1307 Formal Garden Way</td>\n",
       "      <td>0.00</td>\n",
       "      <td>{'atAGlanceFacts': [{'factValue': '2014', 'fac...</td>\n",
       "      <td>1</td>\n",
       "      <td>raleigh</td>\n",
       "      <td>[{'rating': ['3', '3', '3'], 'data': {'Distanc...</td>\n",
       "      <td>2,399</td>\n",
       "      <td>27603-43</td>\n",
       "      <td>NaN</td>\n",
       "      <td>NC</td>\n",
       "      <td>352000</td>\n",
       "      <td>0</td>\n",
       "      <td>2292160</td>\n",
       "      <td>8</td>\n",
       "    </tr>\n",
       "    <tr>\n",
       "      <th>133901</th>\n",
       "      <td>Active</td>\n",
       "      <td>Apartment</td>\n",
       "      <td>2315 Gerritsen Ave Unit 3A</td>\n",
       "      <td>0.00</td>\n",
       "      <td>{'atAGlanceFacts': [{'factValue': '2001', 'fac...</td>\n",
       "      <td>NaN</td>\n",
       "      <td>brooklyn</td>\n",
       "      <td>[{'rating': ['9', '4', '7', 'NR'], 'data': {'D...</td>\n",
       "      <td>1,100</td>\n",
       "      <td>112229</td>\n",
       "      <td>NaN</td>\n",
       "      <td>NY</td>\n",
       "      <td>599000</td>\n",
       "      <td>0</td>\n",
       "      <td>435007</td>\n",
       "      <td>6</td>\n",
       "    </tr>\n",
       "    <tr>\n",
       "      <th>161389</th>\n",
       "      <td>Active</td>\n",
       "      <td>High Rise</td>\n",
       "      <td>301 Altara #402</td>\n",
       "      <td>0.00</td>\n",
       "      <td>{'atAGlanceFacts': [{'factValue': '2019', 'fac...</td>\n",
       "      <td>NaN</td>\n",
       "      <td>coral gables</td>\n",
       "      <td>[{'rating': ['7', 'NR', '10', '5', '5'], 'data...</td>\n",
       "      <td>1,212</td>\n",
       "      <td>331446</td>\n",
       "      <td>NaN</td>\n",
       "      <td>FL</td>\n",
       "      <td>620000</td>\n",
       "      <td>0</td>\n",
       "      <td>a10699951</td>\n",
       "      <td>6</td>\n",
       "    </tr>\n",
       "    <tr>\n",
       "      <th>242855</th>\n",
       "      <td>Active</td>\n",
       "      <td>NaN</td>\n",
       "      <td>132 Edward Booth Ln</td>\n",
       "      <td>2.25</td>\n",
       "      <td>{'atAGlanceFacts': [{'factValue': '', 'factLab...</td>\n",
       "      <td>NaN</td>\n",
       "      <td>durham</td>\n",
       "      <td>[{'rating': ['4', '4', '4'], 'data': {'Distanc...</td>\n",
       "      <td>NaN</td>\n",
       "      <td>27713-967</td>\n",
       "      <td>Baths</td>\n",
       "      <td>NC</td>\n",
       "      <td>295000</td>\n",
       "      <td>0</td>\n",
       "      <td>2266947</td>\n",
       "      <td>9</td>\n",
       "    </tr>\n",
       "  </tbody>\n",
       "</table>\n",
       "</div>"
      ],
      "text/plain": [
       "        status              propertyType                      street  baths  \\\n",
       "85581   Active       Detached, Two Story       6789 White River Home   0.00   \n",
       "112513  Active  Charleston, Transitional      1307 Formal Garden Way   0.00   \n",
       "133901  Active                 Apartment  2315 Gerritsen Ave Unit 3A   0.00   \n",
       "161389  Active                 High Rise             301 Altara #402   0.00   \n",
       "242855  Active                       NaN         132 Edward Booth Ln   2.25   \n",
       "\n",
       "                                                homeFacts fireplace  \\\n",
       "85581   {'atAGlanceFacts': [{'factValue': '1989', 'fac...       NaN   \n",
       "112513  {'atAGlanceFacts': [{'factValue': '2014', 'fac...         1   \n",
       "133901  {'atAGlanceFacts': [{'factValue': '2001', 'fac...       NaN   \n",
       "161389  {'atAGlanceFacts': [{'factValue': '2019', 'fac...       NaN   \n",
       "242855  {'atAGlanceFacts': [{'factValue': '', 'factLab...       NaN   \n",
       "\n",
       "                                  city  \\\n",
       "85581   other city value - out of area   \n",
       "112513                         raleigh   \n",
       "133901                        brooklyn   \n",
       "161389                    coral gables   \n",
       "242855                          durham   \n",
       "\n",
       "                                                  schools   sqft    zipcode  \\\n",
       "85581   [{'rating': [], 'data': {'Distance': [], 'Grad...  4,000     123456   \n",
       "112513  [{'rating': ['3', '3', '3'], 'data': {'Distanc...  2,399   27603-43   \n",
       "133901  [{'rating': ['9', '4', '7', 'NR'], 'data': {'D...  1,100     112229   \n",
       "161389  [{'rating': ['7', 'NR', '10', '5', '5'], 'data...  1,212     331446   \n",
       "242855  [{'rating': ['4', '4', '4'], 'data': {'Distanc...    NaN  27713-967   \n",
       "\n",
       "         beds state  target  PoolPrivate        MLS  zip_len  \n",
       "85581     NaN    NY  899999            0  a10764075        6  \n",
       "112513    NaN    NC  352000            0    2292160        8  \n",
       "133901    NaN    NY  599000            0     435007        6  \n",
       "161389    NaN    FL  620000            0  a10699951        6  \n",
       "242855  Baths    NC  295000            0    2266947        9  "
      ]
     },
     "execution_count": 51,
     "metadata": {},
     "output_type": "execute_result"
    }
   ],
   "source": [
    "# посмотрим на немногочисленные варианты длины индекса от 6 до 9 знаков\n",
    "df[(df['zip_len']>5)&(df['zip_len']<10)]"
   ]
  },
  {
   "cell_type": "code",
   "execution_count": 52,
   "metadata": {},
   "outputs": [
    {
     "data": {
      "text/html": [
       "<div>\n",
       "<style scoped>\n",
       "    .dataframe tbody tr th:only-of-type {\n",
       "        vertical-align: middle;\n",
       "    }\n",
       "\n",
       "    .dataframe tbody tr th {\n",
       "        vertical-align: top;\n",
       "    }\n",
       "\n",
       "    .dataframe thead th {\n",
       "        text-align: right;\n",
       "    }\n",
       "</style>\n",
       "<table border=\"1\" class=\"dataframe\">\n",
       "  <thead>\n",
       "    <tr style=\"text-align: right;\">\n",
       "      <th></th>\n",
       "      <th>status</th>\n",
       "      <th>propertyType</th>\n",
       "      <th>street</th>\n",
       "      <th>baths</th>\n",
       "      <th>homeFacts</th>\n",
       "      <th>fireplace</th>\n",
       "      <th>city</th>\n",
       "      <th>schools</th>\n",
       "      <th>sqft</th>\n",
       "      <th>zipcode</th>\n",
       "      <th>beds</th>\n",
       "      <th>state</th>\n",
       "      <th>target</th>\n",
       "      <th>PoolPrivate</th>\n",
       "      <th>MLS</th>\n",
       "      <th>zip_len</th>\n",
       "    </tr>\n",
       "  </thead>\n",
       "  <tbody>\n",
       "    <tr>\n",
       "      <th>3654</th>\n",
       "      <td>Active</td>\n",
       "      <td>Log Home</td>\n",
       "      <td>718 Powell Dr</td>\n",
       "      <td>1.50</td>\n",
       "      <td>{'atAGlanceFacts': [{'factValue': '1928', 'fac...</td>\n",
       "      <td>1</td>\n",
       "      <td>raleigh</td>\n",
       "      <td>[{'rating': ['4', '8', '6'], 'data': {'Distanc...</td>\n",
       "      <td>1,936</td>\n",
       "      <td>27606-1626</td>\n",
       "      <td>Baths</td>\n",
       "      <td>NC</td>\n",
       "      <td>315000</td>\n",
       "      <td>0</td>\n",
       "      <td>2269185</td>\n",
       "      <td>10</td>\n",
       "    </tr>\n",
       "    <tr>\n",
       "      <th>5192</th>\n",
       "      <td>Active</td>\n",
       "      <td>Bungalow</td>\n",
       "      <td>915 Lake Boone Trl</td>\n",
       "      <td>2.50</td>\n",
       "      <td>{'atAGlanceFacts': [{'factValue': '1950', 'fac...</td>\n",
       "      <td>1</td>\n",
       "      <td>raleigh</td>\n",
       "      <td>[{'rating': ['6', '7', '5'], 'data': {'Distanc...</td>\n",
       "      <td>1,742</td>\n",
       "      <td>27607-6632</td>\n",
       "      <td>Baths</td>\n",
       "      <td>NC</td>\n",
       "      <td>475000</td>\n",
       "      <td>0</td>\n",
       "      <td>2241307</td>\n",
       "      <td>10</td>\n",
       "    </tr>\n",
       "    <tr>\n",
       "      <th>7155</th>\n",
       "      <td>Active</td>\n",
       "      <td>Bungalow, Ranch</td>\n",
       "      <td>1109 Virginia Ave</td>\n",
       "      <td>1.75</td>\n",
       "      <td>{'atAGlanceFacts': [{'factValue': '1940', 'fac...</td>\n",
       "      <td>1</td>\n",
       "      <td>durham</td>\n",
       "      <td>[{'rating': ['4', '3', '4'], 'data': {'Distanc...</td>\n",
       "      <td>1,194</td>\n",
       "      <td>27705-3261</td>\n",
       "      <td>Baths</td>\n",
       "      <td>NC</td>\n",
       "      <td>284900</td>\n",
       "      <td>0</td>\n",
       "      <td>2281085</td>\n",
       "      <td>10</td>\n",
       "    </tr>\n",
       "    <tr>\n",
       "      <th>7545</th>\n",
       "      <td>Active</td>\n",
       "      <td>Traditional</td>\n",
       "      <td>3117 Henslowe Dr</td>\n",
       "      <td>0.00</td>\n",
       "      <td>{'atAGlanceFacts': [{'factValue': '1986', 'fac...</td>\n",
       "      <td>1</td>\n",
       "      <td>raleigh</td>\n",
       "      <td>[{'rating': ['5', '4', '6'], 'data': {'Distanc...</td>\n",
       "      <td>1,674</td>\n",
       "      <td>27603-2692</td>\n",
       "      <td>NaN</td>\n",
       "      <td>NC</td>\n",
       "      <td>245000</td>\n",
       "      <td>0</td>\n",
       "      <td>2292632</td>\n",
       "      <td>10</td>\n",
       "    </tr>\n",
       "    <tr>\n",
       "      <th>8586</th>\n",
       "      <td>Active</td>\n",
       "      <td>Transitional</td>\n",
       "      <td>1209 Graedon Dr</td>\n",
       "      <td>0.00</td>\n",
       "      <td>{'atAGlanceFacts': [{'factValue': '2014', 'fac...</td>\n",
       "      <td>3</td>\n",
       "      <td>raleigh</td>\n",
       "      <td>[{'rating': ['5', '4', '6'], 'data': {'Distanc...</td>\n",
       "      <td>6,517</td>\n",
       "      <td>27603-3986</td>\n",
       "      <td>NaN</td>\n",
       "      <td>NC</td>\n",
       "      <td>1599000</td>\n",
       "      <td>0</td>\n",
       "      <td>2252547</td>\n",
       "      <td>10</td>\n",
       "    </tr>\n",
       "  </tbody>\n",
       "</table>\n",
       "</div>"
      ],
      "text/plain": [
       "      status     propertyType              street  baths  \\\n",
       "3654  Active         Log Home       718 Powell Dr   1.50   \n",
       "5192  Active         Bungalow  915 Lake Boone Trl   2.50   \n",
       "7155  Active  Bungalow, Ranch   1109 Virginia Ave   1.75   \n",
       "7545  Active      Traditional    3117 Henslowe Dr   0.00   \n",
       "8586  Active     Transitional     1209 Graedon Dr   0.00   \n",
       "\n",
       "                                              homeFacts fireplace     city  \\\n",
       "3654  {'atAGlanceFacts': [{'factValue': '1928', 'fac...         1  raleigh   \n",
       "5192  {'atAGlanceFacts': [{'factValue': '1950', 'fac...         1  raleigh   \n",
       "7155  {'atAGlanceFacts': [{'factValue': '1940', 'fac...         1   durham   \n",
       "7545  {'atAGlanceFacts': [{'factValue': '1986', 'fac...         1  raleigh   \n",
       "8586  {'atAGlanceFacts': [{'factValue': '2014', 'fac...         3  raleigh   \n",
       "\n",
       "                                                schools   sqft     zipcode  \\\n",
       "3654  [{'rating': ['4', '8', '6'], 'data': {'Distanc...  1,936  27606-1626   \n",
       "5192  [{'rating': ['6', '7', '5'], 'data': {'Distanc...  1,742  27607-6632   \n",
       "7155  [{'rating': ['4', '3', '4'], 'data': {'Distanc...  1,194  27705-3261   \n",
       "7545  [{'rating': ['5', '4', '6'], 'data': {'Distanc...  1,674  27603-2692   \n",
       "8586  [{'rating': ['5', '4', '6'], 'data': {'Distanc...  6,517  27603-3986   \n",
       "\n",
       "       beds state   target  PoolPrivate      MLS  zip_len  \n",
       "3654  Baths    NC   315000            0  2269185       10  \n",
       "5192  Baths    NC   475000            0  2241307       10  \n",
       "7155  Baths    NC   284900            0  2281085       10  \n",
       "7545    NaN    NC   245000            0  2292632       10  \n",
       "8586    NaN    NC  1599000            0  2252547       10  "
      ]
     },
     "execution_count": 52,
     "metadata": {},
     "output_type": "execute_result"
    }
   ],
   "source": [
    "# есть два с дефисом, которые первой своей частью выглядят очень натурально, как индекс\n",
    "# остальные три проще будет удалить\n",
    "# но сначала посмотрим на структуру 10-значных индексов, их побольше\n",
    "df[df['zip_len']==10].head()"
   ]
  },
  {
   "cell_type": "code",
   "execution_count": 53,
   "metadata": {},
   "outputs": [
    {
     "data": {
      "text/plain": [
       "5    374234\n",
       "6         3\n",
       "Name: zip_len, dtype: int64"
      ]
     },
     "execution_count": 53,
     "metadata": {},
     "output_type": "execute_result"
    }
   ],
   "source": [
    "# уберем дефисы и последующие за ним знаки\n",
    "df['zipcode'] = df['zipcode'].str.replace(\"-.+\",'', regex=True)\n",
    "df['zip_len'] = df['zipcode'].apply(lambda x: len(x))\n",
    "df['zip_len'].value_counts()"
   ]
  },
  {
   "cell_type": "code",
   "execution_count": 54,
   "metadata": {},
   "outputs": [
    {
     "data": {
      "text/plain": [
       "374234"
      ]
     },
     "execution_count": 54,
     "metadata": {},
     "output_type": "execute_result"
    }
   ],
   "source": [
    "# удалим 3 записи с 6-значными индексами\n",
    "df = df[df['zip_len']==5]\n",
    "df.shape[0]"
   ]
  },
  {
   "cell_type": "code",
   "execution_count": 55,
   "metadata": {},
   "outputs": [
    {
     "data": {
      "text/html": [
       "<div>\n",
       "<style scoped>\n",
       "    .dataframe tbody tr th:only-of-type {\n",
       "        vertical-align: middle;\n",
       "    }\n",
       "\n",
       "    .dataframe tbody tr th {\n",
       "        vertical-align: top;\n",
       "    }\n",
       "\n",
       "    .dataframe thead th {\n",
       "        text-align: right;\n",
       "    }\n",
       "</style>\n",
       "<table border=\"1\" class=\"dataframe\">\n",
       "  <thead>\n",
       "    <tr style=\"text-align: right;\">\n",
       "      <th></th>\n",
       "      <th>zip</th>\n",
       "      <th>type</th>\n",
       "      <th>primary_city</th>\n",
       "      <th>acceptable_cities</th>\n",
       "      <th>unacceptable_cities</th>\n",
       "      <th>state</th>\n",
       "      <th>county</th>\n",
       "      <th>timezone</th>\n",
       "      <th>area_codes</th>\n",
       "      <th>latitude</th>\n",
       "      <th>longitude</th>\n",
       "      <th>world_region</th>\n",
       "      <th>country</th>\n",
       "      <th>decommissioned</th>\n",
       "      <th>estimated_population</th>\n",
       "      <th>notes</th>\n",
       "    </tr>\n",
       "  </thead>\n",
       "  <tbody>\n",
       "    <tr>\n",
       "      <th>0</th>\n",
       "      <td>00501</td>\n",
       "      <td>UNIQUE</td>\n",
       "      <td>Holtsville</td>\n",
       "      <td>NaN</td>\n",
       "      <td>I R S Service Center</td>\n",
       "      <td>NY</td>\n",
       "      <td>Suffolk County</td>\n",
       "      <td>America/New_York</td>\n",
       "      <td>631</td>\n",
       "      <td>40.81</td>\n",
       "      <td>-73.04</td>\n",
       "      <td>NaN</td>\n",
       "      <td>US</td>\n",
       "      <td>0</td>\n",
       "      <td>384</td>\n",
       "      <td>NaN</td>\n",
       "    </tr>\n",
       "    <tr>\n",
       "      <th>1</th>\n",
       "      <td>00544</td>\n",
       "      <td>UNIQUE</td>\n",
       "      <td>Holtsville</td>\n",
       "      <td>NaN</td>\n",
       "      <td>Irs Service Center</td>\n",
       "      <td>NY</td>\n",
       "      <td>Suffolk County</td>\n",
       "      <td>America/New_York</td>\n",
       "      <td>631</td>\n",
       "      <td>40.81</td>\n",
       "      <td>-73.04</td>\n",
       "      <td>NaN</td>\n",
       "      <td>US</td>\n",
       "      <td>0</td>\n",
       "      <td>0</td>\n",
       "      <td>NaN</td>\n",
       "    </tr>\n",
       "    <tr>\n",
       "      <th>2</th>\n",
       "      <td>00601</td>\n",
       "      <td>STANDARD</td>\n",
       "      <td>Adjuntas</td>\n",
       "      <td>NaN</td>\n",
       "      <td>Colinas Del Gigante, Jard De Adjuntas, Urb San...</td>\n",
       "      <td>PR</td>\n",
       "      <td>Adjuntas</td>\n",
       "      <td>America/Puerto_Rico</td>\n",
       "      <td>787,939</td>\n",
       "      <td>18.16</td>\n",
       "      <td>-66.72</td>\n",
       "      <td>NaN</td>\n",
       "      <td>US</td>\n",
       "      <td>0</td>\n",
       "      <td>0</td>\n",
       "      <td>NaN</td>\n",
       "    </tr>\n",
       "    <tr>\n",
       "      <th>3</th>\n",
       "      <td>00602</td>\n",
       "      <td>STANDARD</td>\n",
       "      <td>Aguada</td>\n",
       "      <td>NaN</td>\n",
       "      <td>Alts De Aguada, Bo Guaniquilla, Comunidad Las ...</td>\n",
       "      <td>PR</td>\n",
       "      <td>NaN</td>\n",
       "      <td>NaN</td>\n",
       "      <td>787</td>\n",
       "      <td>18.38</td>\n",
       "      <td>-67.18</td>\n",
       "      <td>NaN</td>\n",
       "      <td>US</td>\n",
       "      <td>0</td>\n",
       "      <td>0</td>\n",
       "      <td>NaN</td>\n",
       "    </tr>\n",
       "    <tr>\n",
       "      <th>4</th>\n",
       "      <td>00603</td>\n",
       "      <td>STANDARD</td>\n",
       "      <td>Aguadilla</td>\n",
       "      <td>Ramey</td>\n",
       "      <td>Bda Caban, Bda Esteves, Bo Borinquen, Bo Ceiba...</td>\n",
       "      <td>PR</td>\n",
       "      <td>Aguadilla</td>\n",
       "      <td>America/Puerto_Rico</td>\n",
       "      <td>787</td>\n",
       "      <td>18.43</td>\n",
       "      <td>-67.15</td>\n",
       "      <td>NaN</td>\n",
       "      <td>US</td>\n",
       "      <td>0</td>\n",
       "      <td>0</td>\n",
       "      <td>NaN</td>\n",
       "    </tr>\n",
       "  </tbody>\n",
       "</table>\n",
       "</div>"
      ],
      "text/plain": [
       "     zip      type primary_city acceptable_cities  \\\n",
       "0  00501    UNIQUE   Holtsville               NaN   \n",
       "1  00544    UNIQUE   Holtsville               NaN   \n",
       "2  00601  STANDARD     Adjuntas               NaN   \n",
       "3  00602  STANDARD       Aguada               NaN   \n",
       "4  00603  STANDARD    Aguadilla             Ramey   \n",
       "\n",
       "                                 unacceptable_cities state          county  \\\n",
       "0                               I R S Service Center    NY  Suffolk County   \n",
       "1                                 Irs Service Center    NY  Suffolk County   \n",
       "2  Colinas Del Gigante, Jard De Adjuntas, Urb San...    PR        Adjuntas   \n",
       "3  Alts De Aguada, Bo Guaniquilla, Comunidad Las ...    PR             NaN   \n",
       "4  Bda Caban, Bda Esteves, Bo Borinquen, Bo Ceiba...    PR       Aguadilla   \n",
       "\n",
       "              timezone area_codes latitude longitude world_region country  \\\n",
       "0     America/New_York        631    40.81    -73.04          NaN      US   \n",
       "1     America/New_York        631    40.81    -73.04          NaN      US   \n",
       "2  America/Puerto_Rico    787,939    18.16    -66.72          NaN      US   \n",
       "3                  NaN        787    18.38    -67.18          NaN      US   \n",
       "4  America/Puerto_Rico        787    18.43    -67.15          NaN      US   \n",
       "\n",
       "  decommissioned estimated_population notes  \n",
       "0              0                  384   NaN  \n",
       "1              0                    0   NaN  \n",
       "2              0                    0   NaN  \n",
       "3              0                    0   NaN  \n",
       "4              0                    0   NaN  "
      ]
     },
     "execution_count": 55,
     "metadata": {},
     "output_type": "execute_result"
    }
   ],
   "source": [
    "# подгрузим информацию из доп.файла о средневзвешенных координатах территории, закрепленной за почтовым индексом\n",
    "zip_db = pd.read_csv('data/zip_code_database.csv', dtype='str')\n",
    "zip_db.head()"
   ]
  },
  {
   "cell_type": "code",
   "execution_count": 56,
   "metadata": {},
   "outputs": [
    {
     "data": {
      "text/plain": [
       "141"
      ]
     },
     "execution_count": 56,
     "metadata": {},
     "output_type": "execute_result"
    }
   ],
   "source": [
    "# левым соединением добавим к основному датасету координаты, оценим количество записей без координат\n",
    "df = df.merge(zip_db[['zip','latitude','longitude']], 'left', left_on='zipcode', right_on='zip')\n",
    "df['zip'].isna().sum()"
   ]
  },
  {
   "cell_type": "code",
   "execution_count": 57,
   "metadata": {},
   "outputs": [
    {
     "data": {
      "text/plain": [
       "374093"
      ]
     },
     "execution_count": 57,
     "metadata": {},
     "output_type": "execute_result"
    }
   ],
   "source": [
    "# считаю допустимым в рамках этой работы удалить записи, к которым не сопоставились координаты\n",
    "df = df[~df['zip'].isna()]\n",
    "df.shape[0]"
   ]
  },
  {
   "cell_type": "code",
   "execution_count": 58,
   "metadata": {},
   "outputs": [
    {
     "name": "stdout",
     "output_type": "stream",
     "text": [
      "<class 'pandas.core.frame.DataFrame'>\n",
      "Int64Index: 374093 entries, 0 to 374233\n",
      "Data columns (total 17 columns):\n",
      " #   Column        Non-Null Count   Dtype  \n",
      "---  ------        --------------   -----  \n",
      " 0   status        334841 non-null  object \n",
      " 1   propertyType  339548 non-null  object \n",
      " 2   street        372265 non-null  object \n",
      " 3   baths         374093 non-null  float64\n",
      " 4   homeFacts     374093 non-null  object \n",
      " 5   fireplace     102333 non-null  object \n",
      " 6   city          374059 non-null  object \n",
      " 7   schools       374093 non-null  object \n",
      " 8   sqft          334031 non-null  object \n",
      " 9   zipcode       374093 non-null  object \n",
      " 10  beds          283228 non-null  object \n",
      " 11  state         374093 non-null  object \n",
      " 12  target        374093 non-null  int64  \n",
      " 13  PoolPrivate   374093 non-null  int64  \n",
      " 14  MLS           374017 non-null  object \n",
      " 15  latitude      374093 non-null  float64\n",
      " 16  longitude     374093 non-null  float64\n",
      "dtypes: float64(3), int64(2), object(12)\n",
      "memory usage: 51.4+ MB\n"
     ]
    }
   ],
   "source": [
    "# удалим теперь уже ненужные столбцы zip_len и zip, а также поменяем тип данных в столбцах с координатами\n",
    "df = df.drop(['zip_len','zip'],axis=1)\n",
    "df[['latitude', 'longitude']] = df[['latitude', 'longitude']].astype(float)\n",
    "df.info()"
   ]
  },
  {
   "cell_type": "markdown",
   "metadata": {},
   "source": [
    "__________"
   ]
  },
  {
   "cell_type": "markdown",
   "metadata": {},
   "source": [
    "##### fireplace - всё о каминах"
   ]
  },
  {
   "cell_type": "code",
   "execution_count": 59,
   "metadata": {},
   "outputs": [
    {
     "name": "stdout",
     "output_type": "stream",
     "text": [
      "пропусков :  271760\n",
      "пропусков в %:  73.0 %\n",
      "уникальных значений :  1650\n"
     ]
    }
   ],
   "source": [
    "# для начала переведем все записи в нижний регистр\n",
    "df['fireplace'] = df['fireplace'].str.lower()\n",
    "# оценим пропуски и разнообразие вариантов\n",
    "print('пропусков : ',df['fireplace'].isna().sum())\n",
    "print('пропусков в %: ',round((df['fireplace'].isna().sum()/df.shape[0]*100),0),'%')\n",
    "print('уникальных значений : ',df['fireplace'].nunique())"
   ]
  },
  {
   "cell_type": "code",
   "execution_count": 60,
   "metadata": {},
   "outputs": [
    {
     "data": {
      "text/plain": [
       "walk-in closets                                                    49\n",
       "1 fireplace, fireplace living rm                                   48\n",
       "ceiling fan, utility connection, walk-in closets                   47\n",
       "gas log, 1 fireplace                                               47\n",
       "n/k                                                                47\n",
       "1 fireplace, gas fireplace                                         45\n",
       "fireplace-gas, forced air                                          45\n",
       "ceiling fan, extra closets, utility connection, walk-in closets    44\n",
       "familyrm, wood burning                                             44\n",
       "ceiling fan, storage, utility connection, walk-in closets          40\n",
       "ceiling fan, utility connection                                    39\n",
       "1 fireplace, fireplace family rm, gas fireplace                    39\n",
       "ceiling fan, storage, walk-in closets                              37\n",
       "familyrm, gas vented                                               36\n",
       "6                                                                  35\n",
       "gas logs, gas starter                                              35\n",
       "3+                                                                 34\n",
       "ceiling fan, extra closets                                         32\n",
       "firepit                                                            32\n",
       "familyrm, gas logs, gas vented                                     32\n",
       "in living room, wood burning                                       31\n",
       "fireplaces                                                         31\n",
       "familyrm, natural gas                                              29\n",
       "other (see remarks)                                                28\n",
       "utility connection, walk-in closets                                28\n",
       "great room, wood burning                                           27\n",
       "gas fireplace                                                      26\n",
       "gas logs, gas vented, great room                                   26\n",
       "gas log                                                            26\n",
       "wood burning, gas starter                                          25\n",
       "in den/family room                                                 25\n",
       "one, wood burning                                                  25\n",
       "log wood-burning, 1 fireplace                                      24\n",
       "fireplace-wood, forced air                                         23\n",
       "gas, one                                                           21\n",
       "gas vented, great room                                             21\n",
       "utility connection                                                 21\n",
       "ceiling fan, extra closets, storage, utility connection            21\n",
       "gas starter                                                        21\n",
       "extra closets, storage, utility connection, walk-in closets        20\n",
       "factory built                                                      20\n",
       "gas, ventless                                                      20\n",
       "electric, living room                                              19\n",
       "7                                                                  18\n",
       "ceiling fan, extra closets, utility connection                     18\n",
       "family room, living room, wood burning                             18\n",
       "gas logs, great room, natural gas                                  17\n",
       "ceiling fan, storage, utility connection                           17\n",
       "extra closets                                                      17\n",
       "# fireplaces - woodstoves                                          17\n",
       "Name: fireplace, dtype: int64"
      ]
     },
     "execution_count": 60,
     "metadata": {},
     "output_type": "execute_result"
    }
   ],
   "source": [
    "# похоже, в этом поле общераспространенные типовые варианты отсутствуют, каждый - свободный художник (и это ужасно)\n",
    "# посмотрим наиболее ходовые формулировки\n",
    "df['fireplace'].value_counts().head(100).tail(50)"
   ]
  },
  {
   "cell_type": "code",
   "execution_count": 61,
   "metadata": {},
   "outputs": [
    {
     "name": "stdout",
     "output_type": "stream",
     "text": [
      "<class 'pandas.core.frame.DataFrame'>\n",
      "Int64Index: 374093 entries, 0 to 374233\n",
      "Data columns (total 16 columns):\n",
      " #   Column        Non-Null Count   Dtype  \n",
      "---  ------        --------------   -----  \n",
      " 0   status        334841 non-null  object \n",
      " 1   propertyType  339548 non-null  object \n",
      " 2   street        372265 non-null  object \n",
      " 3   baths         374093 non-null  float64\n",
      " 4   homeFacts     374093 non-null  object \n",
      " 5   city          374059 non-null  object \n",
      " 6   schools       374093 non-null  object \n",
      " 7   sqft          334031 non-null  object \n",
      " 8   zipcode       374093 non-null  object \n",
      " 9   beds          283228 non-null  object \n",
      " 10  state         374093 non-null  object \n",
      " 11  target        374093 non-null  int64  \n",
      " 12  PoolPrivate   374093 non-null  int64  \n",
      " 13  MLS           374017 non-null  object \n",
      " 14  latitude      374093 non-null  float64\n",
      " 15  longitude     374093 non-null  float64\n",
      "dtypes: float64(3), int64(2), object(11)\n",
      "memory usage: 48.5+ MB\n"
     ]
    }
   ],
   "source": [
    "# всё намного хуже, поле зачастую использовалось для внесения дополнительной информации в свободной форме\n",
    "# к сожалению, предполагаемые трудозатраты по обработке несопоставимы с эффектом от этого признака\n",
    "# есть описания наличия шкафов, доп.оборудования в квартире, никак не связанных с каминами\n",
    "# удаляем признак\n",
    "df = df.drop(['fireplace'], axis=1)\n",
    "df.info()"
   ]
  },
  {
   "cell_type": "markdown",
   "metadata": {},
   "source": [
    "____________"
   ]
  },
  {
   "cell_type": "markdown",
   "metadata": {},
   "source": [
    "##### Beds - спальни"
   ]
  },
  {
   "cell_type": "code",
   "execution_count": 62,
   "metadata": {},
   "outputs": [
    {
     "name": "stdout",
     "output_type": "stream",
     "text": [
      "пропусков :  90865\n",
      "пропусков в %:  24.0 %\n",
      "уникальных значений :  1144\n"
     ]
    }
   ],
   "source": [
    "# для начала переведем все записи в нижний регистр\n",
    "df['beds'] = df['beds'].str.lower()\n",
    "# оцениваем количество пропусков и смотрим разнообразие вариантов значений признака\n",
    "print('пропусков : ',df['beds'].isna().sum())\n",
    "print('пропусков в %: ',round((df['beds'].isna().sum()/df.shape[0]*100),0),'%')\n",
    "print('уникальных значений : ',df['beds'].nunique())"
   ]
  },
  {
   "cell_type": "code",
   "execution_count": 63,
   "metadata": {},
   "outputs": [
    {
     "data": {
      "text/plain": [
       "3 beds        52926\n",
       "4 beds        35105\n",
       "3             31187\n",
       "2 beds        26074\n",
       "4             19913\n",
       "              ...  \n",
       "3.8 acres         1\n",
       "7,104 sqft        1\n",
       "9,443 sqft        1\n",
       "5.11 acres        1\n",
       "8,479 sqft        1\n",
       "Name: beds, Length: 1144, dtype: int64"
      ]
     },
     "execution_count": 63,
     "metadata": {},
     "output_type": "execute_result"
    }
   ],
   "source": [
    "# посмотрим примеры значений\n",
    "df['beds'].value_counts()"
   ]
  },
  {
   "cell_type": "code",
   "execution_count": 64,
   "metadata": {},
   "outputs": [
    {
     "name": "stdout",
     "output_type": "stream",
     "text": [
      "2925\n"
     ]
    },
    {
     "data": {
      "text/plain": [
       "2894"
      ]
     },
     "execution_count": 64,
     "metadata": {},
     "output_type": "execute_result"
    }
   ],
   "source": [
    "# неожиданно нашлись значения площади с обозначениями acres и sqft\n",
    "# оценим количество таких данных в поле beds и одновременное отсутствие в поле sqft\n",
    "print(df[(df['beds'].str.contains('sqft', na=False)) | (df['beds'].str.contains('acres', na=False))].shape[0])\n",
    "df[(df['beds'].str.contains('sqft', na=False)) | (df['beds'].str.contains('acres', na=False))]['sqft'].isna().sum()"
   ]
  },
  {
   "cell_type": "code",
   "execution_count": 65,
   "metadata": {},
   "outputs": [],
   "source": [
    "# странным будет не вернуть эти данные туда, где им самое место - в поле sqft\n",
    "def beds_sqft(beds, sqft):\n",
    "    if type(beds) is float:\n",
    "        return sqft\n",
    "    if 'sqft' in beds:\n",
    "        return beds\n",
    "#    if 'acres' in beds: - не относится к sqft\n",
    "#        return beds     - не относится к sqft\n",
    "    return sqft\n",
    "\n",
    "df['sqft'] = df.apply(lambda row: beds_sqft(row['beds'], row['sqft']), axis=1)"
   ]
  },
  {
   "cell_type": "code",
   "execution_count": 66,
   "metadata": {},
   "outputs": [
    {
     "name": "stdout",
     "output_type": "stream",
     "text": [
      "0\n"
     ]
    }
   ],
   "source": [
    "# теперь очистим в поле beds записи с площадью и проверим успешность этого мероприятия\n",
    "df['beds'] = df['beds'].apply(lambda x: x if type(x) is float else np.nan if ('sqft' in x) or ('acres' in x) else x)\n",
    "print(df[(df['beds'].str.contains('sqft', na=False)) | (df['beds'].str.contains('acres', na=False))].shape[0])"
   ]
  },
  {
   "cell_type": "code",
   "execution_count": 67,
   "metadata": {},
   "outputs": [],
   "source": [
    "# уберем все пробелы и буквы, а также оставленные кем-то сочинения в этом поле\n",
    "df['beds_len'] = df['beds'].apply(lambda x: 1.0 if type(x) is float else len(x))\n",
    "df['beds'] = df.apply(lambda x: '0' if x['beds_len']>= 10.0 else x['beds'], axis=1)\n",
    "df['beds'] = df['beds'].str.replace('[a-zA-Z]','', regex=True)\n",
    "df['beds'] = df['beds'].apply(lambda x: 0 if x=='' else x)\n",
    "df['beds'] = df['beds'].str.replace('--','0')\n",
    "df['beds'] = df['beds'].str.replace(' ','')\n",
    "df['beds'] = df['beds'].str.replace('#','')\n",
    "df = df.drop('beds_len', axis=1)"
   ]
  },
  {
   "cell_type": "code",
   "execution_count": 68,
   "metadata": {},
   "outputs": [],
   "source": [
    "# заполним остальные пробелы нулями\n",
    "df['beds'] = df['beds'].fillna('0')\n",
    "df['beds'] = df['beds'].astype(float)"
   ]
  },
  {
   "cell_type": "markdown",
   "metadata": {},
   "source": [
    "___________"
   ]
  },
  {
   "cell_type": "markdown",
   "metadata": {},
   "source": [
    "##### sqft - площадь в футах"
   ]
  },
  {
   "cell_type": "code",
   "execution_count": 69,
   "metadata": {},
   "outputs": [
    {
     "name": "stdout",
     "output_type": "stream",
     "text": [
      "пропусков :  38712\n",
      "пропусков в %:  10.0 %\n",
      "уникальных значений :  25550\n"
     ]
    },
    {
     "data": {
      "text/plain": [
       "0              11852\n",
       "1,200 sqft       824\n",
       "1,000 sqft       643\n",
       "1,100 sqft       566\n",
       "1,800 sqft       558\n",
       "               ...  \n",
       "5,177              1\n",
       "11620              1\n",
       "46,118 sqft        1\n",
       "6,523 sqft         1\n",
       "8,479 sqft         1\n",
       "Name: sqft, Length: 25550, dtype: int64"
      ]
     },
     "execution_count": 69,
     "metadata": {},
     "output_type": "execute_result"
    }
   ],
   "source": [
    "# для начала переведем все записи в нижний регистр\n",
    "df['sqft'] = df['sqft'].str.lower()\n",
    "# оцениваем количество пропусков и смотрим разнообразие вариантов значений признака\n",
    "print('пропусков : ',df['sqft'].isna().sum())\n",
    "print('пропусков в %: ',round((df['sqft'].isna().sum()/df.shape[0]*100),0),'%')\n",
    "print('уникальных значений : ',df['sqft'].nunique())\n",
    "df['sqft'].value_counts()"
   ]
  },
  {
   "cell_type": "code",
   "execution_count": 70,
   "metadata": {},
   "outputs": [
    {
     "data": {
      "text/plain": [
       "1200      1406\n",
       "1000      1013\n",
       "1500      1010\n",
       "1800       979\n",
       "1100       929\n",
       "          ... \n",
       "44840        1\n",
       "288588       1\n",
       "7728         1\n",
       "6454         1\n",
       "8479         1\n",
       "Name: sqft, Length: 10024, dtype: int64"
      ]
     },
     "execution_count": 70,
     "metadata": {},
     "output_type": "execute_result"
    }
   ],
   "source": [
    "# уберем часто встречающиеся символы и фразы, а также пока переведем в явные пробелы нулевые значения\n",
    "# list_sqft = ['total interior livable area: ', ' sqft', ',']\n",
    "df['sqft'] = df['sqft'].str.replace(' sqft', '').\\\n",
    "                            str.replace('total interior livable area: ', '').\\\n",
    "                            str.replace(',', '').\\\n",
    "                            str.replace('-', '').replace('0',np.nan).replace('',np.nan)\n",
    "df['sqft'].value_counts()"
   ]
  },
  {
   "cell_type": "code",
   "execution_count": 71,
   "metadata": {},
   "outputs": [],
   "source": [
    "df['sqft'] = df['sqft'].astype(float)"
   ]
  },
  {
   "cell_type": "markdown",
   "metadata": {},
   "source": [
    "______________"
   ]
  },
  {
   "cell_type": "markdown",
   "metadata": {},
   "source": [
    "##### homeFacts - сведения о строительстве объекта"
   ]
  },
  {
   "cell_type": "code",
   "execution_count": 72,
   "metadata": {},
   "outputs": [
    {
     "data": {
      "text/plain": [
       "\"{'atAGlanceFacts': [{'factValue': '2019', 'factLabel': 'Year built'}, {'factValue': '', 'factLabel': 'Remodeled year'}, {'factValue': 'Central A/C, Heat Pump', 'factLabel': 'Heating'}, {'factValue': '', 'factLabel': 'Cooling'}, {'factValue': '', 'factLabel': 'Parking'}, {'factValue': None, 'factLabel': 'lotsize'}, {'factValue': '$144', 'factLabel': 'Price/sqft'}]}\""
      ]
     },
     "execution_count": 72,
     "metadata": {},
     "output_type": "execute_result"
    }
   ],
   "source": [
    "# представляет из себя составной признак, который имеет четкую структуру\n",
    "# посмотрим внимательнее и разберем ее на составляющие\n",
    "df['homeFacts'][0]"
   ]
  },
  {
   "cell_type": "code",
   "execution_count": 73,
   "metadata": {},
   "outputs": [
    {
     "data": {
      "text/plain": [
       "['Year built',\n",
       " 'Remodeled year',\n",
       " 'Heating',\n",
       " 'Cooling',\n",
       " 'Parking',\n",
       " 'lotsize',\n",
       " 'Price/sqft']"
      ]
     },
     "execution_count": 73,
     "metadata": {},
     "output_type": "execute_result"
    }
   ],
   "source": [
    "# сформируем список с наименованиями вложенных признаков\n",
    "new_columns = df['homeFacts'].str.findall(r\"\\bfactLabel': '([\\s\\S]+?)[}']\")\n",
    "new_columns[0]"
   ]
  },
  {
   "cell_type": "code",
   "execution_count": 74,
   "metadata": {},
   "outputs": [
    {
     "data": {
      "text/plain": [
       "0    ['2019', '', 'Central A/C, Heat Pump', '', '',...\n",
       "1    ['2019', '', '', '', '', '5828 sqft', '$159/sq...\n",
       "2    ['1961', '1967', 'Forced Air', 'Central', 'Att...\n",
       "3    ['2006', '2006', 'Forced Air', 'Central', 'Det...\n",
       "4            ['', '', '', '', '', '10,019 sqft', None]\n",
       "Name: homeFacts, dtype: object"
      ]
     },
     "execution_count": 74,
     "metadata": {},
     "output_type": "execute_result"
    }
   ],
   "source": [
    "# сформируем массив со значениями признаков с сохранением структуры\n",
    "new_values = df['homeFacts'].str.findall(r\"\\bfactValue': ([\\s\\S]+?), 'factLabel\\b\")\n",
    "new_values.head(5)"
   ]
  },
  {
   "cell_type": "code",
   "execution_count": 75,
   "metadata": {},
   "outputs": [
    {
     "data": {
      "text/html": [
       "<div>\n",
       "<style scoped>\n",
       "    .dataframe tbody tr th:only-of-type {\n",
       "        vertical-align: middle;\n",
       "    }\n",
       "\n",
       "    .dataframe tbody tr th {\n",
       "        vertical-align: top;\n",
       "    }\n",
       "\n",
       "    .dataframe thead th {\n",
       "        text-align: right;\n",
       "    }\n",
       "</style>\n",
       "<table border=\"1\" class=\"dataframe\">\n",
       "  <thead>\n",
       "    <tr style=\"text-align: right;\">\n",
       "      <th></th>\n",
       "      <th>status</th>\n",
       "      <th>propertyType</th>\n",
       "      <th>street</th>\n",
       "      <th>baths</th>\n",
       "      <th>homeFacts</th>\n",
       "      <th>city</th>\n",
       "      <th>schools</th>\n",
       "      <th>sqft</th>\n",
       "      <th>zipcode</th>\n",
       "      <th>beds</th>\n",
       "      <th>...</th>\n",
       "      <th>MLS</th>\n",
       "      <th>latitude</th>\n",
       "      <th>longitude</th>\n",
       "      <th>Year built</th>\n",
       "      <th>Remodeled year</th>\n",
       "      <th>Heating</th>\n",
       "      <th>Cooling</th>\n",
       "      <th>Parking</th>\n",
       "      <th>lotsize</th>\n",
       "      <th>Price/sqft</th>\n",
       "    </tr>\n",
       "  </thead>\n",
       "  <tbody>\n",
       "    <tr>\n",
       "      <th>0</th>\n",
       "      <td>Active</td>\n",
       "      <td>Single Family Home</td>\n",
       "      <td>240 Heather Ln</td>\n",
       "      <td>3.5</td>\n",
       "      <td>{'atAGlanceFacts': [{'factValue': '2019', 'fac...</td>\n",
       "      <td>southern pines</td>\n",
       "      <td>[{'rating': ['4', '4', '7', 'NR', '4', '7', 'N...</td>\n",
       "      <td>2900.0</td>\n",
       "      <td>28387</td>\n",
       "      <td>4.0</td>\n",
       "      <td>...</td>\n",
       "      <td>611019</td>\n",
       "      <td>35.18</td>\n",
       "      <td>-79.40</td>\n",
       "      <td>2019</td>\n",
       "      <td></td>\n",
       "      <td>Central A/C, Heat Pump</td>\n",
       "      <td></td>\n",
       "      <td></td>\n",
       "      <td>None</td>\n",
       "      <td>$144</td>\n",
       "    </tr>\n",
       "    <tr>\n",
       "      <th>1</th>\n",
       "      <td>for sale</td>\n",
       "      <td>single-family home</td>\n",
       "      <td>12911 E Heroy Ave</td>\n",
       "      <td>3.0</td>\n",
       "      <td>{'atAGlanceFacts': [{'factValue': '2019', 'fac...</td>\n",
       "      <td>spokane valley</td>\n",
       "      <td>[{'rating': ['4/10', 'None/10', '4/10'], 'data...</td>\n",
       "      <td>1947.0</td>\n",
       "      <td>99216</td>\n",
       "      <td>3.0</td>\n",
       "      <td>...</td>\n",
       "      <td>201916904</td>\n",
       "      <td>47.69</td>\n",
       "      <td>-117.19</td>\n",
       "      <td>2019</td>\n",
       "      <td></td>\n",
       "      <td></td>\n",
       "      <td></td>\n",
       "      <td></td>\n",
       "      <td>5828 sqft</td>\n",
       "      <td>$159/sqft</td>\n",
       "    </tr>\n",
       "    <tr>\n",
       "      <th>2</th>\n",
       "      <td>for sale</td>\n",
       "      <td>single-family home</td>\n",
       "      <td>2005 Westridge Rd</td>\n",
       "      <td>2.0</td>\n",
       "      <td>{'atAGlanceFacts': [{'factValue': '1961', 'fac...</td>\n",
       "      <td>los angeles</td>\n",
       "      <td>[{'rating': ['8/10', '4/10', '8/10'], 'data': ...</td>\n",
       "      <td>3000.0</td>\n",
       "      <td>90049</td>\n",
       "      <td>3.0</td>\n",
       "      <td>...</td>\n",
       "      <td>fr19221027</td>\n",
       "      <td>34.08</td>\n",
       "      <td>-118.49</td>\n",
       "      <td>1961</td>\n",
       "      <td>1967</td>\n",
       "      <td>Forced Air</td>\n",
       "      <td>Central</td>\n",
       "      <td>Attached Garage</td>\n",
       "      <td>8,626 sqft</td>\n",
       "      <td>$965/sqft</td>\n",
       "    </tr>\n",
       "    <tr>\n",
       "      <th>3</th>\n",
       "      <td>for sale</td>\n",
       "      <td>single-family home</td>\n",
       "      <td>4311 Livingston Ave</td>\n",
       "      <td>8.0</td>\n",
       "      <td>{'atAGlanceFacts': [{'factValue': '2006', 'fac...</td>\n",
       "      <td>dallas</td>\n",
       "      <td>[{'rating': ['9/10', '9/10', '10/10', '9/10'],...</td>\n",
       "      <td>6457.0</td>\n",
       "      <td>75205</td>\n",
       "      <td>5.0</td>\n",
       "      <td>...</td>\n",
       "      <td>14191809</td>\n",
       "      <td>32.79</td>\n",
       "      <td>-96.76</td>\n",
       "      <td>2006</td>\n",
       "      <td>2006</td>\n",
       "      <td>Forced Air</td>\n",
       "      <td>Central</td>\n",
       "      <td>Detached Garage</td>\n",
       "      <td>8,220 sqft</td>\n",
       "      <td>$371/sqft</td>\n",
       "    </tr>\n",
       "    <tr>\n",
       "      <th>4</th>\n",
       "      <td>for sale</td>\n",
       "      <td>lot/land</td>\n",
       "      <td>1524 Kiscoe St</td>\n",
       "      <td>0.0</td>\n",
       "      <td>{'atAGlanceFacts': [{'factValue': '', 'factLab...</td>\n",
       "      <td>palm bay</td>\n",
       "      <td>[{'rating': ['4/10', '5/10', '5/10'], 'data': ...</td>\n",
       "      <td>NaN</td>\n",
       "      <td>32908</td>\n",
       "      <td>0.0</td>\n",
       "      <td>...</td>\n",
       "      <td>861745</td>\n",
       "      <td>27.98</td>\n",
       "      <td>-80.66</td>\n",
       "      <td></td>\n",
       "      <td></td>\n",
       "      <td></td>\n",
       "      <td></td>\n",
       "      <td></td>\n",
       "      <td>10,019 sqft</td>\n",
       "      <td>None</td>\n",
       "    </tr>\n",
       "  </tbody>\n",
       "</table>\n",
       "<p>5 rows × 23 columns</p>\n",
       "</div>"
      ],
      "text/plain": [
       "     status        propertyType               street  baths  \\\n",
       "0    Active  Single Family Home       240 Heather Ln    3.5   \n",
       "1  for sale  single-family home    12911 E Heroy Ave    3.0   \n",
       "2  for sale  single-family home    2005 Westridge Rd    2.0   \n",
       "3  for sale  single-family home  4311 Livingston Ave    8.0   \n",
       "4  for sale            lot/land       1524 Kiscoe St    0.0   \n",
       "\n",
       "                                           homeFacts            city  \\\n",
       "0  {'atAGlanceFacts': [{'factValue': '2019', 'fac...  southern pines   \n",
       "1  {'atAGlanceFacts': [{'factValue': '2019', 'fac...  spokane valley   \n",
       "2  {'atAGlanceFacts': [{'factValue': '1961', 'fac...     los angeles   \n",
       "3  {'atAGlanceFacts': [{'factValue': '2006', 'fac...          dallas   \n",
       "4  {'atAGlanceFacts': [{'factValue': '', 'factLab...        palm bay   \n",
       "\n",
       "                                             schools    sqft zipcode  beds  \\\n",
       "0  [{'rating': ['4', '4', '7', 'NR', '4', '7', 'N...  2900.0   28387   4.0   \n",
       "1  [{'rating': ['4/10', 'None/10', '4/10'], 'data...  1947.0   99216   3.0   \n",
       "2  [{'rating': ['8/10', '4/10', '8/10'], 'data': ...  3000.0   90049   3.0   \n",
       "3  [{'rating': ['9/10', '9/10', '10/10', '9/10'],...  6457.0   75205   5.0   \n",
       "4  [{'rating': ['4/10', '5/10', '5/10'], 'data': ...     NaN   32908   0.0   \n",
       "\n",
       "   ...         MLS  latitude  longitude Year built  Remodeled year  \\\n",
       "0  ...      611019     35.18     -79.40       2019                   \n",
       "1  ...   201916904     47.69    -117.19       2019                   \n",
       "2  ...  fr19221027     34.08    -118.49       1961            1967   \n",
       "3  ...    14191809     32.79     -96.76       2006            2006   \n",
       "4  ...      861745     27.98     -80.66                              \n",
       "\n",
       "                  Heating  Cooling          Parking      lotsize Price/sqft  \n",
       "0  Central A/C, Heat Pump                                   None       $144  \n",
       "1                                                      5828 sqft  $159/sqft  \n",
       "2              Forced Air  Central  Attached Garage   8,626 sqft  $965/sqft  \n",
       "3              Forced Air  Central  Detached Garage   8,220 sqft  $371/sqft  \n",
       "4                                                    10,019 sqft       None  \n",
       "\n",
       "[5 rows x 23 columns]"
      ]
     },
     "execution_count": 75,
     "metadata": {},
     "output_type": "execute_result"
    }
   ],
   "source": [
    "# добавим извлеченные признаки в основной набор данных\n",
    "for index, feature in enumerate(new_columns[0]):\n",
    "    df[feature]=new_values.apply(lambda x: x[index].replace(\"'\",\"\"))\n",
    "    \n",
    "df.head()"
   ]
  },
  {
   "cell_type": "code",
   "execution_count": 76,
   "metadata": {},
   "outputs": [
    {
     "name": "stdout",
     "output_type": "stream",
     "text": [
      "<class 'pandas.core.frame.DataFrame'>\n",
      "Int64Index: 374093 entries, 0 to 374233\n",
      "Data columns (total 21 columns):\n",
      " #   Column          Non-Null Count   Dtype  \n",
      "---  ------          --------------   -----  \n",
      " 0   status          334841 non-null  object \n",
      " 1   propertyType    339548 non-null  object \n",
      " 2   street          372265 non-null  object \n",
      " 3   baths           374093 non-null  float64\n",
      " 4   city            374059 non-null  object \n",
      " 5   schools         374093 non-null  object \n",
      " 6   sqft            322641 non-null  float64\n",
      " 7   zipcode         374093 non-null  object \n",
      " 8   beds            374093 non-null  float64\n",
      " 9   state           374093 non-null  object \n",
      " 10  target          374093 non-null  int64  \n",
      " 11  PoolPrivate     374093 non-null  int64  \n",
      " 12  MLS             374017 non-null  object \n",
      " 13  latitude        374093 non-null  float64\n",
      " 14  longitude       374093 non-null  float64\n",
      " 15  Year built      374093 non-null  object \n",
      " 16  Remodeled year  374093 non-null  object \n",
      " 17  Heating         374093 non-null  object \n",
      " 18  Cooling         374093 non-null  object \n",
      " 19  Parking         374093 non-null  object \n",
      " 20  lotsize         374093 non-null  object \n",
      "dtypes: float64(5), int64(2), object(14)\n",
      "memory usage: 70.9+ MB\n"
     ]
    }
   ],
   "source": [
    "# поле homeFacts удаляем, т.к. вся необходимая информация из него извлечена\n",
    "df = df.drop('homeFacts', axis=1)\n",
    "# сразу можно удалить во избежание утечки признак Price/sqft\n",
    "df = df.drop('Price/sqft', axis=1)\n",
    "df.info()"
   ]
  },
  {
   "cell_type": "markdown",
   "metadata": {},
   "source": [
    "___________"
   ]
  },
  {
   "cell_type": "markdown",
   "metadata": {},
   "source": [
    "##### Year built - год постройки"
   ]
  },
  {
   "cell_type": "code",
   "execution_count": 77,
   "metadata": {},
   "outputs": [
    {
     "name": "stdout",
     "output_type": "stream",
     "text": [
      "пропусков :  0\n",
      "пропусков в %:  0.0 %\n",
      "уникальных значений :  229\n"
     ]
    },
    {
     "data": {
      "text/plain": [
       "        58462\n",
       "2019    32118\n",
       "2006     7934\n",
       "2005     7439\n",
       "2007     7079\n",
       "        ...  \n",
       "1809        1\n",
       "1823        1\n",
       "1807        1\n",
       "1740        1\n",
       "1804        1\n",
       "Name: Year built, Length: 229, dtype: int64"
      ]
     },
     "execution_count": 77,
     "metadata": {},
     "output_type": "execute_result"
    }
   ],
   "source": [
    "# для начала переведем все записи в нижний регистр\n",
    "df['Year built'] = df['Year built'].str.lower()\n",
    "# оцениваем количество пропусков и смотрим разнообразие вариантов значений признака\n",
    "print('пропусков : ',df['Year built'].isna().sum())\n",
    "print('пропусков в %: ',round((df['Year built'].isna().sum()/df.shape[0]*100),0),'%')\n",
    "print('уникальных значений : ',df['Year built'].nunique())\n",
    "df['Year built'].value_counts()"
   ]
  },
  {
   "cell_type": "code",
   "execution_count": 78,
   "metadata": {},
   "outputs": [
    {
     "data": {
      "text/plain": [
       "68074     none\n",
       "233094    none\n",
       "2424      none\n",
       "93566     none\n",
       "301310    none\n",
       "Name: Year built, dtype: object"
      ]
     },
     "execution_count": 78,
     "metadata": {},
     "output_type": "execute_result"
    }
   ],
   "source": [
    "df['Year built'].sort_values(ascending=False).head(5)"
   ]
  },
  {
   "cell_type": "code",
   "execution_count": 79,
   "metadata": {},
   "outputs": [
    {
     "data": {
      "text/plain": [
       "182277    \n",
       "160163    \n",
       "201335    \n",
       "172246    \n",
       "201330    \n",
       "Name: Year built, dtype: object"
      ]
     },
     "execution_count": 79,
     "metadata": {},
     "output_type": "execute_result"
    }
   ],
   "source": [
    "df['Year built'].sort_values(ascending=True).head(5)"
   ]
  },
  {
   "cell_type": "code",
   "execution_count": 80,
   "metadata": {},
   "outputs": [],
   "source": [
    "# пока переведем нереальный год постройки и пропуски в явный вид отсутствия данных\n",
    "df['Year built'] = df['Year built'].apply(lambda x: np.nan if \n",
    "                                          (x=='' or x=='1' or x=='none' or x=='no data' or x=='559990649990') \n",
    "                                          else x)"
   ]
  },
  {
   "cell_type": "markdown",
   "metadata": {},
   "source": [
    "__________"
   ]
  },
  {
   "cell_type": "markdown",
   "metadata": {},
   "source": [
    "##### Remodeled year - год реконструкции"
   ]
  },
  {
   "cell_type": "code",
   "execution_count": 81,
   "metadata": {},
   "outputs": [
    {
     "name": "stdout",
     "output_type": "stream",
     "text": [
      "пропусков :  0\n",
      "пропусков в %:  0.0 %\n",
      "уникальных значений :  155\n"
     ]
    },
    {
     "data": {
      "text/plain": [
       "        198008\n",
       "none     26331\n",
       "2006      5485\n",
       "2005      4765\n",
       "2007      4355\n",
       "         ...  \n",
       "1888         1\n",
       "1800         1\n",
       "1738         1\n",
       "1869         1\n",
       "1862         1\n",
       "Name: Remodeled year, Length: 155, dtype: int64"
      ]
     },
     "execution_count": 81,
     "metadata": {},
     "output_type": "execute_result"
    }
   ],
   "source": [
    "# для начала переведем все записи в нижний регистр\n",
    "df['Remodeled year'] = df['Remodeled year'].str.lower()\n",
    "# оцениваем количество пропусков и смотрим разнообразие вариантов значений признака\n",
    "print('пропусков : ',df['Remodeled year'].isna().sum())\n",
    "print('пропусков в %: ',round((df['Remodeled year'].isna().sum()/df.shape[0]*100),0),'%')\n",
    "print('уникальных значений : ',df['Remodeled year'].nunique())\n",
    "df['Remodeled year'].value_counts()"
   ]
  },
  {
   "cell_type": "code",
   "execution_count": 82,
   "metadata": {},
   "outputs": [],
   "source": [
    "# заменим непонятные значения на явные пропуски\n",
    "df['Remodeled year'] = df['Remodeled year'].apply(lambda x: np.nan if \n",
    "                                          (x=='' or x=='0' or x=='none' or x=='1111') \n",
    "                                          else x)"
   ]
  },
  {
   "cell_type": "code",
   "execution_count": 83,
   "metadata": {},
   "outputs": [
    {
     "data": {
      "text/plain": [
       "304149    1738\n",
       "293012    1800\n",
       "153440    1845\n",
       "145150    1846\n",
       "250844    1853\n",
       "          ... \n",
       "55387     2021\n",
       "367550    2021\n",
       "168496    2021\n",
       "352974    2021\n",
       "176113    2021\n",
       "Name: Remodeled year, Length: 149484, dtype: object"
      ]
     },
     "execution_count": 83,
     "metadata": {},
     "output_type": "execute_result"
    }
   ],
   "source": [
    "df[~df['Remodeled year'].isna()]['Remodeled year'].sort_values()"
   ]
  },
  {
   "cell_type": "markdown",
   "metadata": {},
   "source": [
    "_____________"
   ]
  },
  {
   "cell_type": "markdown",
   "metadata": {},
   "source": [
    "##### Heating - информация об отоплении"
   ]
  },
  {
   "cell_type": "code",
   "execution_count": 84,
   "metadata": {},
   "outputs": [
    {
     "name": "stdout",
     "output_type": "stream",
     "text": [
      "пропусков :  0\n",
      "пропусков в %:  0.0 %\n",
      "уникальных значений :  1904\n"
     ]
    },
    {
     "data": {
      "text/plain": [
       "forced air                                                      133358\n",
       "                                                                104873\n",
       "other                                                            29050\n",
       "electric                                                         10173\n",
       "gas                                                               9261\n",
       "                                                                 ...  \n",
       "baseboard, spacewallunit                                             1\n",
       "hot air, stove-pellet                                                1\n",
       "natural gas, space heater                                            1\n",
       "exhaust fans                                                         1\n",
       "baseboard, hot water, programmable thermostat, radiant floor         1\n",
       "Name: Heating, Length: 1904, dtype: int64"
      ]
     },
     "execution_count": 84,
     "metadata": {},
     "output_type": "execute_result"
    }
   ],
   "source": [
    "# для начала переведем все записи в нижний регистр\n",
    "df['Heating'] = df['Heating'].str.lower()\n",
    "# оцениваем количество пропусков и смотрим разнообразие вариантов значений признака\n",
    "print('пропусков : ',df['Heating'].isna().sum())\n",
    "print('пропусков в %: ',round((df['Heating'].isna().sum()/df.shape[0]*100),0),'%')\n",
    "print('уникальных значений : ',df['Heating'].nunique())\n",
    "df['Heating'].value_counts()"
   ]
  },
  {
   "cell_type": "code",
   "execution_count": 85,
   "metadata": {},
   "outputs": [],
   "source": [
    "# заменим непонятные значения на явные пропуски\n",
    "df['Heating'] = df['Heating'].apply(lambda x: np.nan if \n",
    "                                          (x=='' or x=='other' or x=='no data' or x=='none') \n",
    "                                          else x)"
   ]
  },
  {
   "cell_type": "code",
   "execution_count": 86,
   "metadata": {},
   "outputs": [
    {
     "data": {
      "text/plain": [
       "single-family home                                             28111\n",
       "Single Family                                                  17643\n",
       "lot/land                                                       14639\n",
       "Land                                                           10924\n",
       "Single Family Home                                             10415\n",
       "                                                               ...  \n",
       "Single Detached, Contemporary/Modern, Ranch, Traditional           1\n",
       "30X40 building                                                     1\n",
       "Bungalow, Craftsman, Ranch, Transitional, Cottage                  1\n",
       "Condo/Townhome, Contemporary/Modern, Split Level                   1\n",
       "Bilevel, Converted Dwelling, Loft with Bedrooms, Condo/Unit        1\n",
       "Name: propertyType, Length: 721, dtype: int64"
      ]
     },
     "execution_count": 86,
     "metadata": {},
     "output_type": "execute_result"
    }
   ],
   "source": [
    "df[df['Heating'].isna()]['propertyType'].value_counts()"
   ]
  },
  {
   "cell_type": "markdown",
   "metadata": {},
   "source": [
    "___________"
   ]
  },
  {
   "cell_type": "markdown",
   "metadata": {},
   "source": [
    "##### Cooling - системы охлаждения"
   ]
  },
  {
   "cell_type": "code",
   "execution_count": 87,
   "metadata": {},
   "outputs": [
    {
     "name": "stdout",
     "output_type": "stream",
     "text": [
      "пропусков :  0\n",
      "пропусков в %:  0.0 %\n",
      "уникальных значений :  1437\n"
     ]
    },
    {
     "data": {
      "text/plain": [
       "central                                                                        157530\n",
       "                                                                               119108\n",
       "central air                                                                     14382\n",
       "none                                                                            10774\n",
       "no data                                                                         10395\n",
       "                                                                                ...  \n",
       "other (see remarks), panel/floor/wall, window unit                                  1\n",
       "multi units, zoned cooling                                                          1\n",
       "central air, g-energy star hvac, gas hot air/furnace, multizone a/c                 1\n",
       "g-fresh air ventilation, gas hot air/furnace, heat pump - ac, multizone a/c         1\n",
       "central a/c (gas), central heat (gas), heat pump                                    1\n",
       "Name: Cooling, Length: 1437, dtype: int64"
      ]
     },
     "execution_count": 87,
     "metadata": {},
     "output_type": "execute_result"
    }
   ],
   "source": [
    "# для начала переведем все записи в нижний регистр\n",
    "df['Cooling'] = df['Cooling'].str.lower()\n",
    "# оцениваем количество пропусков и смотрим разнообразие вариантов значений признака\n",
    "print('пропусков : ',df['Cooling'].isna().sum())\n",
    "print('пропусков в %: ',round((df['Cooling'].isna().sum()/df.shape[0]*100),0),'%')\n",
    "print('уникальных значений : ',df['Cooling'].nunique())\n",
    "df['Cooling'].value_counts()"
   ]
  },
  {
   "cell_type": "code",
   "execution_count": 88,
   "metadata": {},
   "outputs": [],
   "source": [
    "# заменим непонятные значения на явные пропуски\n",
    "df['Cooling'] = df['Cooling'].apply(lambda x: np.nan if \n",
    "                                          (x=='' or x=='none' or x=='no data' or x=='other') \n",
    "                                          else x)"
   ]
  },
  {
   "cell_type": "code",
   "execution_count": 89,
   "metadata": {},
   "outputs": [
    {
     "data": {
      "text/plain": [
       "central                                                        157530\n",
       "central air                                                     14382\n",
       "has cooling                                                      9726\n",
       "central electric                                                 6154\n",
       "wall                                                             3981\n",
       "central gas                                                      3573\n",
       "central heating                                                  2807\n",
       "cooling system                                                   2700\n",
       "central a/c                                                      2051\n",
       "central a/c (electric), central heat (gas)                       1646\n",
       "central a/c (electric), central heat (electric)                  1429\n",
       "refrigeration                                                    1061\n",
       "central, electric                                                1059\n",
       "electric                                                         1009\n",
       "evaporative                                                       987\n",
       "central air, gas hot air/furnace                                  827\n",
       "refrigeration, ceiling fan(s)                                     787\n",
       "central gas, zoned                                                747\n",
       "central, wall                                                     722\n",
       "air conditioning-central                                          637\n",
       "has heating                                                       582\n",
       "2 or more units, central, electric                                570\n",
       "central air, gas (hot air)                                        504\n",
       "central electric, zoned                                           465\n",
       "central air, zoned                                                452\n",
       "solar, refrigeration                                              421\n",
       "central, other                                                    418\n",
       "ceiling fan, central electric                                     403\n",
       "electric heating                                                  398\n",
       "central cooling                                                   398\n",
       "heat pump                                                         387\n",
       "gas heating                                                       331\n",
       "central a/c (electric), central heat (gas), zoned                 301\n",
       "central electric, heat pump                                       277\n",
       "gas heating, forced air heating                                   260\n",
       "heat pump - ac                                                    252\n",
       "central air, gas hot air/furnace, multizone a/c                   229\n",
       "central electric, central gas                                     225\n",
       "forced air heating                                                200\n",
       "central air, humidity control                                     189\n",
       "heat pump for a/c, heat pump for heat                             176\n",
       "wall/window unit(s)                                               176\n",
       "window unit(s)                                                    173\n",
       "refrigeration, ceiling fan(s), programmable thmstat               167\n",
       "central heating, heat pump heating                                159\n",
       "central air, gas (hot air), multi-zone a/c, multi-zone heat       145\n",
       "steam heating                                                     139\n",
       "air conditioning unit(s)                                          138\n",
       "ceiling fans, central electric                                    133\n",
       "ceiling fan(s)                                                    131\n",
       "Name: Cooling, dtype: int64"
      ]
     },
     "execution_count": 89,
     "metadata": {},
     "output_type": "execute_result"
    }
   ],
   "source": [
    "df['Cooling'].value_counts().head(50)"
   ]
  },
  {
   "cell_type": "markdown",
   "metadata": {},
   "source": [
    "___________"
   ]
  },
  {
   "cell_type": "markdown",
   "metadata": {},
   "source": [
    "##### Parking - информация о парковке"
   ]
  },
  {
   "cell_type": "code",
   "execution_count": 90,
   "metadata": {},
   "outputs": [
    {
     "name": "stdout",
     "output_type": "stream",
     "text": [
      "пропусков :  0\n",
      "пропусков в %:  0.0 %\n",
      "уникальных значений :  3318\n"
     ]
    },
    {
     "data": {
      "text/plain": [
       "                                                                                                                                    170756\n",
       "attached garage                                                                                                                      70182\n",
       "2 spaces                                                                                                                             27831\n",
       "1 space                                                                                                                              14099\n",
       "detached garage                                                                                                                      13088\n",
       "                                                                                                                                     ...  \n",
       "attached - rear, aspht, unassigned                                                                                                       1\n",
       "bath in garage, boat, circular driveway, covered, driveway, garage door opener, workshop in garage                                       1\n",
       "detached, electric door opener, extnded lngth garage, gated parking, slab parking spaces                                                 1\n",
       "boat, driveway                                                                                                                           1\n",
       "deed restrictions, fitness, gated community, golf carts ok, no truck/rv/motorcycle parking, pool, special community restrictions         1\n",
       "Name: Parking, Length: 3318, dtype: int64"
      ]
     },
     "execution_count": 90,
     "metadata": {},
     "output_type": "execute_result"
    }
   ],
   "source": [
    "# для начала переведем все записи в нижний регистр\n",
    "df['Parking'] = df['Parking'].str.lower()\n",
    "# оцениваем количество пропусков и смотрим разнообразие вариантов значений признака\n",
    "print('пропусков : ',df['Parking'].isna().sum())\n",
    "print('пропусков в %: ',round((df['Parking'].isna().sum()/df.shape[0]*100),0),'%')\n",
    "print('уникальных значений : ',df['Parking'].nunique())\n",
    "df['Parking'].value_counts()"
   ]
  },
  {
   "cell_type": "code",
   "execution_count": 91,
   "metadata": {},
   "outputs": [],
   "source": [
    "# заменим непонятные значения на явные пропуски\n",
    "df['Parking'] = df['Parking'].apply(lambda x: np.nan if \n",
    "                                          (x=='' or x=='none' or x=='no data' or x=='other') \n",
    "                                          else x)"
   ]
  },
  {
   "cell_type": "markdown",
   "metadata": {},
   "source": [
    "__________"
   ]
  },
  {
   "cell_type": "markdown",
   "metadata": {},
   "source": [
    "##### lotsize - площадь участка"
   ]
  },
  {
   "cell_type": "code",
   "execution_count": 92,
   "metadata": {},
   "outputs": [
    {
     "name": "stdout",
     "output_type": "stream",
     "text": [
      "пропусков :  0\n",
      "пропусков в %:  0.0 %\n",
      "уникальных значений :  36542\n"
     ]
    },
    {
     "data": {
      "text/plain": [
       "                  32447\n",
       "none              28193\n",
       "—                 25174\n",
       "no data            5292\n",
       "-- sqft lot        3809\n",
       "                  ...  \n",
       "2,921 sqft            1\n",
       "3,686 sq. ft.         1\n",
       "8,479 sq. ft.         1\n",
       "5,573 sq. ft.         1\n",
       "7,084 sqft lot        1\n",
       "Name: lotsize, Length: 36542, dtype: int64"
      ]
     },
     "execution_count": 92,
     "metadata": {},
     "output_type": "execute_result"
    }
   ],
   "source": [
    "# для начала переведем все записи в нижний регистр\n",
    "df['lotsize'] = df['lotsize'].str.lower()\n",
    "# оцениваем количество пропусков и смотрим разнообразие вариантов значений признака\n",
    "print('пропусков : ',df['lotsize'].isna().sum())\n",
    "print('пропусков в %: ',round((df['lotsize'].isna().sum()/df.shape[0]*100),0),'%')\n",
    "print('уникальных значений : ',df['lotsize'].nunique())\n",
    "df['lotsize'].value_counts()"
   ]
  },
  {
   "cell_type": "code",
   "execution_count": 93,
   "metadata": {},
   "outputs": [],
   "source": [
    "# заменим непонятные значения на нулевые значения\n",
    "df['lotsize'] = df['lotsize'].apply(lambda x: 0 if \n",
    "                                          (x=='' or x=='none' or x=='no data' or x=='—' or x=='-- sqft lot') \n",
    "                                          else x)"
   ]
  },
  {
   "cell_type": "markdown",
   "metadata": {},
   "source": [
    "________"
   ]
  },
  {
   "cell_type": "markdown",
   "metadata": {},
   "source": [
    "##### schools - информация о ближайших школах"
   ]
  },
  {
   "cell_type": "code",
   "execution_count": 94,
   "metadata": {},
   "outputs": [
    {
     "data": {
      "text/plain": [
       "\"[{'rating': [], 'data': {'Distance': [], 'Grades': []}, 'name': []}]\""
      ]
     },
     "execution_count": 94,
     "metadata": {},
     "output_type": "execute_result"
    }
   ],
   "source": [
    "# список свернутых воедино признаков\n",
    "df['schools'][5]"
   ]
  },
  {
   "cell_type": "code",
   "execution_count": 95,
   "metadata": {},
   "outputs": [
    {
     "data": {
      "text/plain": [
       "0         ['4', '4', '7', 'NR', '4', '7', 'NR', 'NR']\n",
       "1                         ['4/10', 'None/10', '4/10']\n",
       "2                            ['8/10', '4/10', '8/10']\n",
       "3                   ['9/10', '9/10', '10/10', '9/10']\n",
       "4                            ['4/10', '5/10', '5/10']\n",
       "                             ...                     \n",
       "374229                              ['10/10', '5/10']\n",
       "374230                       ['1/10', '5/10', '7/10']\n",
       "374231                               ['5/10', '4/10']\n",
       "374232                             ['NA', 'NA', 'NA']\n",
       "374233                       ['5/10', '4/10', '3/10']\n",
       "Name: schools, Length: 374093, dtype: object"
      ]
     },
     "execution_count": 95,
     "metadata": {},
     "output_type": "execute_result"
    }
   ],
   "source": [
    "# рассчитаем минимальное расстояние для школы и средний рейтинг школ в ближайшем окружении\n",
    "# наименование школы при массовой обработке смысла не несет\n",
    "# начнем с рейтинга\n",
    "school_rate = df['schools'].str.findall(r\"\\brating': ([\\s\\S]+?), 'data\\b\")\n",
    "school_rate = school_rate.apply(lambda x: x[0])\n",
    "school_rate"
   ]
  },
  {
   "cell_type": "code",
   "execution_count": 96,
   "metadata": {},
   "outputs": [
    {
     "name": "stderr",
     "output_type": "stream",
     "text": [
      "/Library/Frameworks/Python.framework/Versions/3.9/lib/python3.9/site-packages/numpy/lib/function_base.py:518: RuntimeWarning: Mean of empty slice.\n",
      "  avg = a.mean(axis, **keepdims_kw)\n"
     ]
    },
    {
     "data": {
      "text/html": [
       "<div>\n",
       "<style scoped>\n",
       "    .dataframe tbody tr th:only-of-type {\n",
       "        vertical-align: middle;\n",
       "    }\n",
       "\n",
       "    .dataframe tbody tr th {\n",
       "        vertical-align: top;\n",
       "    }\n",
       "\n",
       "    .dataframe thead th {\n",
       "        text-align: right;\n",
       "    }\n",
       "</style>\n",
       "<table border=\"1\" class=\"dataframe\">\n",
       "  <thead>\n",
       "    <tr style=\"text-align: right;\">\n",
       "      <th></th>\n",
       "      <th>status</th>\n",
       "      <th>propertyType</th>\n",
       "      <th>street</th>\n",
       "      <th>baths</th>\n",
       "      <th>city</th>\n",
       "      <th>schools</th>\n",
       "      <th>sqft</th>\n",
       "      <th>zipcode</th>\n",
       "      <th>beds</th>\n",
       "      <th>state</th>\n",
       "      <th>...</th>\n",
       "      <th>MLS</th>\n",
       "      <th>latitude</th>\n",
       "      <th>longitude</th>\n",
       "      <th>Year built</th>\n",
       "      <th>Remodeled year</th>\n",
       "      <th>Heating</th>\n",
       "      <th>Cooling</th>\n",
       "      <th>Parking</th>\n",
       "      <th>lotsize</th>\n",
       "      <th>school_rate</th>\n",
       "    </tr>\n",
       "  </thead>\n",
       "  <tbody>\n",
       "    <tr>\n",
       "      <th>0</th>\n",
       "      <td>Active</td>\n",
       "      <td>Single Family Home</td>\n",
       "      <td>240 Heather Ln</td>\n",
       "      <td>3.5</td>\n",
       "      <td>southern pines</td>\n",
       "      <td>[{'rating': ['4', '4', '7', 'NR', '4', '7', 'N...</td>\n",
       "      <td>2900.0</td>\n",
       "      <td>28387</td>\n",
       "      <td>4.0</td>\n",
       "      <td>NC</td>\n",
       "      <td>...</td>\n",
       "      <td>611019</td>\n",
       "      <td>35.18</td>\n",
       "      <td>-79.40</td>\n",
       "      <td>2019</td>\n",
       "      <td>NaN</td>\n",
       "      <td>central a/c, heat pump</td>\n",
       "      <td>NaN</td>\n",
       "      <td>NaN</td>\n",
       "      <td>0</td>\n",
       "      <td>5.2</td>\n",
       "    </tr>\n",
       "    <tr>\n",
       "      <th>1</th>\n",
       "      <td>for sale</td>\n",
       "      <td>single-family home</td>\n",
       "      <td>12911 E Heroy Ave</td>\n",
       "      <td>3.0</td>\n",
       "      <td>spokane valley</td>\n",
       "      <td>[{'rating': ['4/10', 'None/10', '4/10'], 'data...</td>\n",
       "      <td>1947.0</td>\n",
       "      <td>99216</td>\n",
       "      <td>3.0</td>\n",
       "      <td>WA</td>\n",
       "      <td>...</td>\n",
       "      <td>201916904</td>\n",
       "      <td>47.69</td>\n",
       "      <td>-117.19</td>\n",
       "      <td>2019</td>\n",
       "      <td>NaN</td>\n",
       "      <td>NaN</td>\n",
       "      <td>NaN</td>\n",
       "      <td>NaN</td>\n",
       "      <td>5828 sqft</td>\n",
       "      <td>4.0</td>\n",
       "    </tr>\n",
       "    <tr>\n",
       "      <th>2</th>\n",
       "      <td>for sale</td>\n",
       "      <td>single-family home</td>\n",
       "      <td>2005 Westridge Rd</td>\n",
       "      <td>2.0</td>\n",
       "      <td>los angeles</td>\n",
       "      <td>[{'rating': ['8/10', '4/10', '8/10'], 'data': ...</td>\n",
       "      <td>3000.0</td>\n",
       "      <td>90049</td>\n",
       "      <td>3.0</td>\n",
       "      <td>CA</td>\n",
       "      <td>...</td>\n",
       "      <td>fr19221027</td>\n",
       "      <td>34.08</td>\n",
       "      <td>-118.49</td>\n",
       "      <td>1961</td>\n",
       "      <td>1967</td>\n",
       "      <td>forced air</td>\n",
       "      <td>central</td>\n",
       "      <td>attached garage</td>\n",
       "      <td>8,626 sqft</td>\n",
       "      <td>6.7</td>\n",
       "    </tr>\n",
       "    <tr>\n",
       "      <th>3</th>\n",
       "      <td>for sale</td>\n",
       "      <td>single-family home</td>\n",
       "      <td>4311 Livingston Ave</td>\n",
       "      <td>8.0</td>\n",
       "      <td>dallas</td>\n",
       "      <td>[{'rating': ['9/10', '9/10', '10/10', '9/10'],...</td>\n",
       "      <td>6457.0</td>\n",
       "      <td>75205</td>\n",
       "      <td>5.0</td>\n",
       "      <td>TX</td>\n",
       "      <td>...</td>\n",
       "      <td>14191809</td>\n",
       "      <td>32.79</td>\n",
       "      <td>-96.76</td>\n",
       "      <td>2006</td>\n",
       "      <td>2006</td>\n",
       "      <td>forced air</td>\n",
       "      <td>central</td>\n",
       "      <td>detached garage</td>\n",
       "      <td>8,220 sqft</td>\n",
       "      <td>9.0</td>\n",
       "    </tr>\n",
       "    <tr>\n",
       "      <th>4</th>\n",
       "      <td>for sale</td>\n",
       "      <td>lot/land</td>\n",
       "      <td>1524 Kiscoe St</td>\n",
       "      <td>0.0</td>\n",
       "      <td>palm bay</td>\n",
       "      <td>[{'rating': ['4/10', '5/10', '5/10'], 'data': ...</td>\n",
       "      <td>NaN</td>\n",
       "      <td>32908</td>\n",
       "      <td>0.0</td>\n",
       "      <td>FL</td>\n",
       "      <td>...</td>\n",
       "      <td>861745</td>\n",
       "      <td>27.98</td>\n",
       "      <td>-80.66</td>\n",
       "      <td>NaN</td>\n",
       "      <td>NaN</td>\n",
       "      <td>NaN</td>\n",
       "      <td>NaN</td>\n",
       "      <td>NaN</td>\n",
       "      <td>10,019 sqft</td>\n",
       "      <td>4.7</td>\n",
       "    </tr>\n",
       "  </tbody>\n",
       "</table>\n",
       "<p>5 rows × 22 columns</p>\n",
       "</div>"
      ],
      "text/plain": [
       "     status        propertyType               street  baths            city  \\\n",
       "0    Active  Single Family Home       240 Heather Ln    3.5  southern pines   \n",
       "1  for sale  single-family home    12911 E Heroy Ave    3.0  spokane valley   \n",
       "2  for sale  single-family home    2005 Westridge Rd    2.0     los angeles   \n",
       "3  for sale  single-family home  4311 Livingston Ave    8.0          dallas   \n",
       "4  for sale            lot/land       1524 Kiscoe St    0.0        palm bay   \n",
       "\n",
       "                                             schools    sqft zipcode  beds  \\\n",
       "0  [{'rating': ['4', '4', '7', 'NR', '4', '7', 'N...  2900.0   28387   4.0   \n",
       "1  [{'rating': ['4/10', 'None/10', '4/10'], 'data...  1947.0   99216   3.0   \n",
       "2  [{'rating': ['8/10', '4/10', '8/10'], 'data': ...  3000.0   90049   3.0   \n",
       "3  [{'rating': ['9/10', '9/10', '10/10', '9/10'],...  6457.0   75205   5.0   \n",
       "4  [{'rating': ['4/10', '5/10', '5/10'], 'data': ...     NaN   32908   0.0   \n",
       "\n",
       "  state  ...         MLS  latitude longitude  Year built  Remodeled year  \\\n",
       "0    NC  ...      611019     35.18    -79.40        2019             NaN   \n",
       "1    WA  ...   201916904     47.69   -117.19        2019             NaN   \n",
       "2    CA  ...  fr19221027     34.08   -118.49        1961            1967   \n",
       "3    TX  ...    14191809     32.79    -96.76        2006            2006   \n",
       "4    FL  ...      861745     27.98    -80.66         NaN             NaN   \n",
       "\n",
       "                  Heating  Cooling          Parking      lotsize school_rate  \n",
       "0  central a/c, heat pump      NaN              NaN            0         5.2  \n",
       "1                     NaN      NaN              NaN    5828 sqft         4.0  \n",
       "2              forced air  central  attached garage   8,626 sqft         6.7  \n",
       "3              forced air  central  detached garage   8,220 sqft         9.0  \n",
       "4                     NaN      NaN              NaN  10,019 sqft         4.7  \n",
       "\n",
       "[5 rows x 22 columns]"
      ]
     },
     "execution_count": 96,
     "metadata": {},
     "output_type": "execute_result"
    }
   ],
   "source": [
    "# уберем явные комбинации символов, все буквы, и вычислим среднее\n",
    "school_rate = school_rate.str.replace('/10','')\n",
    "school_rate = school_rate.str.replace('[a-zA-Z]','', regex=True)\n",
    "school_rate = school_rate.str.findall(r'\\b([0-9])\\'')\n",
    "school_rate = school_rate.apply(lambda x: [float(i) for i in x])\n",
    "school_rate = school_rate.apply(lambda x: np.average([int(i) for i in x]))\n",
    "df['school_rate'] = school_rate.round(1)\n",
    "df.head()"
   ]
  },
  {
   "cell_type": "code",
   "execution_count": 97,
   "metadata": {},
   "outputs": [
    {
     "data": {
      "text/html": [
       "<div>\n",
       "<style scoped>\n",
       "    .dataframe tbody tr th:only-of-type {\n",
       "        vertical-align: middle;\n",
       "    }\n",
       "\n",
       "    .dataframe tbody tr th {\n",
       "        vertical-align: top;\n",
       "    }\n",
       "\n",
       "    .dataframe thead th {\n",
       "        text-align: right;\n",
       "    }\n",
       "</style>\n",
       "<table border=\"1\" class=\"dataframe\">\n",
       "  <thead>\n",
       "    <tr style=\"text-align: right;\">\n",
       "      <th></th>\n",
       "      <th>status</th>\n",
       "      <th>propertyType</th>\n",
       "      <th>street</th>\n",
       "      <th>baths</th>\n",
       "      <th>city</th>\n",
       "      <th>schools</th>\n",
       "      <th>sqft</th>\n",
       "      <th>zipcode</th>\n",
       "      <th>beds</th>\n",
       "      <th>state</th>\n",
       "      <th>...</th>\n",
       "      <th>latitude</th>\n",
       "      <th>longitude</th>\n",
       "      <th>Year built</th>\n",
       "      <th>Remodeled year</th>\n",
       "      <th>Heating</th>\n",
       "      <th>Cooling</th>\n",
       "      <th>Parking</th>\n",
       "      <th>lotsize</th>\n",
       "      <th>school_rate</th>\n",
       "      <th>school_dist</th>\n",
       "    </tr>\n",
       "  </thead>\n",
       "  <tbody>\n",
       "    <tr>\n",
       "      <th>0</th>\n",
       "      <td>Active</td>\n",
       "      <td>Single Family Home</td>\n",
       "      <td>240 Heather Ln</td>\n",
       "      <td>3.5</td>\n",
       "      <td>southern pines</td>\n",
       "      <td>[{'rating': ['4', '4', '7', 'NR', '4', '7', 'N...</td>\n",
       "      <td>2900.0</td>\n",
       "      <td>28387</td>\n",
       "      <td>4.0</td>\n",
       "      <td>NC</td>\n",
       "      <td>...</td>\n",
       "      <td>35.18</td>\n",
       "      <td>-79.40</td>\n",
       "      <td>2019</td>\n",
       "      <td>NaN</td>\n",
       "      <td>central a/c, heat pump</td>\n",
       "      <td>NaN</td>\n",
       "      <td>NaN</td>\n",
       "      <td>0</td>\n",
       "      <td>5.2</td>\n",
       "      <td>2.7</td>\n",
       "    </tr>\n",
       "    <tr>\n",
       "      <th>1</th>\n",
       "      <td>for sale</td>\n",
       "      <td>single-family home</td>\n",
       "      <td>12911 E Heroy Ave</td>\n",
       "      <td>3.0</td>\n",
       "      <td>spokane valley</td>\n",
       "      <td>[{'rating': ['4/10', 'None/10', '4/10'], 'data...</td>\n",
       "      <td>1947.0</td>\n",
       "      <td>99216</td>\n",
       "      <td>3.0</td>\n",
       "      <td>WA</td>\n",
       "      <td>...</td>\n",
       "      <td>47.69</td>\n",
       "      <td>-117.19</td>\n",
       "      <td>2019</td>\n",
       "      <td>NaN</td>\n",
       "      <td>NaN</td>\n",
       "      <td>NaN</td>\n",
       "      <td>NaN</td>\n",
       "      <td>5828 sqft</td>\n",
       "      <td>4.0</td>\n",
       "      <td>1.0</td>\n",
       "    </tr>\n",
       "    <tr>\n",
       "      <th>2</th>\n",
       "      <td>for sale</td>\n",
       "      <td>single-family home</td>\n",
       "      <td>2005 Westridge Rd</td>\n",
       "      <td>2.0</td>\n",
       "      <td>los angeles</td>\n",
       "      <td>[{'rating': ['8/10', '4/10', '8/10'], 'data': ...</td>\n",
       "      <td>3000.0</td>\n",
       "      <td>90049</td>\n",
       "      <td>3.0</td>\n",
       "      <td>CA</td>\n",
       "      <td>...</td>\n",
       "      <td>34.08</td>\n",
       "      <td>-118.49</td>\n",
       "      <td>1961</td>\n",
       "      <td>1967</td>\n",
       "      <td>forced air</td>\n",
       "      <td>central</td>\n",
       "      <td>attached garage</td>\n",
       "      <td>8,626 sqft</td>\n",
       "      <td>6.7</td>\n",
       "      <td>1.2</td>\n",
       "    </tr>\n",
       "    <tr>\n",
       "      <th>3</th>\n",
       "      <td>for sale</td>\n",
       "      <td>single-family home</td>\n",
       "      <td>4311 Livingston Ave</td>\n",
       "      <td>8.0</td>\n",
       "      <td>dallas</td>\n",
       "      <td>[{'rating': ['9/10', '9/10', '10/10', '9/10'],...</td>\n",
       "      <td>6457.0</td>\n",
       "      <td>75205</td>\n",
       "      <td>5.0</td>\n",
       "      <td>TX</td>\n",
       "      <td>...</td>\n",
       "      <td>32.79</td>\n",
       "      <td>-96.76</td>\n",
       "      <td>2006</td>\n",
       "      <td>2006</td>\n",
       "      <td>forced air</td>\n",
       "      <td>central</td>\n",
       "      <td>detached garage</td>\n",
       "      <td>8,220 sqft</td>\n",
       "      <td>9.0</td>\n",
       "      <td>0.1</td>\n",
       "    </tr>\n",
       "    <tr>\n",
       "      <th>4</th>\n",
       "      <td>for sale</td>\n",
       "      <td>lot/land</td>\n",
       "      <td>1524 Kiscoe St</td>\n",
       "      <td>0.0</td>\n",
       "      <td>palm bay</td>\n",
       "      <td>[{'rating': ['4/10', '5/10', '5/10'], 'data': ...</td>\n",
       "      <td>NaN</td>\n",
       "      <td>32908</td>\n",
       "      <td>0.0</td>\n",
       "      <td>FL</td>\n",
       "      <td>...</td>\n",
       "      <td>27.98</td>\n",
       "      <td>-80.66</td>\n",
       "      <td>NaN</td>\n",
       "      <td>NaN</td>\n",
       "      <td>NaN</td>\n",
       "      <td>NaN</td>\n",
       "      <td>NaN</td>\n",
       "      <td>10,019 sqft</td>\n",
       "      <td>4.7</td>\n",
       "      <td>3.0</td>\n",
       "    </tr>\n",
       "  </tbody>\n",
       "</table>\n",
       "<p>5 rows × 23 columns</p>\n",
       "</div>"
      ],
      "text/plain": [
       "     status        propertyType               street  baths            city  \\\n",
       "0    Active  Single Family Home       240 Heather Ln    3.5  southern pines   \n",
       "1  for sale  single-family home    12911 E Heroy Ave    3.0  spokane valley   \n",
       "2  for sale  single-family home    2005 Westridge Rd    2.0     los angeles   \n",
       "3  for sale  single-family home  4311 Livingston Ave    8.0          dallas   \n",
       "4  for sale            lot/land       1524 Kiscoe St    0.0        palm bay   \n",
       "\n",
       "                                             schools    sqft zipcode  beds  \\\n",
       "0  [{'rating': ['4', '4', '7', 'NR', '4', '7', 'N...  2900.0   28387   4.0   \n",
       "1  [{'rating': ['4/10', 'None/10', '4/10'], 'data...  1947.0   99216   3.0   \n",
       "2  [{'rating': ['8/10', '4/10', '8/10'], 'data': ...  3000.0   90049   3.0   \n",
       "3  [{'rating': ['9/10', '9/10', '10/10', '9/10'],...  6457.0   75205   5.0   \n",
       "4  [{'rating': ['4/10', '5/10', '5/10'], 'data': ...     NaN   32908   0.0   \n",
       "\n",
       "  state  ...  latitude  longitude Year built  Remodeled year  \\\n",
       "0    NC  ...     35.18     -79.40       2019             NaN   \n",
       "1    WA  ...     47.69    -117.19       2019             NaN   \n",
       "2    CA  ...     34.08    -118.49       1961            1967   \n",
       "3    TX  ...     32.79     -96.76       2006            2006   \n",
       "4    FL  ...     27.98     -80.66        NaN             NaN   \n",
       "\n",
       "                  Heating  Cooling          Parking      lotsize school_rate  \\\n",
       "0  central a/c, heat pump      NaN              NaN            0         5.2   \n",
       "1                     NaN      NaN              NaN    5828 sqft         4.0   \n",
       "2              forced air  central  attached garage   8,626 sqft         6.7   \n",
       "3              forced air  central  detached garage   8,220 sqft         9.0   \n",
       "4                     NaN      NaN              NaN  10,019 sqft         4.7   \n",
       "\n",
       "  school_dist  \n",
       "0         2.7  \n",
       "1         1.0  \n",
       "2         1.2  \n",
       "3         0.1  \n",
       "4         3.0  \n",
       "\n",
       "[5 rows x 23 columns]"
      ]
     },
     "execution_count": 97,
     "metadata": {},
     "output_type": "execute_result"
    }
   ],
   "source": [
    "school_dist = df['schools'].str.findall(r\"\\bDistance': ([\\s\\S]+?), 'Grades\\b\")\n",
    "school_dist = school_dist.apply(lambda x: x[0])\n",
    "school_dist = school_dist.str.replace('[a-zA-Z]','', regex=True)\n",
    "school_dist = school_dist.str.findall(r'\\b([0-9]+.[0-9]+)')\n",
    "school_dist = school_dist.apply(lambda x: [float(i) for i in x])\n",
    "school_dist = school_dist.apply(lambda x: -1 if len(x)==0 else min(x))\n",
    "df['school_dist'] = school_dist.round(1)\n",
    "df.head()"
   ]
  },
  {
   "cell_type": "code",
   "execution_count": 98,
   "metadata": {},
   "outputs": [
    {
     "name": "stdout",
     "output_type": "stream",
     "text": [
      "<class 'pandas.core.frame.DataFrame'>\n",
      "Int64Index: 374093 entries, 0 to 374233\n",
      "Data columns (total 22 columns):\n",
      " #   Column          Non-Null Count   Dtype  \n",
      "---  ------          --------------   -----  \n",
      " 0   status          334841 non-null  object \n",
      " 1   propertyType    339548 non-null  object \n",
      " 2   street          372265 non-null  object \n",
      " 3   baths           374093 non-null  float64\n",
      " 4   city            374059 non-null  object \n",
      " 5   sqft            322641 non-null  float64\n",
      " 6   zipcode         374093 non-null  object \n",
      " 7   beds            374093 non-null  float64\n",
      " 8   state           374093 non-null  object \n",
      " 9   target          374093 non-null  int64  \n",
      " 10  PoolPrivate     374093 non-null  int64  \n",
      " 11  MLS             374017 non-null  object \n",
      " 12  latitude        374093 non-null  float64\n",
      " 13  longitude       374093 non-null  float64\n",
      " 14  Year built      310890 non-null  object \n",
      " 15  Remodeled year  149484 non-null  object \n",
      " 16  Heating         228204 non-null  object \n",
      " 17  Cooling         232030 non-null  object \n",
      " 18  Parking         184491 non-null  object \n",
      " 19  lotsize         374093 non-null  object \n",
      " 20  school_rate     368348 non-null  float64\n",
      " 21  school_dist     374093 non-null  float64\n",
      "dtypes: float64(7), int64(2), object(13)\n",
      "memory usage: 73.7+ MB\n"
     ]
    }
   ],
   "source": [
    "# удаляем исходный признак\n",
    "df = df.drop('schools', axis=1)\n",
    "df.info()"
   ]
  },
  {
   "cell_type": "markdown",
   "metadata": {},
   "source": [
    "_____________"
   ]
  },
  {
   "cell_type": "markdown",
   "metadata": {},
   "source": [
    "##### Status - статус продажи"
   ]
  },
  {
   "cell_type": "code",
   "execution_count": 99,
   "metadata": {},
   "outputs": [
    {
     "name": "stdout",
     "output_type": "stream",
     "text": [
      "пропусков :  39252\n"
     ]
    },
    {
     "name": "stdout",
     "output_type": "stream",
     "text": [
      "пропусков в %:  10.0 %\n",
      "уникальных значений :  146\n"
     ]
    },
    {
     "data": {
      "text/plain": [
       "for sale                  199402\n",
       "active                    105192\n",
       "foreclosure                 6018\n",
       "new construction            5448\n",
       "pending                     4802\n",
       "                           ...  \n",
       "coming soon: dec 15.           1\n",
       "coming soon: dec 25.           1\n",
       "pending backups wanted         1\n",
       "coming soon: nov 23.           1\n",
       "coming soon: dec 23.           1\n",
       "Name: status, Length: 146, dtype: int64"
      ]
     },
     "execution_count": 99,
     "metadata": {},
     "output_type": "execute_result"
    }
   ],
   "source": [
    "# для начала переведем все записи в нижний регистр\n",
    "df['status'] = df['status'].str.lower()\n",
    "# оцениваем количество пропусков и смотрим разнообразие вариантов значений признака\n",
    "print('пропусков : ',df['status'].isna().sum())\n",
    "print('пропусков в %: ',round((df['status'].isna().sum()/df.shape[0]*100),0),'%')\n",
    "print('уникальных значений : ',df['status'].nunique())\n",
    "df['status'].value_counts()"
   ]
  },
  {
   "cell_type": "code",
   "execution_count": 100,
   "metadata": {},
   "outputs": [
    {
     "data": {
      "text/plain": [
       "for sale       199402\n",
       "active         105192\n",
       "foreclosure      9595\n",
       "new              6137\n",
       "pending          5359\n",
       "contract         3767\n",
       "other            2879\n",
       "auction          1330\n",
       "contingent       1070\n",
       "coming soon       110\n",
       "Name: status, dtype: int64"
      ]
     },
     "execution_count": 100,
     "metadata": {},
     "output_type": "execute_result"
    }
   ],
   "source": [
    "# произведем объединение в более обобщенные группы статусов\n",
    "df['status'] = df['status'].apply(lambda x: x if (type(x) is float) else 'coming soon' if 'soon' in x else x)\n",
    "df['status'] = df['status'].apply(lambda x: x if (type(x) is float) else 'foreclosure' if 'forecl' in x else x)\n",
    "df['status'] = df['status'].apply(lambda x: x if (type(x) is float) else 'auction' if 'auct' in x else x)\n",
    "df['status'] = df['status'].apply(lambda x: x if (type(x) is float) else 'new' if 'new' in x else x)\n",
    "df['status'] = df['status'].apply(lambda x: x if (type(x) is float) else 'pending' if 'pendi' in x else x)\n",
    "df['status'] = df['status'].apply(lambda x: x if (type(x) is float) else 'contingent' if 'conting' in x else x)\n",
    "df['status'] = df['status'].apply(lambda x: x if (type(x) is float) else 'contract' if 'contr' in x else x)\n",
    "\n",
    "list_other = ['p', 'a active', 'price change', 'back on market', 'active option', 'pf', 'c', 'pi',\n",
    "       'due diligence period', 'c continue show', 'active with offer', 'listing extended', 'active backup', \n",
    "       'ct', 'temporary active', 'closed', 'accepted offer', 'accepting backups', 'lease/purchase',\n",
    "       'ps', 're activated', 'reactivated', 'uc continue to show', 'backup']\n",
    "df['status'] = df['status'].apply(lambda x: x if (type(x) is float) else 'other' if x in list_other else x)\n",
    "\n",
    "df['status'].value_counts()"
   ]
  },
  {
   "cell_type": "markdown",
   "metadata": {},
   "source": [
    "_________________"
   ]
  },
  {
   "cell_type": "markdown",
   "metadata": {},
   "source": [
    "##### propertyType - тип объекта недвижимости"
   ]
  },
  {
   "cell_type": "code",
   "execution_count": 101,
   "metadata": {},
   "outputs": [
    {
     "name": "stdout",
     "output_type": "stream",
     "text": [
      "пропусков :  34545\n",
      "пропусков в %:  9.0 %\n",
      "уникальных значений :  1271\n"
     ]
    },
    {
     "data": {
      "text/plain": [
       "single-family home                                             91093\n",
       "single family                                                  61838\n",
       "condo                                                          42353\n",
       "single family home                                             31725\n",
       "lot/land                                                       20503\n",
       "                                                               ...  \n",
       "custom, elevated, other                                            1\n",
       "1 story, contemporary, traditional, mediterranean                  1\n",
       "2 stories, traditional, mediterranean, texas hill country          1\n",
       "loft, warehouse                                                    1\n",
       "bilevel, converted dwelling, loft with bedrooms, condo/unit        1\n",
       "Name: propertyType, Length: 1271, dtype: int64"
      ]
     },
     "execution_count": 101,
     "metadata": {},
     "output_type": "execute_result"
    }
   ],
   "source": [
    "# для начала переведем все записи в нижний регистр\n",
    "df['propertyType'] = df['propertyType'].str.lower()\n",
    "# оцениваем количество пропусков и смотрим разнообразие вариантов значений признака\n",
    "print('пропусков : ',df['propertyType'].isna().sum())\n",
    "print('пропусков в %: ',round((df['propertyType'].isna().sum()/df.shape[0]*100),0),'%')\n",
    "print('уникальных значений : ',df['propertyType'].nunique())\n",
    "df['propertyType'].value_counts()"
   ]
  },
  {
   "cell_type": "code",
   "execution_count": 102,
   "metadata": {},
   "outputs": [
    {
     "data": {
      "text/plain": [
       "array(['single family home', 'single-family home', 'lot/land',\n",
       "       'townhouse', 'florida', nan, 'single family', 'coop', 'english',\n",
       "       '2 story', 'multi-family', 'penthouse', 'multi-family home',\n",
       "       'condo', 'land', 'condo/townhome/row home/co-op', '', 'detached',\n",
       "       '1 story', 'other style', 'colonial', 'transitional', 'high rise',\n",
       "       'mobile/manufactured', 'tri-level', 'craftsman', 'single detached',\n",
       "       'federal', 'multi family', 'traditional', 'custom', 'cooperative',\n",
       "       'contemporary/modern', 'cape cod', 'mobile / manufactured',\n",
       "       'miscellaneous', 'mfd/mobile home', 'bungalow',\n",
       "       'spanish/mediterranean', 'contemporary', 'multi-level',\n",
       "       'condo/unit', '2 stories', 'ranch', 'low-rise (1-3 stories)',\n",
       "       'rancher', 'urban contemporary', 'two story', 'garden home',\n",
       "       'farms/ranches', 'a-frame', 'attached or 1/2 duplex', 'one story',\n",
       "       'georgian', 'dwelling with rental', 'victorian', 'apartment',\n",
       "       'cluster home', 'manufactured house', 'other',\n",
       "       'condominium (single level)', 'condo/townhome',\n",
       "       'condominium (2 levels)', 'hi ranch', 'mediterranean',\n",
       "       'garden apartment', 'cabin', 'bermuda', 'split (4 level)',\n",
       "       'farm house', 'split-level', 'singlefamilyresidence', 'log home',\n",
       "       'split level', 'bilevel', 'mountain contemporary', 'condominium',\n",
       "       'commercial/industrial', 'cottage', 'high-rise', 'mid-rise',\n",
       "       'tudor/provincial', 'straight thru', 'other (see remarks)',\n",
       "       'houseboat', 'mid-century modern', 'french provincial',\n",
       "       'garden/zero lot line', 'charleston', 'manufactured home',\n",
       "       '4+ floors', 'farm/ranch', 'split-entry', 'high-rise (8+ stories)',\n",
       "       'attached', 'co-op', 'residential (<1 acre)', 'french',\n",
       "       '1 1/2 story', 'unknown', '3 story', 'courtyard',\n",
       "       'resort property', 'elevated', 'multiple occupancy', 'tudor',\n",
       "       'designated historical home', '3+ stories', 'quad level',\n",
       "       'arts & crafts', 'multiplex', 'cape', 'fourplex', 'spanish',\n",
       "       'historical/conservation district', 'camp',\n",
       "       'residential (1+ acre)', 'santa barbara/tuscan', 'duplex',\n",
       "       'european', 'key west', 'bi-level', '1 1/2 story with basement',\n",
       "       'art deco', '2 stories with basement', 'coach/carriage',\n",
       "       'loft/balcony', 'mid-rise (4-7 stories)', 'farmhouse', 'split',\n",
       "       'less than 4 floors', 'carriage house', 'other arch (see remarks)',\n",
       "       '5-9 units', 'texas hill country', 'lake house',\n",
       "       '1 story with basement', 'high ranch', 'hi-rise',\n",
       "       'key west/coastal', 'dutch', 'mobile home 1 story', 'loft',\n",
       "       'raised ranch', 'split (3 level)', 'country english',\n",
       "       'attached duplex', 'territorial/santa fe', 'modernist',\n",
       "       'stilt house', 'coastal beach home', 'end unit', 'historical',\n",
       "       'cabin/lodge', 'coastal contemporary', 'condominium (3+ levels)',\n",
       "       'beaux arts', 'farmhouse/national folk', 'trinity', '4-plex',\n",
       "       'multi generational', 'conventional', 'french province',\n",
       "       'old style', 'historic/older', 'store & dwelling',\n",
       "       'manufactured single-wide', 'side-by-side', 'triplex', 'tuscan',\n",
       "       'chalet', '10+ units', 'gambrel', 'modern', 'step ranch',\n",
       "       'one level unit', 'rustic', 'patio', 'studio', '2-story',\n",
       "       'townhome style', 'yes', 'split (5+ level)', 'new build 2019',\n",
       "       'back-to-back', 'loft with bedrooms', 'airlite', 'single wide',\n",
       "       'architectural', 'low rise', 'coastal modern', 'coastal', 'flat',\n",
       "       'dwelling w/separate living area', 'american 4-square',\n",
       "       'split foyer', '1 story/ranch', 'modern farmhouse',\n",
       "       'farm/ranch house', 'old world', 'coastal two story',\n",
       "       'florida style', 'new englander', 'rustic contemporary', 'log',\n",
       "       'coastal ii', '2 unit condo', 'denver square',\n",
       "       'other - see remarks', 'manufactured (certificate exchange)',\n",
       "       'apartment building', 'antique', '30x40 building', 'carriage',\n",
       "       'patio home', 'post and beam', 'manuf/mobile',\n",
       "       'mobile manu - double wide', 'guest cottage',\n",
       "       'southern plantation', '2.5 story', 'mobile home',\n",
       "       'historic vintage', 'double-wide mobile with land',\n",
       "       'modular/prefab', 'hill country', '2 story condo', 'mid rise',\n",
       "       'expanded ranch', 'townhouse-interior',\n",
       "       'manufactured home - double wide', 'single wide mh', 'mid-level',\n",
       "       'georgian revival', 'garage storage',\n",
       "       'single-wide mobile with land', 'villa', 'cape cod shingle',\n",
       "       'manufactured double-wide', 'manor', 'victorian/federal',\n",
       "       'historic', 'forest garden home', 'custom home', 'walk-out ranch',\n",
       "       'mid-century', 'dutch provincial', '1 story traditional',\n",
       "       'mid century modern', 'townhouse-end unit', 'queen anne',\n",
       "       'ground floor', 'conversion', 'fairway house', 'dutch colonial',\n",
       "       'moorage', 'warehouse', 'prairie', 'cottage/camp'], dtype=object)"
      ]
     },
     "execution_count": 102,
     "metadata": {},
     "output_type": "execute_result"
    }
   ],
   "source": [
    "# судя по структуре, будем считать, что основной смысл этого поля содержится до первой запятой\n",
    "# выделим эту важную часть в отдельный столбец\n",
    "df['PrType'] = df['propertyType'].str.split(',').str[0]\n",
    "df['PrType'].unique()"
   ]
  },
  {
   "cell_type": "code",
   "execution_count": 103,
   "metadata": {},
   "outputs": [],
   "source": [
    "# разделим это разнообразие признаков на группы, которые мне показались логичными по описаниям/названиям\n",
    "# допускаю, что при большем опыте в этой сфере какие-то нюансы были бы более очевидны\n",
    "single_family = ['single-family home', 'single family', 'single family home', 'singlefamilyresidence',\n",
    "                 'single detached', 'single wide', 'single-wide mobile with land', \n",
    "                 'one story', 'two story', '1 story', '2 story', '2 stories', '1 story/ranch', '1 story traditional', \n",
    "                 '1 1/2 story', 'one story traditional', 'detached', 'single detached', \n",
    "                 'one level unit', 'rancher', 'single wide mh']\n",
    "townhouse = ['townhouse', 'townhouse-interior', 'townhouse-end unit', 'townhome style']\n",
    "modern = ['modern', 'modern farmhouse', 'modernist', 'contemporary', 'contemporary/modern', 'mid-century modern']\n",
    "multi_family = ['multi-family', 'multi family', 'multi-family home', 'duplex', 'triplex', 'fourplex']\n",
    "mobile = ['mobile/manufactured', 'mobile home 1 story', 'mobile manu - double wide', \n",
    "        'mfd/mobile home', 'mobile home', 'manufactured home', 'mobile / manufactured', 'manufactured house', \n",
    "         'manufactured double-wide', 'manufactured single-wide']\n",
    "condo = ['condo', 'high rise', 'condo/townhome/row home/co-op', 'condo/townhome',\n",
    "         'condominium (single level)', 'condo/unit', 'condominium',\n",
    "         'condominium (2 levels)', 'condominium (3+ levels)',\n",
    "         '2 unit condo', '2 story condo', 'coop', 'co-op', 'cooperative',\n",
    "          'mid-rise', 'low-rise (1-3 stories)',]\n",
    "land = ['land', 'lot/land']\n",
    "apart = ['apartment',  'Flats', 'studio']\n",
    "historic = ['historic', 'historical', 'designated historical home', 'historic vintage', \n",
    "            'historic/older', 'historical/conservation district', 'colonial']\n",
    "ranch = ['ranch', 'garden home', 'farms/ranches']\n",
    "prop_types = single_family + townhouse + modern + multi_family + mobile + condo + land + apart + historic + ranch\n"
   ]
  },
  {
   "cell_type": "code",
   "execution_count": 104,
   "metadata": {},
   "outputs": [
    {
     "data": {
      "text/plain": [
       "single family    195244\n",
       "condominium       57179\n",
       "other             47922\n",
       "land              31435\n",
       "townhouse         18436\n",
       "multi family      12163\n",
       "mobile             3535\n",
       "modern             3251\n",
       "ranch              2743\n",
       "historic           1390\n",
       "apart               795\n",
       "Name: PrType, dtype: int64"
      ]
     },
     "execution_count": 104,
     "metadata": {},
     "output_type": "execute_result"
    }
   ],
   "source": [
    "df['PrType'] = df['PrType'].apply(lambda x: x if x in prop_types else 'other')\n",
    "df['PrType'] = df['PrType'].apply(lambda x: 'single family' if x in single_family else x)\n",
    "df['PrType'] = df['PrType'].apply(lambda x: 'condominium' if x in condo else x)\n",
    "df['PrType'] = df['PrType'].apply(lambda x: 'land' if x in land else x)\n",
    "df['PrType'] = df['PrType'].apply(lambda x: 'townhouse' if x in townhouse else x)\n",
    "df['PrType'] = df['PrType'].apply(lambda x: 'multi family' if x in multi_family else x)\n",
    "df['PrType'] = df['PrType'].apply(lambda x: 'mobile' if x in mobile else x)\n",
    "df['PrType'] = df['PrType'].apply(lambda x: 'modern' if x in modern else x)\n",
    "df['PrType'] = df['PrType'].apply(lambda x: 'ranch' if x in ranch else x)\n",
    "df['PrType'] = df['PrType'].apply(lambda x: 'apart' if x in apart else x)\n",
    "df['PrType'] = df['PrType'].apply(lambda x: 'historic' if x in historic else x)\n",
    "df['PrType'].value_counts()"
   ]
  },
  {
   "cell_type": "code",
   "execution_count": 105,
   "metadata": {},
   "outputs": [],
   "source": [
    "df = df.drop(['propertyType'], axis=1)"
   ]
  },
  {
   "cell_type": "markdown",
   "metadata": {},
   "source": [
    "____________"
   ]
  },
  {
   "cell_type": "markdown",
   "metadata": {},
   "source": [
    "##### Повторно пройдем по признакам с пропусками с учетом всех доработок"
   ]
  },
  {
   "cell_type": "code",
   "execution_count": 106,
   "metadata": {},
   "outputs": [
    {
     "name": "stdout",
     "output_type": "stream",
     "text": [
      "Всего записей в датасете :  374093\n"
     ]
    },
    {
     "data": {
      "text/plain": [
       "Remodeled year    224609\n",
       "Parking           189602\n",
       "Heating           145889\n",
       "Cooling           142063\n",
       "Year built         63203\n",
       "sqft               51452\n",
       "status             39252\n",
       "school_rate         5745\n",
       "street              1828\n",
       "MLS                   76\n",
       "city                  34\n",
       "school_dist            0\n",
       "lotsize                0\n",
       "latitude               0\n",
       "longitude              0\n",
       "PoolPrivate            0\n",
       "target                 0\n",
       "state                  0\n",
       "beds                   0\n",
       "zipcode                0\n",
       "baths                  0\n",
       "PrType                 0\n",
       "dtype: int64"
      ]
     },
     "execution_count": 106,
     "metadata": {},
     "output_type": "execute_result"
    }
   ],
   "source": [
    "# отсортируем признаки по убыванию доли пустых значений\n",
    "print('Всего записей в датасете : ',df.shape[0])\n",
    "df.isna().sum().sort_values(ascending=False)"
   ]
  },
  {
   "cell_type": "code",
   "execution_count": 107,
   "metadata": {},
   "outputs": [
    {
     "data": {
      "text/plain": [
       "land             26934\n",
       "other            16311\n",
       "single family    14325\n",
       "townhouse         2154\n",
       "condominium       1556\n",
       "multi family       190\n",
       "ranch              154\n",
       "apart              132\n",
       "mobile              58\n",
       "modern              30\n",
       "historic            27\n",
       "Name: PrType, dtype: int64"
      ]
     },
     "execution_count": 107,
     "metadata": {},
     "output_type": "execute_result"
    }
   ],
   "source": [
    "# Посмотрим срез по годам постройки и реставрации в предположении, что данные отсутствуют только у продаваемых участков\n",
    "# Отсутствие года ремонта может обозначать его отсутствие для новых домов, например, но это можно выяснить \n",
    "# при наличии и года постройки, а с ними тоже проблема\n",
    "df[(df['Remodeled year'].isna())&(df['Year built']).isna()]['PrType'].value_counts()"
   ]
  },
  {
   "cell_type": "code",
   "execution_count": 108,
   "metadata": {},
   "outputs": [],
   "source": [
    "# неутешительно, на продажу участков земли приходится достаточно небольшая доля пропусков\n",
    "# год ремонта - удаляем\n",
    "df = df.drop('Remodeled year', axis=1)"
   ]
  },
  {
   "cell_type": "code",
   "execution_count": 109,
   "metadata": {},
   "outputs": [
    {
     "data": {
      "text/plain": [
       "single family    63539\n",
       "other            47837\n",
       "land             29585\n",
       "condominium      25880\n",
       "townhouse         7210\n",
       "multi family      5794\n",
       "modern            3251\n",
       "ranch             2717\n",
       "mobile            1768\n",
       "historic          1390\n",
       "apart              631\n",
       "Name: PrType, dtype: int64"
      ]
     },
     "execution_count": 109,
     "metadata": {},
     "output_type": "execute_result"
    }
   ],
   "source": [
    "# Паркинг проверим по типам объектов с тем же расчетом - могли не указывать к голым участкам\n",
    "df[df['Parking'].isna()]['PrType'].value_counts()"
   ]
  },
  {
   "cell_type": "code",
   "execution_count": 110,
   "metadata": {},
   "outputs": [],
   "source": [
    "# Не верится, что в стране, где пешком почти никто не ходит, у половины домов в продаже отсутствует парковка\n",
    "# Видимо, признак считают неважным и заполняют как попало. Удаляем.\n",
    "df = df.drop('Parking', axis=1)"
   ]
  },
  {
   "cell_type": "code",
   "execution_count": 111,
   "metadata": {},
   "outputs": [],
   "source": [
    "# Heating и Cooling - однотипная ситуация. Поля без выпадающих списков для выбора,\n",
    "# куча рукописных вариантов, причем многое даже не относится к заполняемому параметру\n",
    "# смысл этих полей вижу не в наличии/отсутствии отопления, т.к. странно представить \n",
    "# такого рода дома в массовой продаже, а скорее в определении типа отопления/охлаждения.\n",
    "# К сожалению, объем трудозатрат оставляет эту проработку только в теории. Удаляем оба.\n",
    "df = df.drop(['Heating','Cooling'], axis=1)"
   ]
  },
  {
   "cell_type": "code",
   "execution_count": 112,
   "metadata": {},
   "outputs": [
    {
     "data": {
      "text/plain": [
       "land             26942\n",
       "other            17569\n",
       "single family    14342\n",
       "townhouse         2157\n",
       "condominium       1591\n",
       "multi family       194\n",
       "ranch              156\n",
       "apart              133\n",
       "mobile              58\n",
       "modern              32\n",
       "historic            29\n",
       "Name: PrType, dtype: int64"
      ]
     },
     "execution_count": 112,
     "metadata": {},
     "output_type": "execute_result"
    }
   ],
   "source": [
    "# Далее по рейтингу идут признаки с пробелами менее 30% от объема выборки, поэтому смотрим внимательнее.\n",
    "# Год постройки заполнен далеко не во всех записях. Где-то обоснованно (продается участок), а где-то нет.\n",
    "df[df['Year built'].isna()]['PrType'].value_counts()"
   ]
  },
  {
   "cell_type": "code",
   "execution_count": 113,
   "metadata": {},
   "outputs": [],
   "source": [
    "# Достаточно большая часть пробелов - оправданно отсутствующие даты. Заполним значением 'no data'\n",
    "df['Year built'] = df['Year built'].fillna('no data')"
   ]
  },
  {
   "cell_type": "code",
   "execution_count": 114,
   "metadata": {},
   "outputs": [
    {
     "data": {
      "text/plain": [
       "land             27333\n",
       "other            17098\n",
       "single family     3084\n",
       "condominium       2012\n",
       "multi family       874\n",
       "townhouse          348\n",
       "ranch              256\n",
       "mobile             227\n",
       "historic           155\n",
       "apart               33\n",
       "modern              32\n",
       "Name: PrType, dtype: int64"
      ]
     },
     "execution_count": 114,
     "metadata": {},
     "output_type": "execute_result"
    }
   ],
   "source": [
    "# Далее важный признак площади - sqft. Максимльно заполнили из других полей, где обнаруживались данные\n",
    "df[df['sqft'].isna()]['PrType'].value_counts()"
   ]
  },
  {
   "cell_type": "code",
   "execution_count": 115,
   "metadata": {},
   "outputs": [],
   "source": [
    "# Остальное заполним нулями, т.к. в основном пробелы в площади дома касаются продаваемых участков\n",
    "df['sqft'] = df['sqft'].fillna(0.0)"
   ]
  },
  {
   "cell_type": "code",
   "execution_count": 116,
   "metadata": {},
   "outputs": [],
   "source": [
    "# В поле status заполним пробелы значением no status, т.к. дополнительной информации в этой части не добавилось\n",
    "df['status'] = df['status'].fillna('no status')"
   ]
  },
  {
   "cell_type": "code",
   "execution_count": 117,
   "metadata": {},
   "outputs": [
    {
     "data": {
      "text/plain": [
       "2103 E State Hwy 21      57\n",
       "11305 Gulf Fwy           54\n",
       "17030 Youngblood Rd.     38\n",
       "NE 58th Cir              34\n",
       "9470 Lancaster Rd. SW    32\n",
       "                         ..\n",
       "2705 S Beulah St          1\n",
       "1398 Vander Ave           1\n",
       "3439 Summerway Dr         1\n",
       "1809 Bamboo St            1\n",
       "7810 Pereida St           1\n",
       "Name: street, Length: 298507, dtype: int64"
      ]
     },
     "execution_count": 117,
     "metadata": {},
     "output_type": "execute_result"
    }
   ],
   "source": [
    "df['street'].value_counts()"
   ]
  },
  {
   "cell_type": "code",
   "execution_count": 118,
   "metadata": {},
   "outputs": [
    {
     "data": {
      "text/plain": [
       "1828"
      ]
     },
     "execution_count": 118,
     "metadata": {},
     "output_type": "execute_result"
    }
   ],
   "source": [
    "df['street'].isna().sum()"
   ]
  },
  {
   "cell_type": "code",
   "execution_count": 119,
   "metadata": {},
   "outputs": [],
   "source": [
    "# пробелы в рейтингах школ заполним нулями\n",
    "df['school_rate'] = df['school_rate'].fillna('0')\n",
    "df['school_rate'] = df['school_rate'].astype(float)"
   ]
  },
  {
   "cell_type": "code",
   "execution_count": 120,
   "metadata": {},
   "outputs": [],
   "source": [
    "# пробелы в адресе заполним значениями 'no address'\n",
    "df['street'] = df['street'].fillna('no address')"
   ]
  },
  {
   "cell_type": "code",
   "execution_count": 121,
   "metadata": {},
   "outputs": [],
   "source": [
    "# пробелы в городах заполним no city\n",
    "df['city'] = df['city'].fillna('no city')"
   ]
  },
  {
   "cell_type": "code",
   "execution_count": 122,
   "metadata": {},
   "outputs": [],
   "source": [
    "# пробелы в индексах MLS заполним no MLS\n",
    "df['MLS'] = df['MLS'].fillna('no MLS')"
   ]
  },
  {
   "cell_type": "code",
   "execution_count": 123,
   "metadata": {},
   "outputs": [
    {
     "name": "stdout",
     "output_type": "stream",
     "text": [
      "<class 'pandas.core.frame.DataFrame'>\n",
      "Int64Index: 374093 entries, 0 to 374233\n",
      "Data columns (total 18 columns):\n",
      " #   Column       Non-Null Count   Dtype  \n",
      "---  ------       --------------   -----  \n",
      " 0   status       374093 non-null  object \n",
      " 1   street       374093 non-null  object \n",
      " 2   baths        374093 non-null  float64\n",
      " 3   city         374093 non-null  object \n",
      " 4   sqft         374093 non-null  float64\n",
      " 5   zipcode      374093 non-null  object \n",
      " 6   beds         374093 non-null  float64\n",
      " 7   state        374093 non-null  object \n",
      " 8   target       374093 non-null  int64  \n",
      " 9   PoolPrivate  374093 non-null  int64  \n",
      " 10  MLS          374093 non-null  object \n",
      " 11  latitude     374093 non-null  float64\n",
      " 12  longitude    374093 non-null  float64\n",
      " 13  Year built   374093 non-null  object \n",
      " 14  lotsize      374093 non-null  object \n",
      " 15  school_rate  374093 non-null  float64\n",
      " 16  school_dist  374093 non-null  float64\n",
      " 17  PrType       374093 non-null  object \n",
      "dtypes: float64(7), int64(2), object(9)\n",
      "memory usage: 62.3+ MB\n"
     ]
    }
   ],
   "source": [
    "df.info()"
   ]
  },
  {
   "cell_type": "markdown",
   "metadata": {},
   "source": [
    "___________"
   ]
  },
  {
   "cell_type": "code",
   "execution_count": 124,
   "metadata": {},
   "outputs": [
    {
     "data": {
      "text/plain": [
       "13678"
      ]
     },
     "execution_count": 124,
     "metadata": {},
     "output_type": "execute_result"
    }
   ],
   "source": [
    "# проверим, есть ли строки, в которых одновременно отсутствует информация о площади как дома, так и участка\n",
    "df[(df['sqft'] == 0.0) & (df['lotsize'] == 0.0)].shape[0]"
   ]
  },
  {
   "cell_type": "code",
   "execution_count": 125,
   "metadata": {},
   "outputs": [],
   "source": [
    "# по этой комбинации нет никаких сомнений, эти записи бесполезны, удаляем\n",
    "df = df[~((df['sqft'] == 0.0) & (df['lotsize'] == 0.0))]"
   ]
  },
  {
   "cell_type": "code",
   "execution_count": 126,
   "metadata": {},
   "outputs": [
    {
     "data": {
      "text/plain": [
       "622"
      ]
     },
     "execution_count": 126,
     "metadata": {},
     "output_type": "execute_result"
    }
   ],
   "source": [
    "# проверим датасет на появившиеся полные дубликаты\n",
    "df.duplicated().sum()"
   ]
  },
  {
   "cell_type": "code",
   "execution_count": 127,
   "metadata": {},
   "outputs": [],
   "source": [
    "# удалим дубликаты\n",
    "df = df.drop_duplicates()"
   ]
  },
  {
   "cell_type": "code",
   "execution_count": 128,
   "metadata": {},
   "outputs": [
    {
     "name": "stdout",
     "output_type": "stream",
     "text": [
      "status  -  978\n",
      "street  -  983\n",
      "baths  -  63\n",
      "city  -  21\n",
      "sqft  -  19\n",
      "zipcode  -  0\n",
      "beds  -  1\n"
     ]
    },
    {
     "name": "stdout",
     "output_type": "stream",
     "text": [
      "state  -  0\n",
      "target  -  145\n",
      "PoolPrivate  -  43\n",
      "MLS  -  137\n",
      "latitude  -  0\n",
      "longitude  -  0\n",
      "Year built  -  70\n",
      "lotsize  -  1536\n",
      "school_rate  -  253\n",
      "school_dist  -  767\n",
      "PrType  -  3\n"
     ]
    }
   ],
   "source": [
    "# проверим наличие дублей при исключении из датасета того или иного поля\n",
    "columns = df.columns\n",
    "for column in columns:\n",
    "    print(column, ' - ',df.drop(columns=column, axis=1).duplicated().sum())"
   ]
  },
  {
   "cell_type": "code",
   "execution_count": 129,
   "metadata": {},
   "outputs": [
    {
     "data": {
      "text/plain": [
       "5016"
      ]
     },
     "execution_count": 129,
     "metadata": {},
     "output_type": "execute_result"
    }
   ],
   "source": [
    "# Удалим эти дубликаты, при этом оставим наиболее свежие записи из дублирующихся\n",
    "# в предположении, что это максимально актуальная информация\n",
    "df_status = list(df[df.drop('status', axis=1).duplicated(keep='last')].index)\n",
    "df_street = list(df[df.drop('street', axis=1).duplicated(keep='last')].index)\n",
    "df_baths = list(df[df.drop('baths', axis=1).duplicated(keep='last')].index)\n",
    "df_city = list(df[df.drop('city', axis=1).duplicated(keep='last')].index)\n",
    "df_sqft = list(df[df.drop('sqft', axis=1).duplicated(keep='last')].index)\n",
    "df_beds = list(df[df.drop('beds', axis=1).duplicated(keep='last')].index)\n",
    "df_target = list(df[df.drop('target', axis=1).duplicated(keep='last')].index)\n",
    "df_PoolPrivate = list(df[df.drop('PoolPrivate', axis=1).duplicated(keep='last')].index)\n",
    "df_MLS = list(df[df.drop('MLS', axis=1).duplicated(keep='last')].index)\n",
    "df_Yearbuilt = list(df[df.drop('Year built', axis=1).duplicated(keep='last')].index)\n",
    "df_lotsize = list(df[df.drop('lotsize', axis=1).duplicated(keep='last')].index)\n",
    "df_school_rate = list(df[df.drop('school_rate', axis=1).duplicated(keep='last')].index)\n",
    "df_school_dist = list(df[df.drop('school_dist', axis=1).duplicated(keep='last')].index)\n",
    "df_PrType = list(df[df.drop('PrType', axis=1).duplicated(keep='last')].index)\n",
    "index_set = set(df_status +\n",
    "                df_street +\n",
    "                df_baths +\n",
    "                df_city +\n",
    "                df_sqft +\n",
    "                df_beds +\n",
    "                df_target +\n",
    "                df_PoolPrivate +\n",
    "                df_MLS +\n",
    "                df_Yearbuilt +\n",
    "                df_lotsize +\n",
    "                df_school_rate +\n",
    "                df_school_dist +\n",
    "                df_PrType)\n",
    "len(index_set)"
   ]
  },
  {
   "cell_type": "code",
   "execution_count": 130,
   "metadata": {},
   "outputs": [],
   "source": [
    "# Удалим эти дубликаты, при этом оставим наиболее свежие записи из дублирующихся\n",
    "# в предположении, что это максимально актуальная информация\n",
    "df = df.drop(index_set, axis=0)"
   ]
  },
  {
   "cell_type": "code",
   "execution_count": 131,
   "metadata": {},
   "outputs": [
    {
     "name": "stdout",
     "output_type": "stream",
     "text": [
      "status  -  0\n",
      "street  -  0\n",
      "baths  -  0\n",
      "city  -  0\n",
      "sqft  -  0\n",
      "zipcode  -  0\n",
      "beds  -  0\n",
      "state  -  0\n",
      "target  -  0\n",
      "PoolPrivate  -  0\n",
      "MLS  -  0\n",
      "latitude  -  0\n",
      "longitude  -  0\n",
      "Year built  -  0\n",
      "lotsize  -  0\n",
      "school_rate  -  0\n",
      "school_dist  -  0\n",
      "PrType  -  0\n"
     ]
    }
   ],
   "source": [
    "# проверим еще раз наличие дублей при исключении из датасета того или иного поля\n",
    "columns = df.columns\n",
    "for column in columns:\n",
    "    print(column, ' - ',df.drop(columns=column, axis=1).duplicated().sum())"
   ]
  },
  {
   "cell_type": "markdown",
   "metadata": {},
   "source": [
    "Будем считать первичную обработку датасета законченной."
   ]
  },
  {
   "cell_type": "code",
   "execution_count": 132,
   "metadata": {},
   "outputs": [],
   "source": [
    "df.to_csv('data/data_1.csv', index=False)"
   ]
  },
  {
   "cell_type": "markdown",
   "metadata": {},
   "source": [
    "________________"
   ]
  }
 ],
 "metadata": {
  "kernelspec": {
   "display_name": "Python 3",
   "language": "python",
   "name": "python3"
  },
  "language_info": {
   "codemirror_mode": {
    "name": "ipython",
    "version": 3
   },
   "file_extension": ".py",
   "mimetype": "text/x-python",
   "name": "python",
   "nbconvert_exporter": "python",
   "pygments_lexer": "ipython3",
   "version": "3.9.10"
  }
 },
 "nbformat": 4,
 "nbformat_minor": 2
}
